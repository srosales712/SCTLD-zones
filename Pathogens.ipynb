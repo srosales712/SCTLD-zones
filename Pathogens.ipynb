{
 "cells": [
  {
   "cell_type": "code",
   "execution_count": 25,
   "id": "3538cda4-5b01-40d7-9534-d892eea16016",
   "metadata": {},
   "outputs": [
    {
     "data": {
      "text/plain": [
       "[1] ‘2.0.0’"
      ]
     },
     "metadata": {},
     "output_type": "display_data"
    }
   ],
   "source": [
    "library(qiime2R)\n",
    "library(phyloseq)\n",
    "library(microViz)\n",
    "library(tidyverse) ; packageVersion(\"tidyverse\")\n",
    "library(ggpubr)\n",
    "library(\"RColorBrewer\")"
   ]
  },
  {
   "cell_type": "code",
   "execution_count": 2,
   "id": "ee0f7e4a-2aee-4539-a3f9-e45046516102",
   "metadata": {},
   "outputs": [],
   "source": [
    "colors <- c(\"#FAD02E\", \"#F28D35\", \"#DA5724\", \"#C52E6D\", \"#D14285\",\n",
    "\"#AD6F3B\", \"#6B5B95\", \"#8569D5\", \"#6F8FAF\", \"#5F7FC7\",\n",
    "\"#56B4E9\", \"#40B5AD\", \"#8A7C64\", \"#CBD588\", \"#5E738F\",\n",
    "\"#673770\", \"#006700\", \"#CD9BCD\", \"#D1A33D\", \"#D14285\",\n",
    "\"#FAD02E\", \"#F28D35\", \"#C52E6D\", \"#6B5B95\", \"grey\", \"#AD6F3B\",\n",
    " \"#56B4E9\", \"#40B5AD\", \"#CBD588\",\n",
    "\"#5E738F\", \"#673770\", \"#006700\", \"#CD9BCD\", \"#D1A33D\",\n",
    "\"#FAD02E\", \"#F28D35\", \"#C52E6D\", \"#6B5B95\", \"#AD6F3B\",\n",
    "\"#6F8FAF\", \"#8A7C64\", \"#56B4E9\")"
   ]
  },
  {
   "cell_type": "code",
   "execution_count": 3,
   "id": "1c8831cc-809f-449f-804b-90659f8db0ff",
   "metadata": {},
   "outputs": [
    {
     "data": {
      "text/html": [
       "<style>\n",
       ".list-inline {list-style: none; margin:0; padding: 0}\n",
       ".list-inline>li {display: inline-block}\n",
       ".list-inline>li:not(:last-child)::after {content: \"\\00b7\"; padding: 0 .5ex}\n",
       "</style>\n",
       "<ol class=list-inline><li>'0036a402829562115899284c8a26a800'</li><li>'00ac46bacb5e2de442857f0969b3b198'</li><li>'01579fdd97b1f685abfb5e352cd2d615'</li><li>'017a88c8350a114ea8e5f468ad2e600b'</li><li>'017b84b388e37179c25d91efeff999bf'</li><li>'01a1466ad844b0d1ceddcad63732afd5'</li></ol>\n"
      ],
      "text/latex": [
       "\\begin{enumerate*}\n",
       "\\item '0036a402829562115899284c8a26a800'\n",
       "\\item '00ac46bacb5e2de442857f0969b3b198'\n",
       "\\item '01579fdd97b1f685abfb5e352cd2d615'\n",
       "\\item '017a88c8350a114ea8e5f468ad2e600b'\n",
       "\\item '017b84b388e37179c25d91efeff999bf'\n",
       "\\item '01a1466ad844b0d1ceddcad63732afd5'\n",
       "\\end{enumerate*}\n"
      ],
      "text/markdown": [
       "1. '0036a402829562115899284c8a26a800'\n",
       "2. '00ac46bacb5e2de442857f0969b3b198'\n",
       "3. '01579fdd97b1f685abfb5e352cd2d615'\n",
       "4. '017a88c8350a114ea8e5f468ad2e600b'\n",
       "5. '017b84b388e37179c25d91efeff999bf'\n",
       "6. '01a1466ad844b0d1ceddcad63732afd5'\n",
       "\n",
       "\n"
      ],
      "text/plain": [
       "[1] \"0036a402829562115899284c8a26a800\" \"00ac46bacb5e2de442857f0969b3b198\"\n",
       "[3] \"01579fdd97b1f685abfb5e352cd2d615\" \"017a88c8350a114ea8e5f468ad2e600b\"\n",
       "[5] \"017b84b388e37179c25d91efeff999bf\" \"01a1466ad844b0d1ceddcad63732afd5\""
      ]
     },
     "metadata": {},
     "output_type": "display_data"
    }
   ],
   "source": [
    "#list of ASVs previously found associated with SCTLD\n",
    "pathID = scan(\"/Users/stephanie.rosales/Documents/Tissueloss/EPA2/pathIds.txt\",\n",
    "                what = \"\", quiet=TRUE) \n",
    "head(pathID)\n"
   ]
  },
  {
   "cell_type": "code",
   "execution_count": 4,
   "id": "dedea27a-10dd-4255-971d-172645ec042b",
   "metadata": {},
   "outputs": [
    {
     "data": {
      "text/html": [
       "<table class=\"dataframe\">\n",
       "<caption>A data.frame: 2 × 45</caption>\n",
       "<thead>\n",
       "\t<tr><th></th><th scope=col>samp</th><th scope=col>Sample.ID</th><th scope=col>Site</th><th scope=col>Site.Name</th><th scope=col>Region</th><th scope=col>Project</th><th scope=col>Type</th><th scope=col>Species_sample</th><th scope=col>Sample.Type</th><th scope=col>Site.Status</th><th scope=col>⋯</th><th scope=col>Types</th><th scope=col>Vul_coral</th><th scope=col>End_coral</th><th scope=col>Epi_coral</th><th scope=col>Vul_sed</th><th scope=col>End_sed</th><th scope=col>Epi_sed</th><th scope=col>Vul_wat</th><th scope=col>End_wat</th><th scope=col>Epi_wat</th></tr>\n",
       "\t<tr><th></th><th scope=col>&lt;chr&gt;</th><th scope=col>&lt;chr&gt;</th><th scope=col>&lt;chr&gt;</th><th scope=col>&lt;chr&gt;</th><th scope=col>&lt;chr&gt;</th><th scope=col>&lt;chr&gt;</th><th scope=col>&lt;fct&gt;</th><th scope=col>&lt;chr&gt;</th><th scope=col>&lt;chr&gt;</th><th scope=col>&lt;fct&gt;</th><th scope=col>⋯</th><th scope=col>&lt;int&gt;</th><th scope=col>&lt;int&gt;</th><th scope=col>&lt;int&gt;</th><th scope=col>&lt;int&gt;</th><th scope=col>&lt;int&gt;</th><th scope=col>&lt;int&gt;</th><th scope=col>&lt;int&gt;</th><th scope=col>&lt;int&gt;</th><th scope=col>&lt;int&gt;</th><th scope=col>&lt;int&gt;</th></tr>\n",
       "</thead>\n",
       "<tbody>\n",
       "\t<tr><th scope=row>518.H</th><td>518.H_S18</td><td>518.H_S18</td><td>Site-G</td><td>Xesto.Patch</td><td>Lower Keys</td><td>SWG</td><td>Coral</td><td>OFAV</td><td>Healthy</td><td>Vulnerable</td><td>⋯</td><td>0</td><td>1</td><td>0</td><td>0</td><td>0</td><td>0</td><td>0</td><td>0</td><td>0</td><td>0</td></tr>\n",
       "\t<tr><th scope=row>519.H</th><td>519.H_S18</td><td>519.H_S18</td><td>Site-G</td><td>Xesto.Patch</td><td>Lower Keys</td><td>SWG</td><td>Coral</td><td>OFAV</td><td>Healthy</td><td>Vulnerable</td><td>⋯</td><td>0</td><td>1</td><td>0</td><td>0</td><td>0</td><td>0</td><td>0</td><td>0</td><td>0</td><td>0</td></tr>\n",
       "</tbody>\n",
       "</table>\n"
      ],
      "text/latex": [
       "A data.frame: 2 × 45\n",
       "\\begin{tabular}{r|lllllllllllllllllllll}\n",
       "  & samp & Sample.ID & Site & Site.Name & Region & Project & Type & Species\\_sample & Sample.Type & Site.Status & ⋯ & Types & Vul\\_coral & End\\_coral & Epi\\_coral & Vul\\_sed & End\\_sed & Epi\\_sed & Vul\\_wat & End\\_wat & Epi\\_wat\\\\\n",
       "  & <chr> & <chr> & <chr> & <chr> & <chr> & <chr> & <fct> & <chr> & <chr> & <fct> & ⋯ & <int> & <int> & <int> & <int> & <int> & <int> & <int> & <int> & <int> & <int>\\\\\n",
       "\\hline\n",
       "\t518.H & 518.H\\_S18 & 518.H\\_S18 & Site-G & Xesto.Patch & Lower Keys & SWG & Coral & OFAV & Healthy & Vulnerable & ⋯ & 0 & 1 & 0 & 0 & 0 & 0 & 0 & 0 & 0 & 0\\\\\n",
       "\t519.H & 519.H\\_S18 & 519.H\\_S18 & Site-G & Xesto.Patch & Lower Keys & SWG & Coral & OFAV & Healthy & Vulnerable & ⋯ & 0 & 1 & 0 & 0 & 0 & 0 & 0 & 0 & 0 & 0\\\\\n",
       "\\end{tabular}\n"
      ],
      "text/markdown": [
       "\n",
       "A data.frame: 2 × 45\n",
       "\n",
       "| <!--/--> | samp &lt;chr&gt; | Sample.ID &lt;chr&gt; | Site &lt;chr&gt; | Site.Name &lt;chr&gt; | Region &lt;chr&gt; | Project &lt;chr&gt; | Type &lt;fct&gt; | Species_sample &lt;chr&gt; | Sample.Type &lt;chr&gt; | Site.Status &lt;fct&gt; | ⋯ ⋯ | Types &lt;int&gt; | Vul_coral &lt;int&gt; | End_coral &lt;int&gt; | Epi_coral &lt;int&gt; | Vul_sed &lt;int&gt; | End_sed &lt;int&gt; | Epi_sed &lt;int&gt; | Vul_wat &lt;int&gt; | End_wat &lt;int&gt; | Epi_wat &lt;int&gt; |\n",
       "|---|---|---|---|---|---|---|---|---|---|---|---|---|---|---|---|---|---|---|---|---|---|\n",
       "| 518.H | 518.H_S18 | 518.H_S18 | Site-G | Xesto.Patch | Lower Keys | SWG | Coral | OFAV | Healthy | Vulnerable | ⋯ | 0 | 1 | 0 | 0 | 0 | 0 | 0 | 0 | 0 | 0 |\n",
       "| 519.H | 519.H_S18 | 519.H_S18 | Site-G | Xesto.Patch | Lower Keys | SWG | Coral | OFAV | Healthy | Vulnerable | ⋯ | 0 | 1 | 0 | 0 | 0 | 0 | 0 | 0 | 0 | 0 |\n",
       "\n"
      ],
      "text/plain": [
       "      samp      Sample.ID Site   Site.Name   Region     Project Type \n",
       "518.H 518.H_S18 518.H_S18 Site-G Xesto.Patch Lower Keys SWG     Coral\n",
       "519.H 519.H_S18 519.H_S18 Site-G Xesto.Patch Lower Keys SWG     Coral\n",
       "      Species_sample Sample.Type Site.Status ⋯ Types Vul_coral End_coral\n",
       "518.H OFAV           Healthy     Vulnerable  ⋯ 0     1         0        \n",
       "519.H OFAV           Healthy     Vulnerable  ⋯ 0     1         0        \n",
       "      Epi_coral Vul_sed End_sed Epi_sed Vul_wat End_wat Epi_wat\n",
       "518.H 0         0       0       0       0       0       0      \n",
       "519.H 0         0       0       0       0       0       0      "
      ]
     },
     "metadata": {},
     "output_type": "display_data"
    },
    {
     "data": {
      "text/html": [
       "<style>\n",
       ".list-inline {list-style: none; margin:0; padding: 0}\n",
       ".list-inline>li {display: inline-block}\n",
       ".list-inline>li:not(:last-child)::after {content: \"\\00b7\"; padding: 0 .5ex}\n",
       "</style>\n",
       "<ol class=list-inline><li>360</li><li>45</li></ol>\n"
      ],
      "text/latex": [
       "\\begin{enumerate*}\n",
       "\\item 360\n",
       "\\item 45\n",
       "\\end{enumerate*}\n"
      ],
      "text/markdown": [
       "1. 360\n",
       "2. 45\n",
       "\n",
       "\n"
      ],
      "text/plain": [
       "[1] 360  45"
      ]
     },
     "metadata": {},
     "output_type": "display_data"
    }
   ],
   "source": [
    "#read metadata file and set factor order\n",
    "meta = read.csv(\"/Users/stephanie.rosales/Documents/Tissueloss/EPA2/metadata/meta_EPA2.csv\",\n",
    "               header=TRUE, row.names=1)\n",
    "meta$Site_Num <- as.integer(meta$Site_Num)\n",
    "meta$Site.Status <- factor(meta$Site.Status, levels = c(\"Vulnerable\",\n",
    "                                                         \"Epidemic\",\"Endemic\"))\n",
    "\n",
    "meta$Type <- factor(meta$Type, levels = c(\"Water\",\"Coral\",\"Sediment\"))\n",
    "\n",
    "head(meta, n=2)\n",
    "dim(meta)"
   ]
  },
  {
   "cell_type": "code",
   "execution_count": 5,
   "id": "75cacc39-1da4-4848-98c4-62e7ac133a77",
   "metadata": {},
   "outputs": [
    {
     "data": {
      "text/html": [
       "<table class=\"dataframe\">\n",
       "<caption>A matrix: 2 × 1109 of type dbl</caption>\n",
       "<thead>\n",
       "\t<tr><th></th><th scope=col>R1.1.W</th><th scope=col>R1.10.W</th><th scope=col>R1.11.W</th><th scope=col>R1.12.W</th><th scope=col>R1.13.W</th><th scope=col>R1.14.W</th><th scope=col>R1.15.W</th><th scope=col>R1.16.W</th><th scope=col>R1.17.W</th><th scope=col>R1.18.W</th><th scope=col>⋯</th><th scope=col>GR.SINT.En4</th><th scope=col>GR.SINT.En5</th><th scope=col>GR.SINT.En6</th><th scope=col>TP.DLAB.En1</th><th scope=col>TP.DLAB.En2</th><th scope=col>TP.DLAB.En3</th><th scope=col>TP.DLAB.En4</th><th scope=col>TP.DLAB.En5</th><th scope=col>TP.DLAB.En6</th><th scope=col>TP.DSTO.En1</th></tr>\n",
       "</thead>\n",
       "<tbody>\n",
       "\t<tr><th scope=row>72caa013fe7649c65ffe72138ff7dfd1</th><td>0</td><td>0</td><td>0</td><td>0</td><td>0</td><td>0</td><td>0</td><td>0</td><td>0</td><td>0</td><td>⋯</td><td>0</td><td>0</td><td>0</td><td>0</td><td>0</td><td>0</td><td>0</td><td>0</td><td>0</td><td>0</td></tr>\n",
       "\t<tr><th scope=row>2b248f10cca3c82a2640506132f9c869</th><td>0</td><td>0</td><td>0</td><td>0</td><td>0</td><td>0</td><td>0</td><td>0</td><td>0</td><td>0</td><td>⋯</td><td>0</td><td>0</td><td>0</td><td>0</td><td>0</td><td>0</td><td>0</td><td>0</td><td>0</td><td>0</td></tr>\n",
       "</tbody>\n",
       "</table>\n"
      ],
      "text/latex": [
       "A matrix: 2 × 1109 of type dbl\n",
       "\\begin{tabular}{r|lllllllllllllllllllll}\n",
       "  & R1.1.W & R1.10.W & R1.11.W & R1.12.W & R1.13.W & R1.14.W & R1.15.W & R1.16.W & R1.17.W & R1.18.W & ⋯ & GR.SINT.En4 & GR.SINT.En5 & GR.SINT.En6 & TP.DLAB.En1 & TP.DLAB.En2 & TP.DLAB.En3 & TP.DLAB.En4 & TP.DLAB.En5 & TP.DLAB.En6 & TP.DSTO.En1\\\\\n",
       "\\hline\n",
       "\t72caa013fe7649c65ffe72138ff7dfd1 & 0 & 0 & 0 & 0 & 0 & 0 & 0 & 0 & 0 & 0 & ⋯ & 0 & 0 & 0 & 0 & 0 & 0 & 0 & 0 & 0 & 0\\\\\n",
       "\t2b248f10cca3c82a2640506132f9c869 & 0 & 0 & 0 & 0 & 0 & 0 & 0 & 0 & 0 & 0 & ⋯ & 0 & 0 & 0 & 0 & 0 & 0 & 0 & 0 & 0 & 0\\\\\n",
       "\\end{tabular}\n"
      ],
      "text/markdown": [
       "\n",
       "A matrix: 2 × 1109 of type dbl\n",
       "\n",
       "| <!--/--> | R1.1.W | R1.10.W | R1.11.W | R1.12.W | R1.13.W | R1.14.W | R1.15.W | R1.16.W | R1.17.W | R1.18.W | ⋯ | GR.SINT.En4 | GR.SINT.En5 | GR.SINT.En6 | TP.DLAB.En1 | TP.DLAB.En2 | TP.DLAB.En3 | TP.DLAB.En4 | TP.DLAB.En5 | TP.DLAB.En6 | TP.DSTO.En1 |\n",
       "|---|---|---|---|---|---|---|---|---|---|---|---|---|---|---|---|---|---|---|---|---|---|\n",
       "| 72caa013fe7649c65ffe72138ff7dfd1 | 0 | 0 | 0 | 0 | 0 | 0 | 0 | 0 | 0 | 0 | ⋯ | 0 | 0 | 0 | 0 | 0 | 0 | 0 | 0 | 0 | 0 |\n",
       "| 2b248f10cca3c82a2640506132f9c869 | 0 | 0 | 0 | 0 | 0 | 0 | 0 | 0 | 0 | 0 | ⋯ | 0 | 0 | 0 | 0 | 0 | 0 | 0 | 0 | 0 | 0 |\n",
       "\n"
      ],
      "text/plain": [
       "                                 R1.1.W R1.10.W R1.11.W R1.12.W R1.13.W R1.14.W\n",
       "72caa013fe7649c65ffe72138ff7dfd1 0      0       0       0       0       0      \n",
       "2b248f10cca3c82a2640506132f9c869 0      0       0       0       0       0      \n",
       "                                 R1.15.W R1.16.W R1.17.W R1.18.W ⋯ GR.SINT.En4\n",
       "72caa013fe7649c65ffe72138ff7dfd1 0       0       0       0       ⋯ 0          \n",
       "2b248f10cca3c82a2640506132f9c869 0       0       0       0       ⋯ 0          \n",
       "                                 GR.SINT.En5 GR.SINT.En6 TP.DLAB.En1\n",
       "72caa013fe7649c65ffe72138ff7dfd1 0           0           0          \n",
       "2b248f10cca3c82a2640506132f9c869 0           0           0          \n",
       "                                 TP.DLAB.En2 TP.DLAB.En3 TP.DLAB.En4\n",
       "72caa013fe7649c65ffe72138ff7dfd1 0           0           0          \n",
       "2b248f10cca3c82a2640506132f9c869 0           0           0          \n",
       "                                 TP.DLAB.En5 TP.DLAB.En6 TP.DSTO.En1\n",
       "72caa013fe7649c65ffe72138ff7dfd1 0           0           0          \n",
       "2b248f10cca3c82a2640506132f9c869 0           0           0          "
      ]
     },
     "metadata": {},
     "output_type": "display_data"
    },
    {
     "data": {
      "text/html": [
       "<style>\n",
       ".list-inline {list-style: none; margin:0; padding: 0}\n",
       ".list-inline>li {display: inline-block}\n",
       ".list-inline>li:not(:last-child)::after {content: \"\\00b7\"; padding: 0 .5ex}\n",
       "</style>\n",
       "<ol class=list-inline><li>11756</li><li>1109</li></ol>\n"
      ],
      "text/latex": [
       "\\begin{enumerate*}\n",
       "\\item 11756\n",
       "\\item 1109\n",
       "\\end{enumerate*}\n"
      ],
      "text/markdown": [
       "1. 11756\n",
       "2. 1109\n",
       "\n",
       "\n"
      ],
      "text/plain": [
       "[1] 11756  1109"
      ]
     },
     "metadata": {},
     "output_type": "display_data"
    }
   ],
   "source": [
    "#read ASV table\n",
    "ASV_qza <- read_qza(\"/Users/stephanie.rosales/Documents/Tissueloss/EPA2/merged_tables_BacArc_fill_EPA2.qza\")\n",
    "ASV_table <- ASV_qza$data\n",
    "head(ASV_table, n=2)\n",
    "dim(ASV_table)"
   ]
  },
  {
   "cell_type": "code",
   "execution_count": 6,
   "id": "59610104-dd6e-4fea-b12c-0ca50e484092",
   "metadata": {},
   "outputs": [
    {
     "name": "stderr",
     "output_type": "stream",
     "text": [
      "Warning message:\n",
      "“\u001b[1m\u001b[22mExpected 7 pieces. Missing pieces filled with `NA` in 103262 rows [1, 2, 3, 7,\n",
      "8, 9, 11, 12, 13, 14, 15, 16, 18, 19, 20, 21, 22, 24, 26, 27, ...].”\n"
     ]
    }
   ],
   "source": [
    "taxa_qza <- read_qza(\"/Users/stephanie.rosales/Documents/Tissueloss/EPA2/tax_EPA2.qza\")\n",
    "taxa_table <- taxa_qza$data\n",
    "taxa_table <- taxa_qza$data %>%\n",
    "as_tibble() %>% \n",
    "separate(Taxon, sep=\";\", c(\"Kingdom\", \"Phylum\", \"Class\", \"Order\", \"Family\", \"Genus\", \"Species\")) %>%\n",
    "arrange(Feature.ID) %>%\n",
    "mutate(ASVs =paste('ASV',1:n(), sep = \"_\")) %>%\n",
    "column_to_rownames(\"Feature.ID\")%>%\n",
    "\n",
    "as.matrix()"
   ]
  },
  {
   "cell_type": "code",
   "execution_count": 7,
   "id": "abb976d1-2b14-41ec-81c4-56ba9efc7022",
   "metadata": {},
   "outputs": [
    {
     "data": {
      "text/plain": [
       "phyloseq-class experiment-level object\n",
       "otu_table()   OTU Table:         [ 11756 taxa and 117 samples ]\n",
       "sample_data() Sample Data:       [ 117 samples by 45 sample variables ]\n",
       "tax_table()   Taxonomy Table:    [ 11756 taxa by 9 taxonomic ranks ]"
      ]
     },
     "metadata": {},
     "output_type": "display_data"
    }
   ],
   "source": [
    "ps = phyloseq(otu_table(ASV_table, taxa_are_rows=TRUE), \n",
    "               sample_data(meta),\n",
    "tax_table(taxa_table))\n",
    "#\n",
    "\n",
    "ps_AH <- subset_samples(ps, Sample.Type==\"Healthy\")\n",
    "ps_AH"
   ]
  },
  {
   "cell_type": "code",
   "execution_count": 8,
   "id": "f22c9845-c1af-43ad-8802-de4d68a44564",
   "metadata": {},
   "outputs": [],
   "source": [
    "# Subset samples for Sediment type\n",
    "ps_Sediment <- subset_samples(ps, subset = sample_data(ps)$Type == \"Sediment\")\n",
    "\n",
    "ps_Water <- subset_samples(ps, subset = sample_data(ps)$Type == \"Water\")\n"
   ]
  },
  {
   "cell_type": "code",
   "execution_count": 9,
   "id": "168b4cfb-4201-4b88-8a8b-dd0270e1fd0e",
   "metadata": {},
   "outputs": [
    {
     "data": {
      "text/plain": [
       "phyloseq-class experiment-level object\n",
       "otu_table()   OTU Table:         [ 11756 taxa and 303 samples ]\n",
       "sample_data() Sample Data:       [ 303 samples by 45 sample variables ]\n",
       "tax_table()   Taxonomy Table:    [ 11756 taxa by 9 taxonomic ranks ]"
      ]
     },
     "metadata": {},
     "output_type": "display_data"
    }
   ],
   "source": [
    "ps_merged=merge_phyloseq(ps_Sediment,ps_Water, ps_AH)\n",
    "ps_merged"
   ]
  },
  {
   "cell_type": "code",
   "execution_count": 10,
   "id": "83cf4c60-f7c2-4eca-a142-e5c0721d24fe",
   "metadata": {},
   "outputs": [
    {
     "data": {
      "text/plain": [
       "phyloseq-class experiment-level object\n",
       "otu_table()   OTU Table:         [ 82 taxa and 303 samples ]\n",
       "sample_data() Sample Data:       [ 303 samples by 45 sample variables ]\n",
       "tax_table()   Taxonomy Table:    [ 82 taxa by 9 taxonomic ranks ]"
      ]
     },
     "metadata": {},
     "output_type": "display_data"
    }
   ],
   "source": [
    "#filter to select SCTLD-associated bacteria \n",
    "allTaxa = taxa_names(ps_merged)\n",
    "allTaxa <- allTaxa[(allTaxa %in% pathID)]\n",
    "ps_path = prune_taxa(allTaxa, ps_merged)\n",
    "ps_path"
   ]
  },
  {
   "cell_type": "markdown",
   "id": "8e6e7d4c-7bf5-4e15-a814-dc29a53d65d4",
   "metadata": {},
   "source": [
    "## Figure 8"
   ]
  },
  {
   "cell_type": "code",
   "execution_count": 11,
   "id": "2c238757-819f-4edf-b0d3-dd9ccaef4459",
   "metadata": {},
   "outputs": [
    {
     "data": {
      "text/html": [
       "<style>\n",
       ".list-inline {list-style: none; margin:0; padding: 0}\n",
       ".list-inline>li {display: inline-block}\n",
       ".list-inline>li:not(:last-child)::after {content: \"\\00b7\"; padding: 0 .5ex}\n",
       "</style>\n",
       "<ol class=list-inline><li>'OTU'</li><li>'Sample'</li><li>'Abundance'</li><li>'samp'</li><li>'Sample.ID'</li><li>'Site'</li><li>'Site.Name'</li><li>'Region'</li><li>'Project'</li><li>'Type'</li><li>'Species_sample'</li><li>'Sample.Type'</li><li>'Site.Status'</li><li>'Month'</li><li>'Year'</li><li>'Site_Num'</li><li>'Date'</li><li>'collection_date'</li><li>'Lat'</li><li>'Long'</li><li>'lat_lon'</li><li>'SST_jplMURSST41'</li><li>'Season'</li><li>'organism'</li><li>'geo_loc_name'</li><li>'env_local_scale'</li><li>'env_broad_scale'</li><li>'env_medium'</li><li>'waterBody'</li><li>'countryCode'</li><li>'amplicon_sequenced'</li><li>'Vulnerable'</li><li>'Epidemic'</li><li>'Endemic'</li><li>'Sediment'</li><li>'Coral'</li><li>'Water'</li><li>'Zone'</li><li>'Types'</li><li>'Vul_coral'</li><li>'End_coral'</li><li>'Epi_coral'</li><li>'Vul_sed'</li><li>'End_sed'</li><li>'Epi_sed'</li><li>'Vul_wat'</li><li>'End_wat'</li><li>'Epi_wat'</li><li>'Kingdom'</li><li>'Phylum'</li><li>'Class'</li><li>'Order'</li><li>'Family'</li><li>'Genus'</li><li>'Species'</li><li>'Confidence'</li><li>'ASVs'</li></ol>\n"
      ],
      "text/latex": [
       "\\begin{enumerate*}\n",
       "\\item 'OTU'\n",
       "\\item 'Sample'\n",
       "\\item 'Abundance'\n",
       "\\item 'samp'\n",
       "\\item 'Sample.ID'\n",
       "\\item 'Site'\n",
       "\\item 'Site.Name'\n",
       "\\item 'Region'\n",
       "\\item 'Project'\n",
       "\\item 'Type'\n",
       "\\item 'Species\\_sample'\n",
       "\\item 'Sample.Type'\n",
       "\\item 'Site.Status'\n",
       "\\item 'Month'\n",
       "\\item 'Year'\n",
       "\\item 'Site\\_Num'\n",
       "\\item 'Date'\n",
       "\\item 'collection\\_date'\n",
       "\\item 'Lat'\n",
       "\\item 'Long'\n",
       "\\item 'lat\\_lon'\n",
       "\\item 'SST\\_jplMURSST41'\n",
       "\\item 'Season'\n",
       "\\item 'organism'\n",
       "\\item 'geo\\_loc\\_name'\n",
       "\\item 'env\\_local\\_scale'\n",
       "\\item 'env\\_broad\\_scale'\n",
       "\\item 'env\\_medium'\n",
       "\\item 'waterBody'\n",
       "\\item 'countryCode'\n",
       "\\item 'amplicon\\_sequenced'\n",
       "\\item 'Vulnerable'\n",
       "\\item 'Epidemic'\n",
       "\\item 'Endemic'\n",
       "\\item 'Sediment'\n",
       "\\item 'Coral'\n",
       "\\item 'Water'\n",
       "\\item 'Zone'\n",
       "\\item 'Types'\n",
       "\\item 'Vul\\_coral'\n",
       "\\item 'End\\_coral'\n",
       "\\item 'Epi\\_coral'\n",
       "\\item 'Vul\\_sed'\n",
       "\\item 'End\\_sed'\n",
       "\\item 'Epi\\_sed'\n",
       "\\item 'Vul\\_wat'\n",
       "\\item 'End\\_wat'\n",
       "\\item 'Epi\\_wat'\n",
       "\\item 'Kingdom'\n",
       "\\item 'Phylum'\n",
       "\\item 'Class'\n",
       "\\item 'Order'\n",
       "\\item 'Family'\n",
       "\\item 'Genus'\n",
       "\\item 'Species'\n",
       "\\item 'Confidence'\n",
       "\\item 'ASVs'\n",
       "\\end{enumerate*}\n"
      ],
      "text/markdown": [
       "1. 'OTU'\n",
       "2. 'Sample'\n",
       "3. 'Abundance'\n",
       "4. 'samp'\n",
       "5. 'Sample.ID'\n",
       "6. 'Site'\n",
       "7. 'Site.Name'\n",
       "8. 'Region'\n",
       "9. 'Project'\n",
       "10. 'Type'\n",
       "11. 'Species_sample'\n",
       "12. 'Sample.Type'\n",
       "13. 'Site.Status'\n",
       "14. 'Month'\n",
       "15. 'Year'\n",
       "16. 'Site_Num'\n",
       "17. 'Date'\n",
       "18. 'collection_date'\n",
       "19. 'Lat'\n",
       "20. 'Long'\n",
       "21. 'lat_lon'\n",
       "22. 'SST_jplMURSST41'\n",
       "23. 'Season'\n",
       "24. 'organism'\n",
       "25. 'geo_loc_name'\n",
       "26. 'env_local_scale'\n",
       "27. 'env_broad_scale'\n",
       "28. 'env_medium'\n",
       "29. 'waterBody'\n",
       "30. 'countryCode'\n",
       "31. 'amplicon_sequenced'\n",
       "32. 'Vulnerable'\n",
       "33. 'Epidemic'\n",
       "34. 'Endemic'\n",
       "35. 'Sediment'\n",
       "36. 'Coral'\n",
       "37. 'Water'\n",
       "38. 'Zone'\n",
       "39. 'Types'\n",
       "40. 'Vul_coral'\n",
       "41. 'End_coral'\n",
       "42. 'Epi_coral'\n",
       "43. 'Vul_sed'\n",
       "44. 'End_sed'\n",
       "45. 'Epi_sed'\n",
       "46. 'Vul_wat'\n",
       "47. 'End_wat'\n",
       "48. 'Epi_wat'\n",
       "49. 'Kingdom'\n",
       "50. 'Phylum'\n",
       "51. 'Class'\n",
       "52. 'Order'\n",
       "53. 'Family'\n",
       "54. 'Genus'\n",
       "55. 'Species'\n",
       "56. 'Confidence'\n",
       "57. 'ASVs'\n",
       "\n",
       "\n"
      ],
      "text/plain": [
       " [1] \"OTU\"                \"Sample\"             \"Abundance\"         \n",
       " [4] \"samp\"               \"Sample.ID\"          \"Site\"              \n",
       " [7] \"Site.Name\"          \"Region\"             \"Project\"           \n",
       "[10] \"Type\"               \"Species_sample\"     \"Sample.Type\"       \n",
       "[13] \"Site.Status\"        \"Month\"              \"Year\"              \n",
       "[16] \"Site_Num\"           \"Date\"               \"collection_date\"   \n",
       "[19] \"Lat\"                \"Long\"               \"lat_lon\"           \n",
       "[22] \"SST_jplMURSST41\"    \"Season\"             \"organism\"          \n",
       "[25] \"geo_loc_name\"       \"env_local_scale\"    \"env_broad_scale\"   \n",
       "[28] \"env_medium\"         \"waterBody\"          \"countryCode\"       \n",
       "[31] \"amplicon_sequenced\" \"Vulnerable\"         \"Epidemic\"          \n",
       "[34] \"Endemic\"            \"Sediment\"           \"Coral\"             \n",
       "[37] \"Water\"              \"Zone\"               \"Types\"             \n",
       "[40] \"Vul_coral\"          \"End_coral\"          \"Epi_coral\"         \n",
       "[43] \"Vul_sed\"            \"End_sed\"            \"Epi_sed\"           \n",
       "[46] \"Vul_wat\"            \"End_wat\"            \"Epi_wat\"           \n",
       "[49] \"Kingdom\"            \"Phylum\"             \"Class\"             \n",
       "[52] \"Order\"              \"Family\"             \"Genus\"             \n",
       "[55] \"Species\"            \"Confidence\"         \"ASVs\"              "
      ]
     },
     "metadata": {},
     "output_type": "display_data"
    }
   ],
   "source": [
    "sum_ps=ps_path %>%\n",
    "  tax_glom(taxrank = \"ASVs\") %>%\n",
    "  transform_sample_counts(function(x) {x/sum(x)} ) %>% # Transform to rel. abundance\n",
    "  psmelt()\n",
    "colnames(sum_ps)"
   ]
  },
  {
   "cell_type": "code",
   "execution_count": 12,
   "id": "ef9e892f-5319-4c5c-b49d-959230e150ea",
   "metadata": {},
   "outputs": [
    {
     "name": "stderr",
     "output_type": "stream",
     "text": [
      "Warning message:\n",
      "“\u001b[1m\u001b[22mRemoved 255 rows containing missing values or values outside the scale range\n",
      "(`geom_bar()`).”\n"
     ]
    },
    {
     "data": {
      "image/png": "[encoded data removed]",
      "text/plain": [
       "plot without title"
      ]
     },
     "metadata": {
      "image/png": {
       "height": 420,
       "width": 420
      }
     },
     "output_type": "display_data"
    }
   ],
   "source": [
    "# Convert Type to a factor with specified levels\n",
    "sum_ps$Type <- factor(sum_ps$Type, levels = c(\"Water\", \"Coral\", \"Sediment\"))\n",
    "\n",
    "# Create the bar plot\n",
    "fig_bar_path <- sum_ps %>%\n",
    "  unite(\"Taxa\", Order, Genus, remove = FALSE, sep = \"-\") %>%\n",
    "  filter(Taxa != \" o__Rhodobacterales-NA\") %>%\n",
    "  mutate(across(where(is.character), ~ str_replace_all(.x, \"o__\", \"\"))) %>%\n",
    "  mutate(across(where(is.character), ~ str_replace_all(.x, \"g__\", \"\\ng:\"))) %>%\n",
    "  ggplot(aes(x = Site.Name, y = Abundance, fill = Taxa)) +\n",
    "  geom_bar(stat = \"identity\", position = \"stack\") +\n",
    "  facet_grid(. ~ Type + Site.Status) +\n",
    "  scale_fill_manual(values = colors) +\n",
    "  theme_classic() +\n",
    "  theme(\n",
    "    legend.text = element_text(size = 3),\n",
    "    legend.title = element_text(size = 5),\n",
    "    legend.position = \"bottom\",\n",
    "    axis.title.x = element_text(size = 5),\n",
    "    axis.title.y = element_text(size = 4),\n",
    "    axis.text.x = element_text(size = 3, angle = 30, hjust = 1),\n",
    "    axis.text.y = element_text(size = 4),\n",
    "    strip.background = element_blank(),\n",
    "    strip.text.x = element_blank(),\n",
    "    strip.text = element_text(size = 5, face = \"bold\")\n",
    "  ) +\n",
    "  guides(\n",
    "    fill = guide_legend(keywidth = 0.3, keyheight = 0.35, ncol = 9),\n",
    "    shape = \"none\"\n",
    "  ) +\n",
    "  xlab(\"Reef\") +\n",
    "  ylab(\"Relative Abundance\")\n",
    "\n",
    "fig_bar_path\n"
   ]
  },
  {
   "cell_type": "code",
   "execution_count": 13,
   "id": "e0e89297-7d20-41a0-a1f1-6eca8acf774a",
   "metadata": {},
   "outputs": [
    {
     "data": {
      "text/plain": [
       "phyloseq-class experiment-level object\n",
       "otu_table()   OTU Table:         [ 82 taxa and 303 samples ]\n",
       "sample_data() Sample Data:       [ 303 samples by 45 sample variables ]\n",
       "tax_table()   Taxonomy Table:    [ 82 taxa by 9 taxonomic ranks ]"
      ]
     },
     "metadata": {},
     "output_type": "display_data"
    },
    {
     "name": "stderr",
     "output_type": "stream",
     "text": [
      "Compositional = NO2\n",
      "\n",
      "1] Min. number of reads = 02] Max. number of reads = 173593] Total number of reads = 3892324] Average number of reads = 1284.594059405945] Median number of reads = 9527] Sparsity = 0.8725750623842876] Any OTU sum to 1 or less? YES8] Number of singletons = 99] Percent of OTUs that are singletons \n",
      "        (i.e. exactly one read detected across all samples)010] Number of sample variables are: 45sampSample.IDSiteSite.NameRegionProjectTypeSpecies_sampleSample.TypeSite.StatusMonthYearSite_NumDatecollection_dateLatLonglat_lonSST_jplMURSST41Seasonorganismgeo_loc_nameenv_local_scaleenv_broad_scaleenv_mediumwaterBodycountryCodeamplicon_sequencedVulnerableEpidemicEndemicSedimentCoralWaterZoneTypesVul_coralEnd_coralEpi_coralVul_sedEnd_sedEpi_sedVul_watEnd_watEpi_wat2\n",
      "\n"
     ]
    },
    {
     "data": {
      "text/html": [
       "<ol>\n",
       "\t<li>'1] Min. number of reads = 0'</li>\n",
       "\t<li>'2] Max. number of reads = 17359'</li>\n",
       "\t<li>'3] Total number of reads = 389232'</li>\n",
       "\t<li>'4] Average number of reads = 1284.59405940594'</li>\n",
       "\t<li>'5] Median number of reads = 952'</li>\n",
       "\t<li>'7] Sparsity = 0.872575062384287'</li>\n",
       "\t<li>'6] Any OTU sum to 1 or less? YES'</li>\n",
       "\t<li>'8] Number of singletons = 9'</li>\n",
       "\t<li><span style=white-space:pre-wrap>'9] Percent of OTUs that are singletons \\n        (i.e. exactly one read detected across all samples)0'</span></li>\n",
       "\t<li>'10] Number of sample variables are: 45'</li>\n",
       "\t<li><style>\n",
       ".list-inline {list-style: none; margin:0; padding: 0}\n",
       ".list-inline>li {display: inline-block}\n",
       ".list-inline>li:not(:last-child)::after {content: \"\\00b7\"; padding: 0 .5ex}\n",
       "</style>\n",
       "<ol class=list-inline><li>'samp'</li><li>'Sample.ID'</li><li>'Site'</li><li>'Site.Name'</li><li>'Region'</li><li>'Project'</li><li>'Type'</li><li>'Species_sample'</li><li>'Sample.Type'</li><li>'Site.Status'</li><li>'Month'</li><li>'Year'</li><li>'Site_Num'</li><li>'Date'</li><li>'collection_date'</li><li>'Lat'</li><li>'Long'</li><li>'lat_lon'</li><li>'SST_jplMURSST41'</li><li>'Season'</li><li>'organism'</li><li>'geo_loc_name'</li><li>'env_local_scale'</li><li>'env_broad_scale'</li><li>'env_medium'</li><li>'waterBody'</li><li>'countryCode'</li><li>'amplicon_sequenced'</li><li>'Vulnerable'</li><li>'Epidemic'</li><li>'Endemic'</li><li>'Sediment'</li><li>'Coral'</li><li>'Water'</li><li>'Zone'</li><li>'Types'</li><li>'Vul_coral'</li><li>'End_coral'</li><li>'Epi_coral'</li><li>'Vul_sed'</li><li>'End_sed'</li><li>'Epi_sed'</li><li>'Vul_wat'</li><li>'End_wat'</li><li>'Epi_wat'</li></ol>\n",
       "</li>\n",
       "</ol>\n"
      ],
      "text/latex": [
       "\\begin{enumerate}\n",
       "\\item '1{]} Min. number of reads = 0'\n",
       "\\item '2{]} Max. number of reads = 17359'\n",
       "\\item '3{]} Total number of reads = 389232'\n",
       "\\item '4{]} Average number of reads = 1284.59405940594'\n",
       "\\item '5{]} Median number of reads = 952'\n",
       "\\item '7{]} Sparsity = 0.872575062384287'\n",
       "\\item '6{]} Any OTU sum to 1 or less? YES'\n",
       "\\item '8{]} Number of singletons = 9'\n",
       "\\item '9{]} Percent of OTUs that are singletons \\textbackslash{}n        (i.e. exactly one read detected across all samples)0'\n",
       "\\item '10{]} Number of sample variables are: 45'\n",
       "\\item \\begin{enumerate*}\n",
       "\\item 'samp'\n",
       "\\item 'Sample.ID'\n",
       "\\item 'Site'\n",
       "\\item 'Site.Name'\n",
       "\\item 'Region'\n",
       "\\item 'Project'\n",
       "\\item 'Type'\n",
       "\\item 'Species\\_sample'\n",
       "\\item 'Sample.Type'\n",
       "\\item 'Site.Status'\n",
       "\\item 'Month'\n",
       "\\item 'Year'\n",
       "\\item 'Site\\_Num'\n",
       "\\item 'Date'\n",
       "\\item 'collection\\_date'\n",
       "\\item 'Lat'\n",
       "\\item 'Long'\n",
       "\\item 'lat\\_lon'\n",
       "\\item 'SST\\_jplMURSST41'\n",
       "\\item 'Season'\n",
       "\\item 'organism'\n",
       "\\item 'geo\\_loc\\_name'\n",
       "\\item 'env\\_local\\_scale'\n",
       "\\item 'env\\_broad\\_scale'\n",
       "\\item 'env\\_medium'\n",
       "\\item 'waterBody'\n",
       "\\item 'countryCode'\n",
       "\\item 'amplicon\\_sequenced'\n",
       "\\item 'Vulnerable'\n",
       "\\item 'Epidemic'\n",
       "\\item 'Endemic'\n",
       "\\item 'Sediment'\n",
       "\\item 'Coral'\n",
       "\\item 'Water'\n",
       "\\item 'Zone'\n",
       "\\item 'Types'\n",
       "\\item 'Vul\\_coral'\n",
       "\\item 'End\\_coral'\n",
       "\\item 'Epi\\_coral'\n",
       "\\item 'Vul\\_sed'\n",
       "\\item 'End\\_sed'\n",
       "\\item 'Epi\\_sed'\n",
       "\\item 'Vul\\_wat'\n",
       "\\item 'End\\_wat'\n",
       "\\item 'Epi\\_wat'\n",
       "\\end{enumerate*}\n",
       "\n",
       "\\end{enumerate}\n"
      ],
      "text/markdown": [
       "1. '1] Min. number of reads = 0'\n",
       "2. '2] Max. number of reads = 17359'\n",
       "3. '3] Total number of reads = 389232'\n",
       "4. '4] Average number of reads = 1284.59405940594'\n",
       "5. '5] Median number of reads = 952'\n",
       "6. '7] Sparsity = 0.872575062384287'\n",
       "7. '6] Any OTU sum to 1 or less? YES'\n",
       "8. '8] Number of singletons = 9'\n",
       "9. <span style=white-space:pre-wrap>'9] Percent of OTUs that are singletons \\n        (i.e. exactly one read detected across all samples)0'</span>\n",
       "10. '10] Number of sample variables are: 45'\n",
       "11. 1. 'samp'\n",
       "2. 'Sample.ID'\n",
       "3. 'Site'\n",
       "4. 'Site.Name'\n",
       "5. 'Region'\n",
       "6. 'Project'\n",
       "7. 'Type'\n",
       "8. 'Species_sample'\n",
       "9. 'Sample.Type'\n",
       "10. 'Site.Status'\n",
       "11. 'Month'\n",
       "12. 'Year'\n",
       "13. 'Site_Num'\n",
       "14. 'Date'\n",
       "15. 'collection_date'\n",
       "16. 'Lat'\n",
       "17. 'Long'\n",
       "18. 'lat_lon'\n",
       "19. 'SST_jplMURSST41'\n",
       "20. 'Season'\n",
       "21. 'organism'\n",
       "22. 'geo_loc_name'\n",
       "23. 'env_local_scale'\n",
       "24. 'env_broad_scale'\n",
       "25. 'env_medium'\n",
       "26. 'waterBody'\n",
       "27. 'countryCode'\n",
       "28. 'amplicon_sequenced'\n",
       "29. 'Vulnerable'\n",
       "30. 'Epidemic'\n",
       "31. 'Endemic'\n",
       "32. 'Sediment'\n",
       "33. 'Coral'\n",
       "34. 'Water'\n",
       "35. 'Zone'\n",
       "36. 'Types'\n",
       "37. 'Vul_coral'\n",
       "38. 'End_coral'\n",
       "39. 'Epi_coral'\n",
       "40. 'Vul_sed'\n",
       "41. 'End_sed'\n",
       "42. 'Epi_sed'\n",
       "43. 'Vul_wat'\n",
       "44. 'End_wat'\n",
       "45. 'Epi_wat'\n",
       "\n",
       "\n",
       "\n",
       "\n",
       "\n"
      ],
      "text/plain": [
       "[[1]]\n",
       "[1] \"1] Min. number of reads = 0\"\n",
       "\n",
       "[[2]]\n",
       "[1] \"2] Max. number of reads = 17359\"\n",
       "\n",
       "[[3]]\n",
       "[1] \"3] Total number of reads = 389232\"\n",
       "\n",
       "[[4]]\n",
       "[1] \"4] Average number of reads = 1284.59405940594\"\n",
       "\n",
       "[[5]]\n",
       "[1] \"5] Median number of reads = 952\"\n",
       "\n",
       "[[6]]\n",
       "[1] \"7] Sparsity = 0.872575062384287\"\n",
       "\n",
       "[[7]]\n",
       "[1] \"6] Any OTU sum to 1 or less? YES\"\n",
       "\n",
       "[[8]]\n",
       "[1] \"8] Number of singletons = 9\"\n",
       "\n",
       "[[9]]\n",
       "[1] \"9] Percent of OTUs that are singletons \\n        (i.e. exactly one read detected across all samples)0\"\n",
       "\n",
       "[[10]]\n",
       "[1] \"10] Number of sample variables are: 45\"\n",
       "\n",
       "[[11]]\n",
       " [1] \"samp\"               \"Sample.ID\"          \"Site\"              \n",
       " [4] \"Site.Name\"          \"Region\"             \"Project\"           \n",
       " [7] \"Type\"               \"Species_sample\"     \"Sample.Type\"       \n",
       "[10] \"Site.Status\"        \"Month\"              \"Year\"              \n",
       "[13] \"Site_Num\"           \"Date\"               \"collection_date\"   \n",
       "[16] \"Lat\"                \"Long\"               \"lat_lon\"           \n",
       "[19] \"SST_jplMURSST41\"    \"Season\"             \"organism\"          \n",
       "[22] \"geo_loc_name\"       \"env_local_scale\"    \"env_broad_scale\"   \n",
       "[25] \"env_medium\"         \"waterBody\"          \"countryCode\"       \n",
       "[28] \"amplicon_sequenced\" \"Vulnerable\"         \"Epidemic\"          \n",
       "[31] \"Endemic\"            \"Sediment\"           \"Coral\"             \n",
       "[34] \"Water\"              \"Zone\"               \"Types\"             \n",
       "[37] \"Vul_coral\"          \"End_coral\"          \"Epi_coral\"         \n",
       "[40] \"Vul_sed\"            \"End_sed\"            \"Epi_sed\"           \n",
       "[43] \"Vul_wat\"            \"End_wat\"            \"Epi_wat\"           \n"
      ]
     },
     "metadata": {},
     "output_type": "display_data"
    },
    {
     "data": {
      "text/plain": [
       "phyloseq-class experiment-level object\n",
       "otu_table()   OTU Table:         [ 73 taxa and 303 samples ]\n",
       "sample_data() Sample Data:       [ 303 samples by 45 sample variables ]\n",
       "tax_table()   Taxonomy Table:    [ 73 taxa by 9 taxonomic ranks ]"
      ]
     },
     "metadata": {},
     "output_type": "display_data"
    },
    {
     "name": "stderr",
     "output_type": "stream",
     "text": [
      "Compositional = NO2\n",
      "\n",
      "1] Min. number of reads = 02] Max. number of reads = 173593] Total number of reads = 3892324] Average number of reads = 1284.594059405945] Median number of reads = 9527] Sparsity = 0.8568651385686516] Any OTU sum to 1 or less? NO8] Number of singletons = 09] Percent of OTUs that are singletons \n",
      "        (i.e. exactly one read detected across all samples)010] Number of sample variables are: 45sampSample.IDSiteSite.NameRegionProjectTypeSpecies_sampleSample.TypeSite.StatusMonthYearSite_NumDatecollection_dateLatLonglat_lonSST_jplMURSST41Seasonorganismgeo_loc_nameenv_local_scaleenv_broad_scaleenv_mediumwaterBodycountryCodeamplicon_sequencedVulnerableEpidemicEndemicSedimentCoralWaterZoneTypesVul_coralEnd_coralEpi_coralVul_sedEnd_sedEpi_sedVul_watEnd_watEpi_wat2\n",
      "\n"
     ]
    },
    {
     "data": {
      "text/html": [
       "<ol>\n",
       "\t<li>'1] Min. number of reads = 0'</li>\n",
       "\t<li>'2] Max. number of reads = 17359'</li>\n",
       "\t<li>'3] Total number of reads = 389232'</li>\n",
       "\t<li>'4] Average number of reads = 1284.59405940594'</li>\n",
       "\t<li>'5] Median number of reads = 952'</li>\n",
       "\t<li>'7] Sparsity = 0.856865138568651'</li>\n",
       "\t<li>'6] Any OTU sum to 1 or less? NO'</li>\n",
       "\t<li>'8] Number of singletons = 0'</li>\n",
       "\t<li><span style=white-space:pre-wrap>'9] Percent of OTUs that are singletons \\n        (i.e. exactly one read detected across all samples)0'</span></li>\n",
       "\t<li>'10] Number of sample variables are: 45'</li>\n",
       "\t<li><style>\n",
       ".list-inline {list-style: none; margin:0; padding: 0}\n",
       ".list-inline>li {display: inline-block}\n",
       ".list-inline>li:not(:last-child)::after {content: \"\\00b7\"; padding: 0 .5ex}\n",
       "</style>\n",
       "<ol class=list-inline><li>'samp'</li><li>'Sample.ID'</li><li>'Site'</li><li>'Site.Name'</li><li>'Region'</li><li>'Project'</li><li>'Type'</li><li>'Species_sample'</li><li>'Sample.Type'</li><li>'Site.Status'</li><li>'Month'</li><li>'Year'</li><li>'Site_Num'</li><li>'Date'</li><li>'collection_date'</li><li>'Lat'</li><li>'Long'</li><li>'lat_lon'</li><li>'SST_jplMURSST41'</li><li>'Season'</li><li>'organism'</li><li>'geo_loc_name'</li><li>'env_local_scale'</li><li>'env_broad_scale'</li><li>'env_medium'</li><li>'waterBody'</li><li>'countryCode'</li><li>'amplicon_sequenced'</li><li>'Vulnerable'</li><li>'Epidemic'</li><li>'Endemic'</li><li>'Sediment'</li><li>'Coral'</li><li>'Water'</li><li>'Zone'</li><li>'Types'</li><li>'Vul_coral'</li><li>'End_coral'</li><li>'Epi_coral'</li><li>'Vul_sed'</li><li>'End_sed'</li><li>'Epi_sed'</li><li>'Vul_wat'</li><li>'End_wat'</li><li>'Epi_wat'</li></ol>\n",
       "</li>\n",
       "</ol>\n"
      ],
      "text/latex": [
       "\\begin{enumerate}\n",
       "\\item '1{]} Min. number of reads = 0'\n",
       "\\item '2{]} Max. number of reads = 17359'\n",
       "\\item '3{]} Total number of reads = 389232'\n",
       "\\item '4{]} Average number of reads = 1284.59405940594'\n",
       "\\item '5{]} Median number of reads = 952'\n",
       "\\item '7{]} Sparsity = 0.856865138568651'\n",
       "\\item '6{]} Any OTU sum to 1 or less? NO'\n",
       "\\item '8{]} Number of singletons = 0'\n",
       "\\item '9{]} Percent of OTUs that are singletons \\textbackslash{}n        (i.e. exactly one read detected across all samples)0'\n",
       "\\item '10{]} Number of sample variables are: 45'\n",
       "\\item \\begin{enumerate*}\n",
       "\\item 'samp'\n",
       "\\item 'Sample.ID'\n",
       "\\item 'Site'\n",
       "\\item 'Site.Name'\n",
       "\\item 'Region'\n",
       "\\item 'Project'\n",
       "\\item 'Type'\n",
       "\\item 'Species\\_sample'\n",
       "\\item 'Sample.Type'\n",
       "\\item 'Site.Status'\n",
       "\\item 'Month'\n",
       "\\item 'Year'\n",
       "\\item 'Site\\_Num'\n",
       "\\item 'Date'\n",
       "\\item 'collection\\_date'\n",
       "\\item 'Lat'\n",
       "\\item 'Long'\n",
       "\\item 'lat\\_lon'\n",
       "\\item 'SST\\_jplMURSST41'\n",
       "\\item 'Season'\n",
       "\\item 'organism'\n",
       "\\item 'geo\\_loc\\_name'\n",
       "\\item 'env\\_local\\_scale'\n",
       "\\item 'env\\_broad\\_scale'\n",
       "\\item 'env\\_medium'\n",
       "\\item 'waterBody'\n",
       "\\item 'countryCode'\n",
       "\\item 'amplicon\\_sequenced'\n",
       "\\item 'Vulnerable'\n",
       "\\item 'Epidemic'\n",
       "\\item 'Endemic'\n",
       "\\item 'Sediment'\n",
       "\\item 'Coral'\n",
       "\\item 'Water'\n",
       "\\item 'Zone'\n",
       "\\item 'Types'\n",
       "\\item 'Vul\\_coral'\n",
       "\\item 'End\\_coral'\n",
       "\\item 'Epi\\_coral'\n",
       "\\item 'Vul\\_sed'\n",
       "\\item 'End\\_sed'\n",
       "\\item 'Epi\\_sed'\n",
       "\\item 'Vul\\_wat'\n",
       "\\item 'End\\_wat'\n",
       "\\item 'Epi\\_wat'\n",
       "\\end{enumerate*}\n",
       "\n",
       "\\end{enumerate}\n"
      ],
      "text/markdown": [
       "1. '1] Min. number of reads = 0'\n",
       "2. '2] Max. number of reads = 17359'\n",
       "3. '3] Total number of reads = 389232'\n",
       "4. '4] Average number of reads = 1284.59405940594'\n",
       "5. '5] Median number of reads = 952'\n",
       "6. '7] Sparsity = 0.856865138568651'\n",
       "7. '6] Any OTU sum to 1 or less? NO'\n",
       "8. '8] Number of singletons = 0'\n",
       "9. <span style=white-space:pre-wrap>'9] Percent of OTUs that are singletons \\n        (i.e. exactly one read detected across all samples)0'</span>\n",
       "10. '10] Number of sample variables are: 45'\n",
       "11. 1. 'samp'\n",
       "2. 'Sample.ID'\n",
       "3. 'Site'\n",
       "4. 'Site.Name'\n",
       "5. 'Region'\n",
       "6. 'Project'\n",
       "7. 'Type'\n",
       "8. 'Species_sample'\n",
       "9. 'Sample.Type'\n",
       "10. 'Site.Status'\n",
       "11. 'Month'\n",
       "12. 'Year'\n",
       "13. 'Site_Num'\n",
       "14. 'Date'\n",
       "15. 'collection_date'\n",
       "16. 'Lat'\n",
       "17. 'Long'\n",
       "18. 'lat_lon'\n",
       "19. 'SST_jplMURSST41'\n",
       "20. 'Season'\n",
       "21. 'organism'\n",
       "22. 'geo_loc_name'\n",
       "23. 'env_local_scale'\n",
       "24. 'env_broad_scale'\n",
       "25. 'env_medium'\n",
       "26. 'waterBody'\n",
       "27. 'countryCode'\n",
       "28. 'amplicon_sequenced'\n",
       "29. 'Vulnerable'\n",
       "30. 'Epidemic'\n",
       "31. 'Endemic'\n",
       "32. 'Sediment'\n",
       "33. 'Coral'\n",
       "34. 'Water'\n",
       "35. 'Zone'\n",
       "36. 'Types'\n",
       "37. 'Vul_coral'\n",
       "38. 'End_coral'\n",
       "39. 'Epi_coral'\n",
       "40. 'Vul_sed'\n",
       "41. 'End_sed'\n",
       "42. 'Epi_sed'\n",
       "43. 'Vul_wat'\n",
       "44. 'End_wat'\n",
       "45. 'Epi_wat'\n",
       "\n",
       "\n",
       "\n",
       "\n",
       "\n"
      ],
      "text/plain": [
       "[[1]]\n",
       "[1] \"1] Min. number of reads = 0\"\n",
       "\n",
       "[[2]]\n",
       "[1] \"2] Max. number of reads = 17359\"\n",
       "\n",
       "[[3]]\n",
       "[1] \"3] Total number of reads = 389232\"\n",
       "\n",
       "[[4]]\n",
       "[1] \"4] Average number of reads = 1284.59405940594\"\n",
       "\n",
       "[[5]]\n",
       "[1] \"5] Median number of reads = 952\"\n",
       "\n",
       "[[6]]\n",
       "[1] \"7] Sparsity = 0.856865138568651\"\n",
       "\n",
       "[[7]]\n",
       "[1] \"6] Any OTU sum to 1 or less? NO\"\n",
       "\n",
       "[[8]]\n",
       "[1] \"8] Number of singletons = 0\"\n",
       "\n",
       "[[9]]\n",
       "[1] \"9] Percent of OTUs that are singletons \\n        (i.e. exactly one read detected across all samples)0\"\n",
       "\n",
       "[[10]]\n",
       "[1] \"10] Number of sample variables are: 45\"\n",
       "\n",
       "[[11]]\n",
       " [1] \"samp\"               \"Sample.ID\"          \"Site\"              \n",
       " [4] \"Site.Name\"          \"Region\"             \"Project\"           \n",
       " [7] \"Type\"               \"Species_sample\"     \"Sample.Type\"       \n",
       "[10] \"Site.Status\"        \"Month\"              \"Year\"              \n",
       "[13] \"Site_Num\"           \"Date\"               \"collection_date\"   \n",
       "[16] \"Lat\"                \"Long\"               \"lat_lon\"           \n",
       "[19] \"SST_jplMURSST41\"    \"Season\"             \"organism\"          \n",
       "[22] \"geo_loc_name\"       \"env_local_scale\"    \"env_broad_scale\"   \n",
       "[25] \"env_medium\"         \"waterBody\"          \"countryCode\"       \n",
       "[28] \"amplicon_sequenced\" \"Vulnerable\"         \"Epidemic\"          \n",
       "[31] \"Endemic\"            \"Sediment\"           \"Coral\"             \n",
       "[34] \"Water\"              \"Zone\"               \"Types\"             \n",
       "[37] \"Vul_coral\"          \"End_coral\"          \"Epi_coral\"         \n",
       "[40] \"Vul_sed\"            \"End_sed\"            \"Epi_sed\"           \n",
       "[43] \"Vul_wat\"            \"End_wat\"            \"Epi_wat\"           \n"
      ]
     },
     "metadata": {},
     "output_type": "display_data"
    }
   ],
   "source": [
    "ps_path_fill= filter_taxa(ps_path, function(x) sum(x > 0) > (0.0*length(x)), TRUE) \n",
    "\n",
    "                          \n",
    "ps_path \n",
    "microbiome::summarize_phyloseq(ps_path)\n",
    "ps_path_fill\n",
    "microbiome::summarize_phyloseq(ps_path_fill)"
   ]
  },
  {
   "cell_type": "code",
   "execution_count": 14,
   "id": "514b04b3-f444-4889-99bf-8caf0070bab6",
   "metadata": {},
   "outputs": [
    {
     "name": "stderr",
     "output_type": "stream",
     "text": [
      "`set.seed(123)` was used to initialize repeatable random subsampling.\n",
      "\n",
      "Please record this for your records so others can reproduce.\n",
      "\n",
      "Try `set.seed(123); .Random.seed` for the full vector\n",
      "\n",
      "...\n",
      "\n",
      "13 samples removedbecause they contained fewer reads than `sample.size`.\n",
      "\n",
      "Up to first five removed samples are: \n",
      "\n",
      "\n",
      "523.H538.HXP.MCAV2.HXP.MCAV6.HLP.MCAV.En1\n",
      "\n",
      "...\n",
      "\n",
      "3OTUs were removed because they are no longer \n",
      "present in any sample after random subsampling\n",
      "\n",
      "\n",
      "...\n",
      "\n"
     ]
    }
   ],
   "source": [
    "ps_rare <- phyloseq::rarefy_even_depth(ps_path_fill, rngseed = 123, replace = FALSE, sample.size=50)  "
   ]
  },
  {
   "cell_type": "code",
   "execution_count": 15,
   "id": "02324be8-56b2-4362-968a-ec554a19ac93",
   "metadata": {},
   "outputs": [
    {
     "data": {
      "text/html": [
       "<table class=\"dataframe\">\n",
       "<caption>A data.frame: 6 × 3</caption>\n",
       "<thead>\n",
       "\t<tr><th></th><th scope=col>Observed</th><th scope=col>Shannon</th><th scope=col>InvSimpson</th></tr>\n",
       "\t<tr><th></th><th scope=col>&lt;dbl&gt;</th><th scope=col>&lt;dbl&gt;</th><th scope=col>&lt;dbl&gt;</th></tr>\n",
       "</thead>\n",
       "<tbody>\n",
       "\t<tr><th scope=row>R3.1.S</th><td>12</td><td>1.869107</td><td>5.017691</td></tr>\n",
       "\t<tr><th scope=row>R3.10.S</th><td>13</td><td>1.811089</td><td>4.387743</td></tr>\n",
       "\t<tr><th scope=row>R3.11.S</th><td>17</td><td>2.080899</td><td>5.538322</td></tr>\n",
       "\t<tr><th scope=row>R3.12.S</th><td>14</td><td>1.825823</td><td>4.254988</td></tr>\n",
       "\t<tr><th scope=row>R3.13.S</th><td>13</td><td>1.930065</td><td>4.763786</td></tr>\n",
       "\t<tr><th scope=row>R3.14.S</th><td>15</td><td>2.083861</td><td>5.609061</td></tr>\n",
       "</tbody>\n",
       "</table>\n"
      ],
      "text/latex": [
       "A data.frame: 6 × 3\n",
       "\\begin{tabular}{r|lll}\n",
       "  & Observed & Shannon & InvSimpson\\\\\n",
       "  & <dbl> & <dbl> & <dbl>\\\\\n",
       "\\hline\n",
       "\tR3.1.S & 12 & 1.869107 & 5.017691\\\\\n",
       "\tR3.10.S & 13 & 1.811089 & 4.387743\\\\\n",
       "\tR3.11.S & 17 & 2.080899 & 5.538322\\\\\n",
       "\tR3.12.S & 14 & 1.825823 & 4.254988\\\\\n",
       "\tR3.13.S & 13 & 1.930065 & 4.763786\\\\\n",
       "\tR3.14.S & 15 & 2.083861 & 5.609061\\\\\n",
       "\\end{tabular}\n"
      ],
      "text/markdown": [
       "\n",
       "A data.frame: 6 × 3\n",
       "\n",
       "| <!--/--> | Observed &lt;dbl&gt; | Shannon &lt;dbl&gt; | InvSimpson &lt;dbl&gt; |\n",
       "|---|---|---|---|\n",
       "| R3.1.S | 12 | 1.869107 | 5.017691 |\n",
       "| R3.10.S | 13 | 1.811089 | 4.387743 |\n",
       "| R3.11.S | 17 | 2.080899 | 5.538322 |\n",
       "| R3.12.S | 14 | 1.825823 | 4.254988 |\n",
       "| R3.13.S | 13 | 1.930065 | 4.763786 |\n",
       "| R3.14.S | 15 | 2.083861 | 5.609061 |\n",
       "\n"
      ],
      "text/plain": [
       "        Observed Shannon  InvSimpson\n",
       "R3.1.S  12       1.869107 5.017691  \n",
       "R3.10.S 13       1.811089 4.387743  \n",
       "R3.11.S 17       2.080899 5.538322  \n",
       "R3.12.S 14       1.825823 4.254988  \n",
       "R3.13.S 13       1.930065 4.763786  \n",
       "R3.14.S 15       2.083861 5.609061  "
      ]
     },
     "metadata": {},
     "output_type": "display_data"
    },
    {
     "data": {
      "text/html": [
       "<style>\n",
       ".list-inline {list-style: none; margin:0; padding: 0}\n",
       ".list-inline>li {display: inline-block}\n",
       ".list-inline>li:not(:last-child)::after {content: \"\\00b7\"; padding: 0 .5ex}\n",
       "</style>\n",
       "<ol class=list-inline><li>303</li><li>3</li></ol>\n"
      ],
      "text/latex": [
       "\\begin{enumerate*}\n",
       "\\item 303\n",
       "\\item 3\n",
       "\\end{enumerate*}\n"
      ],
      "text/markdown": [
       "1. 303\n",
       "2. 3\n",
       "\n",
       "\n"
      ],
      "text/plain": [
       "[1] 303   3"
      ]
     },
     "metadata": {},
     "output_type": "display_data"
    }
   ],
   "source": [
    "adiv <- data.frame(\n",
    "    phyloseq::estimate_richness(ps_path, measures=c(\"Observed\", \"InvSimpson\", \"Shannon\")))  %>%\n",
    "mutate_if(\n",
    "                is.character, \n",
    "                stringr::str_replace_all, \n",
    "                pattern = \"X5\",\n",
    "                replacement = \"5\") \n",
    "\n",
    "head(adiv) \n",
    "dim(adiv)"
   ]
  },
  {
   "cell_type": "code",
   "execution_count": 16,
   "id": "2bb6fac9-e85f-45b9-87dd-786a947af0c5",
   "metadata": {},
   "outputs": [
    {
     "data": {
      "text/html": [
       "<table class=\"dataframe\">\n",
       "<caption>A data.frame: 6 × 45</caption>\n",
       "<thead>\n",
       "\t<tr><th></th><th scope=col>samp</th><th scope=col>Sample.ID</th><th scope=col>Site</th><th scope=col>Site.Name</th><th scope=col>Region</th><th scope=col>Project</th><th scope=col>Type</th><th scope=col>Species_sample</th><th scope=col>Sample.Type</th><th scope=col>Site.Status</th><th scope=col>⋯</th><th scope=col>Types</th><th scope=col>Vul_coral</th><th scope=col>End_coral</th><th scope=col>Epi_coral</th><th scope=col>Vul_sed</th><th scope=col>End_sed</th><th scope=col>Epi_sed</th><th scope=col>Vul_wat</th><th scope=col>End_wat</th><th scope=col>Epi_wat</th></tr>\n",
       "\t<tr><th></th><th scope=col>&lt;chr&gt;</th><th scope=col>&lt;chr&gt;</th><th scope=col>&lt;chr&gt;</th><th scope=col>&lt;chr&gt;</th><th scope=col>&lt;chr&gt;</th><th scope=col>&lt;chr&gt;</th><th scope=col>&lt;fct&gt;</th><th scope=col>&lt;chr&gt;</th><th scope=col>&lt;chr&gt;</th><th scope=col>&lt;fct&gt;</th><th scope=col>⋯</th><th scope=col>&lt;int&gt;</th><th scope=col>&lt;int&gt;</th><th scope=col>&lt;int&gt;</th><th scope=col>&lt;int&gt;</th><th scope=col>&lt;int&gt;</th><th scope=col>&lt;int&gt;</th><th scope=col>&lt;int&gt;</th><th scope=col>&lt;int&gt;</th><th scope=col>&lt;int&gt;</th><th scope=col>&lt;int&gt;</th></tr>\n",
       "</thead>\n",
       "<tbody>\n",
       "\t<tr><th scope=row>R3.1.S</th><td>R3.1.S_S13 </td><td>R3.1.S_S13 </td><td>NA    </td><td>Cliff.Green</td><td>Lower Keys</td><td>EPA1</td><td>Sediment</td><td>Sediment</td><td>NA</td><td>Vulnerable</td><td>⋯</td><td>3</td><td>0</td><td>0</td><td>0</td><td>1</td><td>0</td><td>0</td><td>0</td><td>0</td><td>0</td></tr>\n",
       "\t<tr><th scope=row>R3.10.S</th><td>R3.10.S_S13</td><td>R3.10.S_S13</td><td>NA    </td><td>Cliff.Green</td><td>Lower Keys</td><td>EPA1</td><td>Sediment</td><td>Sediment</td><td>NA</td><td>Vulnerable</td><td>⋯</td><td>3</td><td>0</td><td>0</td><td>0</td><td>1</td><td>0</td><td>0</td><td>0</td><td>0</td><td>0</td></tr>\n",
       "\t<tr><th scope=row>R3.11.S</th><td>R3.11.S_S13</td><td>R3.11.S_S13</td><td>Site-G</td><td>Xesto.Patch</td><td>Lower Keys</td><td>EPA1</td><td>Sediment</td><td>Sediment</td><td>NA</td><td>Vulnerable</td><td>⋯</td><td>3</td><td>0</td><td>0</td><td>0</td><td>1</td><td>0</td><td>0</td><td>0</td><td>0</td><td>0</td></tr>\n",
       "\t<tr><th scope=row>R3.12.S</th><td>R3.12.S_S13</td><td>R3.12.S_S13</td><td>Site-G</td><td>Xesto.Patch</td><td>Lower Keys</td><td>EPA1</td><td>Sediment</td><td>Sediment</td><td>NA</td><td>Vulnerable</td><td>⋯</td><td>3</td><td>0</td><td>0</td><td>0</td><td>1</td><td>0</td><td>0</td><td>0</td><td>0</td><td>0</td></tr>\n",
       "\t<tr><th scope=row>R3.13.S</th><td>R3.13.S_S13</td><td>R3.13.S_S13</td><td>Site-G</td><td>Xesto.Patch</td><td>Lower Keys</td><td>EPA1</td><td>Sediment</td><td>Sediment</td><td>NA</td><td>Vulnerable</td><td>⋯</td><td>3</td><td>0</td><td>0</td><td>0</td><td>1</td><td>0</td><td>0</td><td>0</td><td>0</td><td>0</td></tr>\n",
       "\t<tr><th scope=row>R3.14.S</th><td>R3.14.S_S13</td><td>R3.14.S_S13</td><td>Site-G</td><td>Xesto.Patch</td><td>Lower Keys</td><td>EPA1</td><td>Sediment</td><td>Sediment</td><td>NA</td><td>Vulnerable</td><td>⋯</td><td>3</td><td>0</td><td>0</td><td>0</td><td>1</td><td>0</td><td>0</td><td>0</td><td>0</td><td>0</td></tr>\n",
       "</tbody>\n",
       "</table>\n"
      ],
      "text/latex": [
       "A data.frame: 6 × 45\n",
       "\\begin{tabular}{r|lllllllllllllllllllll}\n",
       "  & samp & Sample.ID & Site & Site.Name & Region & Project & Type & Species\\_sample & Sample.Type & Site.Status & ⋯ & Types & Vul\\_coral & End\\_coral & Epi\\_coral & Vul\\_sed & End\\_sed & Epi\\_sed & Vul\\_wat & End\\_wat & Epi\\_wat\\\\\n",
       "  & <chr> & <chr> & <chr> & <chr> & <chr> & <chr> & <fct> & <chr> & <chr> & <fct> & ⋯ & <int> & <int> & <int> & <int> & <int> & <int> & <int> & <int> & <int> & <int>\\\\\n",
       "\\hline\n",
       "\tR3.1.S & R3.1.S\\_S13  & R3.1.S\\_S13  & NA     & Cliff.Green & Lower Keys & EPA1 & Sediment & Sediment & NA & Vulnerable & ⋯ & 3 & 0 & 0 & 0 & 1 & 0 & 0 & 0 & 0 & 0\\\\\n",
       "\tR3.10.S & R3.10.S\\_S13 & R3.10.S\\_S13 & NA     & Cliff.Green & Lower Keys & EPA1 & Sediment & Sediment & NA & Vulnerable & ⋯ & 3 & 0 & 0 & 0 & 1 & 0 & 0 & 0 & 0 & 0\\\\\n",
       "\tR3.11.S & R3.11.S\\_S13 & R3.11.S\\_S13 & Site-G & Xesto.Patch & Lower Keys & EPA1 & Sediment & Sediment & NA & Vulnerable & ⋯ & 3 & 0 & 0 & 0 & 1 & 0 & 0 & 0 & 0 & 0\\\\\n",
       "\tR3.12.S & R3.12.S\\_S13 & R3.12.S\\_S13 & Site-G & Xesto.Patch & Lower Keys & EPA1 & Sediment & Sediment & NA & Vulnerable & ⋯ & 3 & 0 & 0 & 0 & 1 & 0 & 0 & 0 & 0 & 0\\\\\n",
       "\tR3.13.S & R3.13.S\\_S13 & R3.13.S\\_S13 & Site-G & Xesto.Patch & Lower Keys & EPA1 & Sediment & Sediment & NA & Vulnerable & ⋯ & 3 & 0 & 0 & 0 & 1 & 0 & 0 & 0 & 0 & 0\\\\\n",
       "\tR3.14.S & R3.14.S\\_S13 & R3.14.S\\_S13 & Site-G & Xesto.Patch & Lower Keys & EPA1 & Sediment & Sediment & NA & Vulnerable & ⋯ & 3 & 0 & 0 & 0 & 1 & 0 & 0 & 0 & 0 & 0\\\\\n",
       "\\end{tabular}\n"
      ],
      "text/markdown": [
       "\n",
       "A data.frame: 6 × 45\n",
       "\n",
       "| <!--/--> | samp &lt;chr&gt; | Sample.ID &lt;chr&gt; | Site &lt;chr&gt; | Site.Name &lt;chr&gt; | Region &lt;chr&gt; | Project &lt;chr&gt; | Type &lt;fct&gt; | Species_sample &lt;chr&gt; | Sample.Type &lt;chr&gt; | Site.Status &lt;fct&gt; | ⋯ ⋯ | Types &lt;int&gt; | Vul_coral &lt;int&gt; | End_coral &lt;int&gt; | Epi_coral &lt;int&gt; | Vul_sed &lt;int&gt; | End_sed &lt;int&gt; | Epi_sed &lt;int&gt; | Vul_wat &lt;int&gt; | End_wat &lt;int&gt; | Epi_wat &lt;int&gt; |\n",
       "|---|---|---|---|---|---|---|---|---|---|---|---|---|---|---|---|---|---|---|---|---|---|\n",
       "| R3.1.S | R3.1.S_S13  | R3.1.S_S13  | NA     | Cliff.Green | Lower Keys | EPA1 | Sediment | Sediment | NA | Vulnerable | ⋯ | 3 | 0 | 0 | 0 | 1 | 0 | 0 | 0 | 0 | 0 |\n",
       "| R3.10.S | R3.10.S_S13 | R3.10.S_S13 | NA     | Cliff.Green | Lower Keys | EPA1 | Sediment | Sediment | NA | Vulnerable | ⋯ | 3 | 0 | 0 | 0 | 1 | 0 | 0 | 0 | 0 | 0 |\n",
       "| R3.11.S | R3.11.S_S13 | R3.11.S_S13 | Site-G | Xesto.Patch | Lower Keys | EPA1 | Sediment | Sediment | NA | Vulnerable | ⋯ | 3 | 0 | 0 | 0 | 1 | 0 | 0 | 0 | 0 | 0 |\n",
       "| R3.12.S | R3.12.S_S13 | R3.12.S_S13 | Site-G | Xesto.Patch | Lower Keys | EPA1 | Sediment | Sediment | NA | Vulnerable | ⋯ | 3 | 0 | 0 | 0 | 1 | 0 | 0 | 0 | 0 | 0 |\n",
       "| R3.13.S | R3.13.S_S13 | R3.13.S_S13 | Site-G | Xesto.Patch | Lower Keys | EPA1 | Sediment | Sediment | NA | Vulnerable | ⋯ | 3 | 0 | 0 | 0 | 1 | 0 | 0 | 0 | 0 | 0 |\n",
       "| R3.14.S | R3.14.S_S13 | R3.14.S_S13 | Site-G | Xesto.Patch | Lower Keys | EPA1 | Sediment | Sediment | NA | Vulnerable | ⋯ | 3 | 0 | 0 | 0 | 1 | 0 | 0 | 0 | 0 | 0 |\n",
       "\n"
      ],
      "text/plain": [
       "        samp        Sample.ID   Site   Site.Name   Region     Project Type    \n",
       "R3.1.S  R3.1.S_S13  R3.1.S_S13  NA     Cliff.Green Lower Keys EPA1    Sediment\n",
       "R3.10.S R3.10.S_S13 R3.10.S_S13 NA     Cliff.Green Lower Keys EPA1    Sediment\n",
       "R3.11.S R3.11.S_S13 R3.11.S_S13 Site-G Xesto.Patch Lower Keys EPA1    Sediment\n",
       "R3.12.S R3.12.S_S13 R3.12.S_S13 Site-G Xesto.Patch Lower Keys EPA1    Sediment\n",
       "R3.13.S R3.13.S_S13 R3.13.S_S13 Site-G Xesto.Patch Lower Keys EPA1    Sediment\n",
       "R3.14.S R3.14.S_S13 R3.14.S_S13 Site-G Xesto.Patch Lower Keys EPA1    Sediment\n",
       "        Species_sample Sample.Type Site.Status ⋯ Types Vul_coral End_coral\n",
       "R3.1.S  Sediment       NA          Vulnerable  ⋯ 3     0         0        \n",
       "R3.10.S Sediment       NA          Vulnerable  ⋯ 3     0         0        \n",
       "R3.11.S Sediment       NA          Vulnerable  ⋯ 3     0         0        \n",
       "R3.12.S Sediment       NA          Vulnerable  ⋯ 3     0         0        \n",
       "R3.13.S Sediment       NA          Vulnerable  ⋯ 3     0         0        \n",
       "R3.14.S Sediment       NA          Vulnerable  ⋯ 3     0         0        \n",
       "        Epi_coral Vul_sed End_sed Epi_sed Vul_wat End_wat Epi_wat\n",
       "R3.1.S  0         1       0       0       0       0       0      \n",
       "R3.10.S 0         1       0       0       0       0       0      \n",
       "R3.11.S 0         1       0       0       0       0       0      \n",
       "R3.12.S 0         1       0       0       0       0       0      \n",
       "R3.13.S 0         1       0       0       0       0       0      \n",
       "R3.14.S 0         1       0       0       0       0       0      "
      ]
     },
     "metadata": {},
     "output_type": "display_data"
    }
   ],
   "source": [
    "#combine data with enviornmental data\n",
    "adiv_meta1= as(sample_data(ps_path_fill), \"data.frame\") \n",
    "\n",
    "adiv_meta=adiv_meta1 %>%\n",
    "mutate_if(\n",
    "                is.character, \n",
    "                stringr::str_replace_all, \n",
    "                pattern = \"X5\", replacement = \"5\") \n",
    "\n",
    "head(adiv_meta)"
   ]
  },
  {
   "cell_type": "code",
   "execution_count": 17,
   "id": "3fcd3c4d-6f12-4ec5-93ab-e376e81cf01b",
   "metadata": {},
   "outputs": [],
   "source": [
    "alpha_envs_path=cbind(adiv, adiv_meta)"
   ]
  },
  {
   "cell_type": "code",
   "execution_count": 18,
   "id": "fe7ba3f0-e652-4157-b682-b88f668f989c",
   "metadata": {},
   "outputs": [
    {
     "data": {
      "image/png": "[encoded data removed]",
      "text/plain": [
       "plot without title"
      ]
     },
     "metadata": {
      "image/png": {
       "height": 420,
       "width": 420
      }
     },
     "output_type": "display_data"
    }
   ],
   "source": [
    "# Define shape mapping for species and sample types\n",
    "shape_mapping <- c(\n",
    "  \"DSTO\" = 16, \"MCAV\" = 17, \"OFAV\" = 15, \"PSTR\" = 18, \"SINT\" = 8,\n",
    "  \"Sediment\" = 2, \"Water\" = 1\n",
    ")\n",
    "\n",
    "# Clean and structure data\n",
    "adiv <- adiv %>%\n",
    "  mutate_if(is.character, stringr::str_replace_all, pattern = \"X5\", replacement = \"5\")\n",
    "\n",
    "# Merge diversity data with metadata\n",
    "alpha_envs_path <- cbind(adiv, adiv_meta)\n",
    "alpha_envs_path$Type <- factor(alpha_envs_path$Type, levels = c(\"Coral\", \"Water\", \"Sediment\"))\n",
    "\n",
    "alpha_envs_path$Species_sample <- factor(\n",
    "  alpha_envs_path$Species_sample,\n",
    "  levels = c(\"DSTO\", \"MCAV\", \"OFAV\", \"PSTR\", \"SINT\", \"Water\", \"Sediment\")\n",
    ")\n",
    "\n",
    "# Define color palette\n",
    "cbPalette <- c(\"#009E73\", \"#D55E00\", \"#696969\")\n",
    "\n",
    "# Create alpha diversity plot\n",
    "alpha_paths <- ggplot(alpha_envs_path, aes(x = Site.Name, y = Observed)) +\n",
    "  geom_boxplot(outlier.color = NA) +\n",
    "  geom_jitter(aes(color = Site.Status, shape = Species_sample), \n",
    "              size = 0.3, height = 0, width = 0.2) +\n",
    "  labs(x = \"Reefs\", y = \"Richness\") +\n",
    "  scale_color_manual(values = cbPalette) +\n",
    "  scale_shape_manual(values = shape_mapping) +\n",
    "  theme_classic() +\n",
    "  theme(\n",
    "    legend.position = \"top\",\n",
    "    legend.text = element_text(size = 4),\n",
    "    legend.title = element_text(size = 4),\n",
    "    axis.title.y = element_text(size = 6),\n",
    "    axis.text.y = element_text(size = 5),\n",
    "    axis.text.x = element_blank(),\n",
    "    axis.title.x = element_blank(),\n",
    "    strip.text = element_text(size = 4)\n",
    "  ) +\n",
    "  facet_grid(. ~ Type + Site.Status) +\n",
    "  guides(\n",
    "    fill = \"none\",\n",
    "    color = \"none\",\n",
    "    shape = guide_legend(keywidth = 0.2, keyheight = 0.25, nrow = 1, title = \"Sample Type\")\n",
    "  )\n",
    "\n",
    "alpha_paths\n"
   ]
  },
  {
   "cell_type": "code",
   "execution_count": 19,
   "id": "01185599-9319-408f-820c-a9172213074a",
   "metadata": {},
   "outputs": [
    {
     "name": "stderr",
     "output_type": "stream",
     "text": [
      "Warning message:\n",
      "“\u001b[1m\u001b[22mRemoved 255 rows containing missing values or values outside the scale range\n",
      "(`geom_bar()`).”\n"
     ]
    },
    {
     "data": {
      "image/png": "[encoded data removed]",
      "text/plain": [
       "plot without title"
      ]
     },
     "metadata": {
      "image/png": {
       "height": 420,
       "width": 420
      }
     },
     "output_type": "display_data"
    }
   ],
   "source": [
    "\n",
    "figs_paths=ggarrange(alpha_paths,fig_bar_path, nrow = 2, ncol=1, common.legend = FALSE,\n",
    "                           labels = c(\"a.\",\"b.\"), heights = c(1, 1), \n",
    "                     #label.x=-0.03,\n",
    "                       font.label = list(size = 7, color = \"black\")\n",
    "\n",
    "                    \n",
    "                    )\n",
    "\n",
    "figs_paths\n",
    "ggsave(\"/Users/stephanie.rosales/Documents/Tissueloss/EPA2/Figures/Figure8.png\",\n",
    "     width = 5.5, height =4, units = \"in\", dpi=300)"
   ]
  },
  {
   "cell_type": "code",
   "execution_count": 20,
   "id": "b4ea687e-e472-4101-849c-2f0c534c6854",
   "metadata": {},
   "outputs": [
    {
     "data": {
      "text/html": [
       "<table class=\"dataframe\">\n",
       "<caption>A data.frame: 6 × 45</caption>\n",
       "<thead>\n",
       "\t<tr><th></th><th scope=col>samp</th><th scope=col>Sample.ID</th><th scope=col>Site</th><th scope=col>Site.Name</th><th scope=col>Region</th><th scope=col>Project</th><th scope=col>Type</th><th scope=col>Species_sample</th><th scope=col>Sample.Type</th><th scope=col>Site.Status</th><th scope=col>⋯</th><th scope=col>Types</th><th scope=col>Vul_coral</th><th scope=col>End_coral</th><th scope=col>Epi_coral</th><th scope=col>Vul_sed</th><th scope=col>End_sed</th><th scope=col>Epi_sed</th><th scope=col>Vul_wat</th><th scope=col>End_wat</th><th scope=col>Epi_wat</th></tr>\n",
       "\t<tr><th></th><th scope=col>&lt;chr&gt;</th><th scope=col>&lt;chr&gt;</th><th scope=col>&lt;chr&gt;</th><th scope=col>&lt;chr&gt;</th><th scope=col>&lt;chr&gt;</th><th scope=col>&lt;chr&gt;</th><th scope=col>&lt;fct&gt;</th><th scope=col>&lt;chr&gt;</th><th scope=col>&lt;chr&gt;</th><th scope=col>&lt;fct&gt;</th><th scope=col>⋯</th><th scope=col>&lt;int&gt;</th><th scope=col>&lt;int&gt;</th><th scope=col>&lt;int&gt;</th><th scope=col>&lt;int&gt;</th><th scope=col>&lt;int&gt;</th><th scope=col>&lt;int&gt;</th><th scope=col>&lt;int&gt;</th><th scope=col>&lt;int&gt;</th><th scope=col>&lt;int&gt;</th><th scope=col>&lt;int&gt;</th></tr>\n",
       "</thead>\n",
       "<tbody>\n",
       "\t<tr><th scope=row>R3.1.S</th><td>R3.1.S_S13 </td><td>R3.1.S_S13 </td><td>NA    </td><td>Cliff.Green</td><td>Lower Keys</td><td>EPA1</td><td>Sediment</td><td>Sediment</td><td>NA</td><td>Vulnerable</td><td>⋯</td><td>3</td><td>0</td><td>0</td><td>0</td><td>1</td><td>0</td><td>0</td><td>0</td><td>0</td><td>0</td></tr>\n",
       "\t<tr><th scope=row>R3.10.S</th><td>R3.10.S_S13</td><td>R3.10.S_S13</td><td>NA    </td><td>Cliff.Green</td><td>Lower Keys</td><td>EPA1</td><td>Sediment</td><td>Sediment</td><td>NA</td><td>Vulnerable</td><td>⋯</td><td>3</td><td>0</td><td>0</td><td>0</td><td>1</td><td>0</td><td>0</td><td>0</td><td>0</td><td>0</td></tr>\n",
       "\t<tr><th scope=row>R3.11.S</th><td>R3.11.S_S13</td><td>R3.11.S_S13</td><td>Site-G</td><td>Xesto.Patch</td><td>Lower Keys</td><td>EPA1</td><td>Sediment</td><td>Sediment</td><td>NA</td><td>Vulnerable</td><td>⋯</td><td>3</td><td>0</td><td>0</td><td>0</td><td>1</td><td>0</td><td>0</td><td>0</td><td>0</td><td>0</td></tr>\n",
       "\t<tr><th scope=row>R3.12.S</th><td>R3.12.S_S13</td><td>R3.12.S_S13</td><td>Site-G</td><td>Xesto.Patch</td><td>Lower Keys</td><td>EPA1</td><td>Sediment</td><td>Sediment</td><td>NA</td><td>Vulnerable</td><td>⋯</td><td>3</td><td>0</td><td>0</td><td>0</td><td>1</td><td>0</td><td>0</td><td>0</td><td>0</td><td>0</td></tr>\n",
       "\t<tr><th scope=row>R3.13.S</th><td>R3.13.S_S13</td><td>R3.13.S_S13</td><td>Site-G</td><td>Xesto.Patch</td><td>Lower Keys</td><td>EPA1</td><td>Sediment</td><td>Sediment</td><td>NA</td><td>Vulnerable</td><td>⋯</td><td>3</td><td>0</td><td>0</td><td>0</td><td>1</td><td>0</td><td>0</td><td>0</td><td>0</td><td>0</td></tr>\n",
       "\t<tr><th scope=row>R3.14.S</th><td>R3.14.S_S13</td><td>R3.14.S_S13</td><td>Site-G</td><td>Xesto.Patch</td><td>Lower Keys</td><td>EPA1</td><td>Sediment</td><td>Sediment</td><td>NA</td><td>Vulnerable</td><td>⋯</td><td>3</td><td>0</td><td>0</td><td>0</td><td>1</td><td>0</td><td>0</td><td>0</td><td>0</td><td>0</td></tr>\n",
       "</tbody>\n",
       "</table>\n"
      ],
      "text/latex": [
       "A data.frame: 6 × 45\n",
       "\\begin{tabular}{r|lllllllllllllllllllll}\n",
       "  & samp & Sample.ID & Site & Site.Name & Region & Project & Type & Species\\_sample & Sample.Type & Site.Status & ⋯ & Types & Vul\\_coral & End\\_coral & Epi\\_coral & Vul\\_sed & End\\_sed & Epi\\_sed & Vul\\_wat & End\\_wat & Epi\\_wat\\\\\n",
       "  & <chr> & <chr> & <chr> & <chr> & <chr> & <chr> & <fct> & <chr> & <chr> & <fct> & ⋯ & <int> & <int> & <int> & <int> & <int> & <int> & <int> & <int> & <int> & <int>\\\\\n",
       "\\hline\n",
       "\tR3.1.S & R3.1.S\\_S13  & R3.1.S\\_S13  & NA     & Cliff.Green & Lower Keys & EPA1 & Sediment & Sediment & NA & Vulnerable & ⋯ & 3 & 0 & 0 & 0 & 1 & 0 & 0 & 0 & 0 & 0\\\\\n",
       "\tR3.10.S & R3.10.S\\_S13 & R3.10.S\\_S13 & NA     & Cliff.Green & Lower Keys & EPA1 & Sediment & Sediment & NA & Vulnerable & ⋯ & 3 & 0 & 0 & 0 & 1 & 0 & 0 & 0 & 0 & 0\\\\\n",
       "\tR3.11.S & R3.11.S\\_S13 & R3.11.S\\_S13 & Site-G & Xesto.Patch & Lower Keys & EPA1 & Sediment & Sediment & NA & Vulnerable & ⋯ & 3 & 0 & 0 & 0 & 1 & 0 & 0 & 0 & 0 & 0\\\\\n",
       "\tR3.12.S & R3.12.S\\_S13 & R3.12.S\\_S13 & Site-G & Xesto.Patch & Lower Keys & EPA1 & Sediment & Sediment & NA & Vulnerable & ⋯ & 3 & 0 & 0 & 0 & 1 & 0 & 0 & 0 & 0 & 0\\\\\n",
       "\tR3.13.S & R3.13.S\\_S13 & R3.13.S\\_S13 & Site-G & Xesto.Patch & Lower Keys & EPA1 & Sediment & Sediment & NA & Vulnerable & ⋯ & 3 & 0 & 0 & 0 & 1 & 0 & 0 & 0 & 0 & 0\\\\\n",
       "\tR3.14.S & R3.14.S\\_S13 & R3.14.S\\_S13 & Site-G & Xesto.Patch & Lower Keys & EPA1 & Sediment & Sediment & NA & Vulnerable & ⋯ & 3 & 0 & 0 & 0 & 1 & 0 & 0 & 0 & 0 & 0\\\\\n",
       "\\end{tabular}\n"
      ],
      "text/markdown": [
       "\n",
       "A data.frame: 6 × 45\n",
       "\n",
       "| <!--/--> | samp &lt;chr&gt; | Sample.ID &lt;chr&gt; | Site &lt;chr&gt; | Site.Name &lt;chr&gt; | Region &lt;chr&gt; | Project &lt;chr&gt; | Type &lt;fct&gt; | Species_sample &lt;chr&gt; | Sample.Type &lt;chr&gt; | Site.Status &lt;fct&gt; | ⋯ ⋯ | Types &lt;int&gt; | Vul_coral &lt;int&gt; | End_coral &lt;int&gt; | Epi_coral &lt;int&gt; | Vul_sed &lt;int&gt; | End_sed &lt;int&gt; | Epi_sed &lt;int&gt; | Vul_wat &lt;int&gt; | End_wat &lt;int&gt; | Epi_wat &lt;int&gt; |\n",
       "|---|---|---|---|---|---|---|---|---|---|---|---|---|---|---|---|---|---|---|---|---|---|\n",
       "| R3.1.S | R3.1.S_S13  | R3.1.S_S13  | NA     | Cliff.Green | Lower Keys | EPA1 | Sediment | Sediment | NA | Vulnerable | ⋯ | 3 | 0 | 0 | 0 | 1 | 0 | 0 | 0 | 0 | 0 |\n",
       "| R3.10.S | R3.10.S_S13 | R3.10.S_S13 | NA     | Cliff.Green | Lower Keys | EPA1 | Sediment | Sediment | NA | Vulnerable | ⋯ | 3 | 0 | 0 | 0 | 1 | 0 | 0 | 0 | 0 | 0 |\n",
       "| R3.11.S | R3.11.S_S13 | R3.11.S_S13 | Site-G | Xesto.Patch | Lower Keys | EPA1 | Sediment | Sediment | NA | Vulnerable | ⋯ | 3 | 0 | 0 | 0 | 1 | 0 | 0 | 0 | 0 | 0 |\n",
       "| R3.12.S | R3.12.S_S13 | R3.12.S_S13 | Site-G | Xesto.Patch | Lower Keys | EPA1 | Sediment | Sediment | NA | Vulnerable | ⋯ | 3 | 0 | 0 | 0 | 1 | 0 | 0 | 0 | 0 | 0 |\n",
       "| R3.13.S | R3.13.S_S13 | R3.13.S_S13 | Site-G | Xesto.Patch | Lower Keys | EPA1 | Sediment | Sediment | NA | Vulnerable | ⋯ | 3 | 0 | 0 | 0 | 1 | 0 | 0 | 0 | 0 | 0 |\n",
       "| R3.14.S | R3.14.S_S13 | R3.14.S_S13 | Site-G | Xesto.Patch | Lower Keys | EPA1 | Sediment | Sediment | NA | Vulnerable | ⋯ | 3 | 0 | 0 | 0 | 1 | 0 | 0 | 0 | 0 | 0 |\n",
       "\n"
      ],
      "text/plain": [
       "        samp        Sample.ID   Site   Site.Name   Region     Project Type    \n",
       "R3.1.S  R3.1.S_S13  R3.1.S_S13  NA     Cliff.Green Lower Keys EPA1    Sediment\n",
       "R3.10.S R3.10.S_S13 R3.10.S_S13 NA     Cliff.Green Lower Keys EPA1    Sediment\n",
       "R3.11.S R3.11.S_S13 R3.11.S_S13 Site-G Xesto.Patch Lower Keys EPA1    Sediment\n",
       "R3.12.S R3.12.S_S13 R3.12.S_S13 Site-G Xesto.Patch Lower Keys EPA1    Sediment\n",
       "R3.13.S R3.13.S_S13 R3.13.S_S13 Site-G Xesto.Patch Lower Keys EPA1    Sediment\n",
       "R3.14.S R3.14.S_S13 R3.14.S_S13 Site-G Xesto.Patch Lower Keys EPA1    Sediment\n",
       "        Species_sample Sample.Type Site.Status ⋯ Types Vul_coral End_coral\n",
       "R3.1.S  Sediment       NA          Vulnerable  ⋯ 3     0         0        \n",
       "R3.10.S Sediment       NA          Vulnerable  ⋯ 3     0         0        \n",
       "R3.11.S Sediment       NA          Vulnerable  ⋯ 3     0         0        \n",
       "R3.12.S Sediment       NA          Vulnerable  ⋯ 3     0         0        \n",
       "R3.13.S Sediment       NA          Vulnerable  ⋯ 3     0         0        \n",
       "R3.14.S Sediment       NA          Vulnerable  ⋯ 3     0         0        \n",
       "        Epi_coral Vul_sed End_sed Epi_sed Vul_wat End_wat Epi_wat\n",
       "R3.1.S  0         1       0       0       0       0       0      \n",
       "R3.10.S 0         1       0       0       0       0       0      \n",
       "R3.11.S 0         1       0       0       0       0       0      \n",
       "R3.12.S 0         1       0       0       0       0       0      \n",
       "R3.13.S 0         1       0       0       0       0       0      \n",
       "R3.14.S 0         1       0       0       0       0       0      "
      ]
     },
     "metadata": {},
     "output_type": "display_data"
    }
   ],
   "source": [
    "#combine data with enviornmental data\n",
    "adiv_meta1= as(sample_data(ps_path_fill), \"data.frame\") \n",
    "\n",
    "adiv_meta=adiv_meta1 %>%\n",
    "mutate_if(\n",
    "                is.character, \n",
    "                stringr::str_replace_all, \n",
    "                pattern = \"X5\", replacement = \"5\") \n",
    "\n",
    "head(adiv_meta)"
   ]
  },
  {
   "cell_type": "markdown",
   "id": "76ac7a87-9b83-45e3-9a1b-42f1324f7c58",
   "metadata": {},
   "source": [
    "## Relative abundance"
   ]
  },
  {
   "cell_type": "code",
   "execution_count": 21,
   "id": "48556488-3b32-4aeb-9d52-c13f08c7ef55",
   "metadata": {},
   "outputs": [
    {
     "name": "stderr",
     "output_type": "stream",
     "text": [
      "\n",
      "Attaching package: ‘data.table’\n",
      "\n",
      "\n",
      "The following objects are masked from ‘package:lubridate’:\n",
      "\n",
      "    hour, isoweek, mday, minute, month, quarter, second, wday, week,\n",
      "    yday, year\n",
      "\n",
      "\n",
      "The following objects are masked from ‘package:dplyr’:\n",
      "\n",
      "    between, first, last\n",
      "\n",
      "\n",
      "The following object is masked from ‘package:purrr’:\n",
      "\n",
      "    transpose\n",
      "\n",
      "\n"
     ]
    }
   ],
   "source": [
    "library(\"data.table\")\n",
    "fast_melt = function(physeq){\n",
    "  # supports \"naked\" otu_table as `physeq` input.\n",
    "  otutab = as(otu_table(physeq), \"matrix\")\n",
    "  if(!taxa_are_rows(physeq)){otutab <- t(otutab)}\n",
    "  otudt = data.table(otutab, keep.rownames = TRUE)\n",
    "  setnames(otudt, \"rn\", \"taxaID\")\n",
    "  # Enforce character taxaID key\n",
    "  otudt[, taxaIDchar := as.character(taxaID)]\n",
    "  otudt[, taxaID := NULL]\n",
    "  setnames(otudt, \"taxaIDchar\", \"taxaID\")\n",
    "  # Melt count table\n",
    "  mdt = melt.data.table(otudt, \n",
    "                        id.vars = \"taxaID\",\n",
    "                        variable.name = \"SampleID\",\n",
    "                        value.name = \"count\")\n",
    "  # Remove zeroes, NAs\n",
    "  mdt <- mdt[count > 0][!is.na(count)]\n",
    "  # Calculate relative abundance\n",
    "  mdt[, RelativeAbundance := count / sum(count), by = SampleID]\n",
    "  if(!is.null(tax_table(physeq, errorIfNULL = FALSE))){\n",
    "    # If there is a tax_table, join with it. Otherwise, skip this join.\n",
    "    taxdt = data.table(as(tax_table(physeq, errorIfNULL = TRUE), \"matrix\"), keep.rownames = TRUE)\n",
    "    setnames(taxdt, \"rn\", \"taxaID\")\n",
    "    # Enforce character taxaID key\n",
    "    taxdt[, taxaIDchar := as.character(taxaID)]\n",
    "    taxdt[, taxaID := NULL]\n",
    "    setnames(taxdt, \"taxaIDchar\", \"taxaID\")\n",
    "    # Join with tax table\n",
    "    setkey(taxdt, \"taxaID\")\n",
    "    setkey(mdt, \"taxaID\")\n",
    "    mdt <- taxdt[mdt]\n",
    "  }\n",
    "  return(mdt)\n",
    "}\n",
    "\n",
    "summarize_taxa = function(physeq, Rank, GroupBy = NULL){\n",
    "  Rank <- Rank[1]\n",
    "  if(!Rank %in% rank_names(physeq)){\n",
    "    message(\"The argument to `Rank` was:\\n\", Rank,\n",
    "            \"\\nBut it was not found among taxonomic ranks:\\n\",\n",
    "            paste0(rank_names(physeq), collapse = \", \"), \"\\n\",\n",
    "            \"Please check the list shown above and try again.\")\n",
    "  }\n",
    "  if(!is.null(GroupBy)){\n",
    "    GroupBy <- GroupBy[1]\n",
    "    if(!GroupBy %in% sample_variables(physeq)){\n",
    "      message(\"The argument to `GroupBy` was:\\n\", GroupBy,\n",
    "              \"\\nBut it was not found among sample variables:\\n\",\n",
    "              paste0(sample_variables(physeq), collapse = \", \"), \"\\n\",\n",
    "              \"Please check the list shown above and try again.\")\n",
    "    }\n",
    "  }\n",
    "  # Start with fast melt\n",
    "  mdt = fast_melt(physeq)\n",
    "  if(!is.null(GroupBy)){\n",
    "    # Add the variable indicated in `GroupBy`, if provided.\n",
    "    sdt = data.table(SampleID = sample_names(physeq),\n",
    "                     var1 = get_variable(physeq, GroupBy))\n",
    "    setnames(sdt, \"var1\", GroupBy)\n",
    "    # Join\n",
    "    setkey(sdt, SampleID)\n",
    "    setkey(mdt, SampleID)\n",
    "    mdt <- sdt[mdt]\n",
    "  }\n",
    "  # Summarize\n",
    "Nsamples = nsamples(physeq)\n",
    "  summarydt = mdt[, list(meanRA = (mean(RelativeAbundance))*100,\n",
    "                         sdRA = sd(RelativeAbundance)*100,\n",
    "                         minRA = min(RelativeAbundance)*100,\n",
    "                         maxRA = max(RelativeAbundance)*100),\n",
    "                  by = c(Rank, GroupBy)]\n",
    "  return(summarydt)\n",
    "}"
   ]
  },
  {
   "cell_type": "code",
   "execution_count": 22,
   "id": "0564c416-75b0-42f7-9741-f8ff386d5210",
   "metadata": {},
   "outputs": [
    {
     "data": {
      "text/html": [
       "<table class=\"dataframe\">\n",
       "<caption>A data.table: 6 × 6</caption>\n",
       "<thead>\n",
       "\t<tr><th scope=col>Order</th><th scope=col>Site.Status</th><th scope=col>meanRA</th><th scope=col>sdRA</th><th scope=col>minRA</th><th scope=col>maxRA</th></tr>\n",
       "\t<tr><th scope=col>&lt;chr&gt;</th><th scope=col>&lt;fct&gt;</th><th scope=col>&lt;dbl&gt;</th><th scope=col>&lt;dbl&gt;</th><th scope=col>&lt;dbl&gt;</th><th scope=col>&lt;dbl&gt;</th></tr>\n",
       "</thead>\n",
       "<tbody>\n",
       "\t<tr><td> o__Rhodobacterales   </td><td>Endemic   </td><td>31.51797</td><td>27.91757</td><td>0.4266492</td><td>100.00000</td></tr>\n",
       "\t<tr><td> o__Vibrionales       </td><td>Endemic   </td><td>30.89929</td><td>32.22347</td><td>1.1320755</td><td> 94.35510</td></tr>\n",
       "\t<tr><td> o__Desulfovibrionales</td><td>Endemic   </td><td>20.20505</td><td>32.54821</td><td>0.8771930</td><td> 77.83985</td></tr>\n",
       "\t<tr><td> o__Caulobacterales   </td><td>Endemic   </td><td>17.74896</td><td>29.78958</td><td>1.0554090</td><td>100.00000</td></tr>\n",
       "\t<tr><td> o__Rhodobacterales   </td><td>Vulnerable</td><td>14.06565</td><td>19.74631</td><td>0.1969561</td><td>100.00000</td></tr>\n",
       "\t<tr><td> o__Flavobacteriales  </td><td>Endemic   </td><td>13.24744</td><td>13.52530</td><td>0.6435467</td><td> 51.35135</td></tr>\n",
       "</tbody>\n",
       "</table>\n"
      ],
      "text/latex": [
       "A data.table: 6 × 6\n",
       "\\begin{tabular}{llllll}\n",
       " Order & Site.Status & meanRA & sdRA & minRA & maxRA\\\\\n",
       " <chr> & <fct> & <dbl> & <dbl> & <dbl> & <dbl>\\\\\n",
       "\\hline\n",
       "\t  o\\_\\_Rhodobacterales    & Endemic    & 31.51797 & 27.91757 & 0.4266492 & 100.00000\\\\\n",
       "\t  o\\_\\_Vibrionales        & Endemic    & 30.89929 & 32.22347 & 1.1320755 &  94.35510\\\\\n",
       "\t  o\\_\\_Desulfovibrionales & Endemic    & 20.20505 & 32.54821 & 0.8771930 &  77.83985\\\\\n",
       "\t  o\\_\\_Caulobacterales    & Endemic    & 17.74896 & 29.78958 & 1.0554090 & 100.00000\\\\\n",
       "\t  o\\_\\_Rhodobacterales    & Vulnerable & 14.06565 & 19.74631 & 0.1969561 & 100.00000\\\\\n",
       "\t  o\\_\\_Flavobacteriales   & Endemic    & 13.24744 & 13.52530 & 0.6435467 &  51.35135\\\\\n",
       "\\end{tabular}\n"
      ],
      "text/markdown": [
       "\n",
       "A data.table: 6 × 6\n",
       "\n",
       "| Order &lt;chr&gt; | Site.Status &lt;fct&gt; | meanRA &lt;dbl&gt; | sdRA &lt;dbl&gt; | minRA &lt;dbl&gt; | maxRA &lt;dbl&gt; |\n",
       "|---|---|---|---|---|---|\n",
       "|  o__Rhodobacterales    | Endemic    | 31.51797 | 27.91757 | 0.4266492 | 100.00000 |\n",
       "|  o__Vibrionales        | Endemic    | 30.89929 | 32.22347 | 1.1320755 |  94.35510 |\n",
       "|  o__Desulfovibrionales | Endemic    | 20.20505 | 32.54821 | 0.8771930 |  77.83985 |\n",
       "|  o__Caulobacterales    | Endemic    | 17.74896 | 29.78958 | 1.0554090 | 100.00000 |\n",
       "|  o__Rhodobacterales    | Vulnerable | 14.06565 | 19.74631 | 0.1969561 | 100.00000 |\n",
       "|  o__Flavobacteriales   | Endemic    | 13.24744 | 13.52530 | 0.6435467 |  51.35135 |\n",
       "\n"
      ],
      "text/plain": [
       "  Order                  Site.Status meanRA   sdRA     minRA     maxRA    \n",
       "1  o__Rhodobacterales    Endemic     31.51797 27.91757 0.4266492 100.00000\n",
       "2  o__Vibrionales        Endemic     30.89929 32.22347 1.1320755  94.35510\n",
       "3  o__Desulfovibrionales Endemic     20.20505 32.54821 0.8771930  77.83985\n",
       "4  o__Caulobacterales    Endemic     17.74896 29.78958 1.0554090 100.00000\n",
       "5  o__Rhodobacterales    Vulnerable  14.06565 19.74631 0.1969561 100.00000\n",
       "6  o__Flavobacteriales   Endemic     13.24744 13.52530 0.6435467  51.35135"
      ]
     },
     "metadata": {},
     "output_type": "display_data"
    }
   ],
   "source": [
    "subset_samples(ps_path_fill, Type==\"Coral\") %>%\n",
    "summarize_taxa(Rank=\"Order\", GroupBy=\"Site.Status\") %>%\n",
    "#filter(Order %in% c(' o__Alteromonadales')) %>%\n",
    "arrange(-meanRA)  %>%\n",
    "head()"
   ]
  },
  {
   "cell_type": "code",
   "execution_count": 23,
   "id": "89dca6b0-d8cf-4edc-9ac0-3d1393870958",
   "metadata": {},
   "outputs": [
    {
     "data": {
      "text/html": [
       "<table class=\"dataframe\">\n",
       "<caption>A data.table: 6 × 6</caption>\n",
       "<thead>\n",
       "\t<tr><th scope=col>Order</th><th scope=col>Site.Status</th><th scope=col>meanRA</th><th scope=col>sdRA</th><th scope=col>minRA</th><th scope=col>maxRA</th></tr>\n",
       "\t<tr><th scope=col>&lt;chr&gt;</th><th scope=col>&lt;fct&gt;</th><th scope=col>&lt;dbl&gt;</th><th scope=col>&lt;dbl&gt;</th><th scope=col>&lt;dbl&gt;</th><th scope=col>&lt;dbl&gt;</th></tr>\n",
       "</thead>\n",
       "<tbody>\n",
       "\t<tr><td> o__Rhodobacterales</td><td>Vulnerable</td><td>32.027497</td><td>20.61688</td><td>1.3148789</td><td>87.31661</td></tr>\n",
       "\t<tr><td> o__Rhodobacterales</td><td>Endemic   </td><td>25.579666</td><td>35.81911</td><td>0.5113221</td><td>90.14634</td></tr>\n",
       "\t<tr><td> o__Rhodobacterales</td><td>Epidemic  </td><td>19.809250</td><td>28.07505</td><td>0.4034291</td><td>82.96060</td></tr>\n",
       "\t<tr><td> o__Vibrionales    </td><td>Vulnerable</td><td>15.736169</td><td>11.49687</td><td>1.8099548</td><td>44.24460</td></tr>\n",
       "\t<tr><td> o__Alteromonadales</td><td>Vulnerable</td><td> 8.216693</td><td> 6.04785</td><td>0.4127967</td><td>27.98507</td></tr>\n",
       "\t<tr><td> o__Alteromonadales</td><td>Epidemic  </td><td> 7.381433</td><td>16.64744</td><td>0.1848856</td><td>79.03859</td></tr>\n",
       "</tbody>\n",
       "</table>\n"
      ],
      "text/latex": [
       "A data.table: 6 × 6\n",
       "\\begin{tabular}{llllll}\n",
       " Order & Site.Status & meanRA & sdRA & minRA & maxRA\\\\\n",
       " <chr> & <fct> & <dbl> & <dbl> & <dbl> & <dbl>\\\\\n",
       "\\hline\n",
       "\t  o\\_\\_Rhodobacterales & Vulnerable & 32.027497 & 20.61688 & 1.3148789 & 87.31661\\\\\n",
       "\t  o\\_\\_Rhodobacterales & Endemic    & 25.579666 & 35.81911 & 0.5113221 & 90.14634\\\\\n",
       "\t  o\\_\\_Rhodobacterales & Epidemic   & 19.809250 & 28.07505 & 0.4034291 & 82.96060\\\\\n",
       "\t  o\\_\\_Vibrionales     & Vulnerable & 15.736169 & 11.49687 & 1.8099548 & 44.24460\\\\\n",
       "\t  o\\_\\_Alteromonadales & Vulnerable &  8.216693 &  6.04785 & 0.4127967 & 27.98507\\\\\n",
       "\t  o\\_\\_Alteromonadales & Epidemic   &  7.381433 & 16.64744 & 0.1848856 & 79.03859\\\\\n",
       "\\end{tabular}\n"
      ],
      "text/markdown": [
       "\n",
       "A data.table: 6 × 6\n",
       "\n",
       "| Order &lt;chr&gt; | Site.Status &lt;fct&gt; | meanRA &lt;dbl&gt; | sdRA &lt;dbl&gt; | minRA &lt;dbl&gt; | maxRA &lt;dbl&gt; |\n",
       "|---|---|---|---|---|---|\n",
       "|  o__Rhodobacterales | Vulnerable | 32.027497 | 20.61688 | 1.3148789 | 87.31661 |\n",
       "|  o__Rhodobacterales | Endemic    | 25.579666 | 35.81911 | 0.5113221 | 90.14634 |\n",
       "|  o__Rhodobacterales | Epidemic   | 19.809250 | 28.07505 | 0.4034291 | 82.96060 |\n",
       "|  o__Vibrionales     | Vulnerable | 15.736169 | 11.49687 | 1.8099548 | 44.24460 |\n",
       "|  o__Alteromonadales | Vulnerable |  8.216693 |  6.04785 | 0.4127967 | 27.98507 |\n",
       "|  o__Alteromonadales | Epidemic   |  7.381433 | 16.64744 | 0.1848856 | 79.03859 |\n",
       "\n"
      ],
      "text/plain": [
       "  Order               Site.Status meanRA    sdRA     minRA     maxRA   \n",
       "1  o__Rhodobacterales Vulnerable  32.027497 20.61688 1.3148789 87.31661\n",
       "2  o__Rhodobacterales Endemic     25.579666 35.81911 0.5113221 90.14634\n",
       "3  o__Rhodobacterales Epidemic    19.809250 28.07505 0.4034291 82.96060\n",
       "4  o__Vibrionales     Vulnerable  15.736169 11.49687 1.8099548 44.24460\n",
       "5  o__Alteromonadales Vulnerable   8.216693  6.04785 0.4127967 27.98507\n",
       "6  o__Alteromonadales Epidemic     7.381433 16.64744 0.1848856 79.03859"
      ]
     },
     "metadata": {},
     "output_type": "display_data"
    }
   ],
   "source": [
    "subset_samples(ps_path_fill, Type==\"Water\") %>%\n",
    "summarize_taxa(Rank=\"Order\", GroupBy=\"Site.Status\") %>%\n",
    "#filter(Order %in% c(' o__Peptostreptococcales-Tissierellales')) %>%\n",
    "arrange(-meanRA) %>%\n",
    "head()"
   ]
  },
  {
   "cell_type": "code",
   "execution_count": 24,
   "id": "4e4b153a-cba0-4c2a-913e-c8fa13004c16",
   "metadata": {},
   "outputs": [
    {
     "data": {
      "text/html": [
       "<table class=\"dataframe\">\n",
       "<caption>A data.table: 6 × 6</caption>\n",
       "<thead>\n",
       "\t<tr><th scope=col>Order</th><th scope=col>Site.Status</th><th scope=col>meanRA</th><th scope=col>sdRA</th><th scope=col>minRA</th><th scope=col>maxRA</th></tr>\n",
       "\t<tr><th scope=col>&lt;chr&gt;</th><th scope=col>&lt;fct&gt;</th><th scope=col>&lt;dbl&gt;</th><th scope=col>&lt;dbl&gt;</th><th scope=col>&lt;dbl&gt;</th><th scope=col>&lt;dbl&gt;</th></tr>\n",
       "</thead>\n",
       "<tbody>\n",
       "\t<tr><td> o__Rhodobacterales </td><td>Epidemic  </td><td>12.208132</td><td>11.925986</td><td>0.5294741</td><td>39.65015</td></tr>\n",
       "\t<tr><td> o__Flavobacteriales</td><td>Vulnerable</td><td>11.077202</td><td> 7.837090</td><td>0.8411215</td><td>27.04805</td></tr>\n",
       "\t<tr><td> o__Rhodobacterales </td><td>Vulnerable</td><td> 9.876488</td><td>12.307819</td><td>0.3518649</td><td>41.16952</td></tr>\n",
       "\t<tr><td> o__Rhodobacterales </td><td>Endemic   </td><td> 8.870319</td><td>10.853588</td><td>0.2765487</td><td>44.27083</td></tr>\n",
       "\t<tr><td> o__Flavobacteriales</td><td>Endemic   </td><td> 8.178485</td><td> 5.326644</td><td>0.0833135</td><td>22.62557</td></tr>\n",
       "\t<tr><td> o__Flavobacteriales</td><td>Epidemic  </td><td> 7.914824</td><td> 5.709382</td><td>0.2823862</td><td>22.22222</td></tr>\n",
       "</tbody>\n",
       "</table>\n"
      ],
      "text/latex": [
       "A data.table: 6 × 6\n",
       "\\begin{tabular}{llllll}\n",
       " Order & Site.Status & meanRA & sdRA & minRA & maxRA\\\\\n",
       " <chr> & <fct> & <dbl> & <dbl> & <dbl> & <dbl>\\\\\n",
       "\\hline\n",
       "\t  o\\_\\_Rhodobacterales  & Epidemic   & 12.208132 & 11.925986 & 0.5294741 & 39.65015\\\\\n",
       "\t  o\\_\\_Flavobacteriales & Vulnerable & 11.077202 &  7.837090 & 0.8411215 & 27.04805\\\\\n",
       "\t  o\\_\\_Rhodobacterales  & Vulnerable &  9.876488 & 12.307819 & 0.3518649 & 41.16952\\\\\n",
       "\t  o\\_\\_Rhodobacterales  & Endemic    &  8.870319 & 10.853588 & 0.2765487 & 44.27083\\\\\n",
       "\t  o\\_\\_Flavobacteriales & Endemic    &  8.178485 &  5.326644 & 0.0833135 & 22.62557\\\\\n",
       "\t  o\\_\\_Flavobacteriales & Epidemic   &  7.914824 &  5.709382 & 0.2823862 & 22.22222\\\\\n",
       "\\end{tabular}\n"
      ],
      "text/markdown": [
       "\n",
       "A data.table: 6 × 6\n",
       "\n",
       "| Order &lt;chr&gt; | Site.Status &lt;fct&gt; | meanRA &lt;dbl&gt; | sdRA &lt;dbl&gt; | minRA &lt;dbl&gt; | maxRA &lt;dbl&gt; |\n",
       "|---|---|---|---|---|---|\n",
       "|  o__Rhodobacterales  | Epidemic   | 12.208132 | 11.925986 | 0.5294741 | 39.65015 |\n",
       "|  o__Flavobacteriales | Vulnerable | 11.077202 |  7.837090 | 0.8411215 | 27.04805 |\n",
       "|  o__Rhodobacterales  | Vulnerable |  9.876488 | 12.307819 | 0.3518649 | 41.16952 |\n",
       "|  o__Rhodobacterales  | Endemic    |  8.870319 | 10.853588 | 0.2765487 | 44.27083 |\n",
       "|  o__Flavobacteriales | Endemic    |  8.178485 |  5.326644 | 0.0833135 | 22.62557 |\n",
       "|  o__Flavobacteriales | Epidemic   |  7.914824 |  5.709382 | 0.2823862 | 22.22222 |\n",
       "\n"
      ],
      "text/plain": [
       "  Order                Site.Status meanRA    sdRA      minRA     maxRA   \n",
       "1  o__Rhodobacterales  Epidemic    12.208132 11.925986 0.5294741 39.65015\n",
       "2  o__Flavobacteriales Vulnerable  11.077202  7.837090 0.8411215 27.04805\n",
       "3  o__Rhodobacterales  Vulnerable   9.876488 12.307819 0.3518649 41.16952\n",
       "4  o__Rhodobacterales  Endemic      8.870319 10.853588 0.2765487 44.27083\n",
       "5  o__Flavobacteriales Endemic      8.178485  5.326644 0.0833135 22.62557\n",
       "6  o__Flavobacteriales Epidemic     7.914824  5.709382 0.2823862 22.22222"
      ]
     },
     "metadata": {},
     "output_type": "display_data"
    }
   ],
   "source": [
    "subset_samples(ps_path_fill, Type==\"Sediment\") %>%\n",
    "summarize_taxa(Rank=\"Order\", GroupBy=\"Site.Status\") %>%\n",
    "#filter(Order %in% c(' o__Peptostreptococcales-Tissierellales')) %>%\n",
    "arrange(-meanRA) %>%\n",
    "head()"
   ]
  }
 ],
 "metadata": {
  "kernelspec": {
   "display_name": "R",
   "language": "R",
   "name": "ir"
  },
  "language_info": {
   "codemirror_mode": "r",
   "file_extension": ".r",
   "mimetype": "text/x-r-source",
   "name": "R",
   "pygments_lexer": "r",
   "version": "4.4.1"
  }
 },
 "nbformat": 4,
 "nbformat_minor": 5
}
