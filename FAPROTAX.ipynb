{
 "cells": [
  {
   "cell_type": "code",
   "execution_count": 36,
   "id": "b2f2d784-e573-4b85-9609-24755ee31b66",
   "metadata": {},
   "outputs": [],
   "source": [
    "library(microeco)\n",
    "library(file2meco)\n",
    "\n",
    "library(ggplot2)\n",
    "library(ggpubr)\n",
    "library(qiime2R)\n",
    "library(Maaslin2)\n",
    "library(microbiome)\n",
    "library(microViz)\n",
    "library(phyloseq)\n",
    "library(tidyverse)  \n",
    "\n",
    "\n",
    "\n"
   ]
  },
  {
   "cell_type": "code",
   "execution_count": 2,
   "id": "8772d809-6641-4846-ad19-02a9879d15e4",
   "metadata": {},
   "outputs": [],
   "source": [
    "abund_file_path <- system.file(\"extdata\", \"/Users/stephanie.rosales/Documents/Tissueloss/EPA2/merged_tables_BacArc_fill_EPA2.qza\", package=\"file2meco\")\n",
    "sample_file_path <- system.file(\"extdata\", \"/Users/stephanie.rosales/Documents/Tissueloss/EPA2/metadata/meta_EPA2.csv\", package=\"file2meco\")\n",
    "taxonomy_file_path <- system.file(\"extdata\", \"/Users/stephanie.rosales/Documents/Tissueloss/EPA2/tax_EPA2.qza\", package=\"file2meco\")\n"
   ]
  },
  {
   "cell_type": "code",
   "execution_count": 3,
   "id": "537e2471-bc77-43c8-a2ac-9b843b74ed72",
   "metadata": {},
   "outputs": [
    {
     "data": {
      "text/html": [
       "<table class=\"dataframe\">\n",
       "<caption>A matrix: 6 × 1109 of type dbl</caption>\n",
       "<thead>\n",
       "\t<tr><th></th><th scope=col>R1.1.W</th><th scope=col>R1.10.W</th><th scope=col>R1.11.W</th><th scope=col>R1.12.W</th><th scope=col>R1.13.W</th><th scope=col>R1.14.W</th><th scope=col>R1.15.W</th><th scope=col>R1.16.W</th><th scope=col>R1.17.W</th><th scope=col>R1.18.W</th><th scope=col>⋯</th><th scope=col>GR.SINT.En4</th><th scope=col>GR.SINT.En5</th><th scope=col>GR.SINT.En6</th><th scope=col>TP.DLAB.En1</th><th scope=col>TP.DLAB.En2</th><th scope=col>TP.DLAB.En3</th><th scope=col>TP.DLAB.En4</th><th scope=col>TP.DLAB.En5</th><th scope=col>TP.DLAB.En6</th><th scope=col>TP.DSTO.En1</th></tr>\n",
       "</thead>\n",
       "<tbody>\n",
       "\t<tr><th scope=row>72caa013fe7649c65ffe72138ff7dfd1</th><td> 0</td><td> 0</td><td> 0</td><td> 0</td><td> 0</td><td> 0</td><td> 0</td><td> 0</td><td> 0</td><td> 0</td><td>⋯</td><td>0</td><td>0</td><td> 0</td><td>0</td><td>  0</td><td> 0</td><td>  0</td><td>  0</td><td> 0</td><td>0</td></tr>\n",
       "\t<tr><th scope=row>2b248f10cca3c82a2640506132f9c869</th><td> 0</td><td> 0</td><td> 0</td><td> 0</td><td> 0</td><td> 0</td><td> 0</td><td> 0</td><td> 0</td><td> 0</td><td>⋯</td><td>0</td><td>0</td><td> 0</td><td>0</td><td>  0</td><td> 0</td><td>  0</td><td>  0</td><td> 0</td><td>0</td></tr>\n",
       "\t<tr><th scope=row>4af34e31f4f29f5372246db273985eb8</th><td>12</td><td>18</td><td>24</td><td>19</td><td>20</td><td>28</td><td>21</td><td>23</td><td>19</td><td>26</td><td>⋯</td><td>0</td><td>0</td><td>38</td><td>0</td><td>197</td><td>37</td><td>149</td><td>198</td><td>14</td><td>0</td></tr>\n",
       "\t<tr><th scope=row>516a7dfb3358a03ad54608b2bfe54ded</th><td> 0</td><td> 0</td><td> 0</td><td> 0</td><td> 0</td><td> 0</td><td> 0</td><td> 0</td><td> 0</td><td> 0</td><td>⋯</td><td>0</td><td>0</td><td> 0</td><td>0</td><td>  0</td><td> 0</td><td>  0</td><td>  0</td><td> 0</td><td>0</td></tr>\n",
       "\t<tr><th scope=row>63c48fb71320865b89f020cc70ce9bae</th><td> 0</td><td> 0</td><td> 0</td><td> 0</td><td> 0</td><td> 0</td><td> 0</td><td> 0</td><td> 0</td><td> 0</td><td>⋯</td><td>0</td><td>0</td><td> 0</td><td>0</td><td>  0</td><td> 0</td><td>  0</td><td>  0</td><td> 0</td><td>0</td></tr>\n",
       "\t<tr><th scope=row>5ca9f99167b7bf31249f42965de904ff</th><td> 0</td><td> 0</td><td> 0</td><td> 0</td><td> 0</td><td> 0</td><td> 0</td><td> 0</td><td> 0</td><td> 0</td><td>⋯</td><td>0</td><td>0</td><td> 0</td><td>0</td><td>  0</td><td> 0</td><td>  0</td><td>  0</td><td> 0</td><td>0</td></tr>\n",
       "</tbody>\n",
       "</table>\n"
      ],
      "text/latex": [
       "A matrix: 6 × 1109 of type dbl\n",
       "\\begin{tabular}{r|lllllllllllllllllllll}\n",
       "  & R1.1.W & R1.10.W & R1.11.W & R1.12.W & R1.13.W & R1.14.W & R1.15.W & R1.16.W & R1.17.W & R1.18.W & ⋯ & GR.SINT.En4 & GR.SINT.En5 & GR.SINT.En6 & TP.DLAB.En1 & TP.DLAB.En2 & TP.DLAB.En3 & TP.DLAB.En4 & TP.DLAB.En5 & TP.DLAB.En6 & TP.DSTO.En1\\\\\n",
       "\\hline\n",
       "\t72caa013fe7649c65ffe72138ff7dfd1 &  0 &  0 &  0 &  0 &  0 &  0 &  0 &  0 &  0 &  0 & ⋯ & 0 & 0 &  0 & 0 &   0 &  0 &   0 &   0 &  0 & 0\\\\\n",
       "\t2b248f10cca3c82a2640506132f9c869 &  0 &  0 &  0 &  0 &  0 &  0 &  0 &  0 &  0 &  0 & ⋯ & 0 & 0 &  0 & 0 &   0 &  0 &   0 &   0 &  0 & 0\\\\\n",
       "\t4af34e31f4f29f5372246db273985eb8 & 12 & 18 & 24 & 19 & 20 & 28 & 21 & 23 & 19 & 26 & ⋯ & 0 & 0 & 38 & 0 & 197 & 37 & 149 & 198 & 14 & 0\\\\\n",
       "\t516a7dfb3358a03ad54608b2bfe54ded &  0 &  0 &  0 &  0 &  0 &  0 &  0 &  0 &  0 &  0 & ⋯ & 0 & 0 &  0 & 0 &   0 &  0 &   0 &   0 &  0 & 0\\\\\n",
       "\t63c48fb71320865b89f020cc70ce9bae &  0 &  0 &  0 &  0 &  0 &  0 &  0 &  0 &  0 &  0 & ⋯ & 0 & 0 &  0 & 0 &   0 &  0 &   0 &   0 &  0 & 0\\\\\n",
       "\t5ca9f99167b7bf31249f42965de904ff &  0 &  0 &  0 &  0 &  0 &  0 &  0 &  0 &  0 &  0 & ⋯ & 0 & 0 &  0 & 0 &   0 &  0 &   0 &   0 &  0 & 0\\\\\n",
       "\\end{tabular}\n"
      ],
      "text/markdown": [
       "\n",
       "A matrix: 6 × 1109 of type dbl\n",
       "\n",
       "| <!--/--> | R1.1.W | R1.10.W | R1.11.W | R1.12.W | R1.13.W | R1.14.W | R1.15.W | R1.16.W | R1.17.W | R1.18.W | ⋯ | GR.SINT.En4 | GR.SINT.En5 | GR.SINT.En6 | TP.DLAB.En1 | TP.DLAB.En2 | TP.DLAB.En3 | TP.DLAB.En4 | TP.DLAB.En5 | TP.DLAB.En6 | TP.DSTO.En1 |\n",
       "|---|---|---|---|---|---|---|---|---|---|---|---|---|---|---|---|---|---|---|---|---|---|\n",
       "| 72caa013fe7649c65ffe72138ff7dfd1 |  0 |  0 |  0 |  0 |  0 |  0 |  0 |  0 |  0 |  0 | ⋯ | 0 | 0 |  0 | 0 |   0 |  0 |   0 |   0 |  0 | 0 |\n",
       "| 2b248f10cca3c82a2640506132f9c869 |  0 |  0 |  0 |  0 |  0 |  0 |  0 |  0 |  0 |  0 | ⋯ | 0 | 0 |  0 | 0 |   0 |  0 |   0 |   0 |  0 | 0 |\n",
       "| 4af34e31f4f29f5372246db273985eb8 | 12 | 18 | 24 | 19 | 20 | 28 | 21 | 23 | 19 | 26 | ⋯ | 0 | 0 | 38 | 0 | 197 | 37 | 149 | 198 | 14 | 0 |\n",
       "| 516a7dfb3358a03ad54608b2bfe54ded |  0 |  0 |  0 |  0 |  0 |  0 |  0 |  0 |  0 |  0 | ⋯ | 0 | 0 |  0 | 0 |   0 |  0 |   0 |   0 |  0 | 0 |\n",
       "| 63c48fb71320865b89f020cc70ce9bae |  0 |  0 |  0 |  0 |  0 |  0 |  0 |  0 |  0 |  0 | ⋯ | 0 | 0 |  0 | 0 |   0 |  0 |   0 |   0 |  0 | 0 |\n",
       "| 5ca9f99167b7bf31249f42965de904ff |  0 |  0 |  0 |  0 |  0 |  0 |  0 |  0 |  0 |  0 | ⋯ | 0 | 0 |  0 | 0 |   0 |  0 |   0 |   0 |  0 | 0 |\n",
       "\n"
      ],
      "text/plain": [
       "                                 R1.1.W R1.10.W R1.11.W R1.12.W R1.13.W R1.14.W\n",
       "72caa013fe7649c65ffe72138ff7dfd1  0      0       0       0       0       0     \n",
       "2b248f10cca3c82a2640506132f9c869  0      0       0       0       0       0     \n",
       "4af34e31f4f29f5372246db273985eb8 12     18      24      19      20      28     \n",
       "516a7dfb3358a03ad54608b2bfe54ded  0      0       0       0       0       0     \n",
       "63c48fb71320865b89f020cc70ce9bae  0      0       0       0       0       0     \n",
       "5ca9f99167b7bf31249f42965de904ff  0      0       0       0       0       0     \n",
       "                                 R1.15.W R1.16.W R1.17.W R1.18.W ⋯ GR.SINT.En4\n",
       "72caa013fe7649c65ffe72138ff7dfd1  0       0       0       0      ⋯ 0          \n",
       "2b248f10cca3c82a2640506132f9c869  0       0       0       0      ⋯ 0          \n",
       "4af34e31f4f29f5372246db273985eb8 21      23      19      26      ⋯ 0          \n",
       "516a7dfb3358a03ad54608b2bfe54ded  0       0       0       0      ⋯ 0          \n",
       "63c48fb71320865b89f020cc70ce9bae  0       0       0       0      ⋯ 0          \n",
       "5ca9f99167b7bf31249f42965de904ff  0       0       0       0      ⋯ 0          \n",
       "                                 GR.SINT.En5 GR.SINT.En6 TP.DLAB.En1\n",
       "72caa013fe7649c65ffe72138ff7dfd1 0            0          0          \n",
       "2b248f10cca3c82a2640506132f9c869 0            0          0          \n",
       "4af34e31f4f29f5372246db273985eb8 0           38          0          \n",
       "516a7dfb3358a03ad54608b2bfe54ded 0            0          0          \n",
       "63c48fb71320865b89f020cc70ce9bae 0            0          0          \n",
       "5ca9f99167b7bf31249f42965de904ff 0            0          0          \n",
       "                                 TP.DLAB.En2 TP.DLAB.En3 TP.DLAB.En4\n",
       "72caa013fe7649c65ffe72138ff7dfd1   0          0            0        \n",
       "2b248f10cca3c82a2640506132f9c869   0          0            0        \n",
       "4af34e31f4f29f5372246db273985eb8 197         37          149        \n",
       "516a7dfb3358a03ad54608b2bfe54ded   0          0            0        \n",
       "63c48fb71320865b89f020cc70ce9bae   0          0            0        \n",
       "5ca9f99167b7bf31249f42965de904ff   0          0            0        \n",
       "                                 TP.DLAB.En5 TP.DLAB.En6 TP.DSTO.En1\n",
       "72caa013fe7649c65ffe72138ff7dfd1   0          0          0          \n",
       "2b248f10cca3c82a2640506132f9c869   0          0          0          \n",
       "4af34e31f4f29f5372246db273985eb8 198         14          0          \n",
       "516a7dfb3358a03ad54608b2bfe54ded   0          0          0          \n",
       "63c48fb71320865b89f020cc70ce9bae   0          0          0          \n",
       "5ca9f99167b7bf31249f42965de904ff   0          0          0          "
      ]
     },
     "metadata": {},
     "output_type": "display_data"
    },
    {
     "data": {
      "text/html": [
       "<style>\n",
       ".list-inline {list-style: none; margin:0; padding: 0}\n",
       ".list-inline>li {display: inline-block}\n",
       ".list-inline>li:not(:last-child)::after {content: \"\\00b7\"; padding: 0 .5ex}\n",
       "</style>\n",
       "<ol class=list-inline><li>11756</li><li>1109</li></ol>\n"
      ],
      "text/latex": [
       "\\begin{enumerate*}\n",
       "\\item 11756\n",
       "\\item 1109\n",
       "\\end{enumerate*}\n"
      ],
      "text/markdown": [
       "1. 11756\n",
       "2. 1109\n",
       "\n",
       "\n"
      ],
      "text/plain": [
       "[1] 11756  1109"
      ]
     },
     "metadata": {},
     "output_type": "display_data"
    },
    {
     "name": "stderr",
     "output_type": "stream",
     "text": [
      "Warning message:\n",
      "“\u001b[1m\u001b[22mExpected 7 pieces. Missing pieces filled with `NA` in 103262 rows [1, 2, 3, 7,\n",
      "8, 9, 11, 12, 13, 14, 15, 16, 18, 19, 20, 21, 22, 24, 26, 27, ...].”\n"
     ]
    },
    {
     "data": {
      "text/html": [
       "<table class=\"dataframe\">\n",
       "<caption>A data.frame: 2 × 45</caption>\n",
       "<thead>\n",
       "\t<tr><th></th><th scope=col>samp</th><th scope=col>Sample.ID</th><th scope=col>Site</th><th scope=col>Site.Name</th><th scope=col>Region</th><th scope=col>Project</th><th scope=col>Type</th><th scope=col>Species_sample</th><th scope=col>Sample.Type</th><th scope=col>Site.Status</th><th scope=col>⋯</th><th scope=col>Types</th><th scope=col>Vul_coral</th><th scope=col>End_coral</th><th scope=col>Epi_coral</th><th scope=col>Vul_sed</th><th scope=col>End_sed</th><th scope=col>Epi_sed</th><th scope=col>Vul_wat</th><th scope=col>End_wat</th><th scope=col>Epi_wat</th></tr>\n",
       "\t<tr><th></th><th scope=col>&lt;chr&gt;</th><th scope=col>&lt;chr&gt;</th><th scope=col>&lt;chr&gt;</th><th scope=col>&lt;chr&gt;</th><th scope=col>&lt;chr&gt;</th><th scope=col>&lt;chr&gt;</th><th scope=col>&lt;chr&gt;</th><th scope=col>&lt;chr&gt;</th><th scope=col>&lt;chr&gt;</th><th scope=col>&lt;fct&gt;</th><th scope=col>⋯</th><th scope=col>&lt;int&gt;</th><th scope=col>&lt;int&gt;</th><th scope=col>&lt;int&gt;</th><th scope=col>&lt;int&gt;</th><th scope=col>&lt;int&gt;</th><th scope=col>&lt;int&gt;</th><th scope=col>&lt;int&gt;</th><th scope=col>&lt;int&gt;</th><th scope=col>&lt;int&gt;</th><th scope=col>&lt;int&gt;</th></tr>\n",
       "</thead>\n",
       "<tbody>\n",
       "\t<tr><th scope=row>518.H</th><td>518.H_S18</td><td>518.H_S18</td><td>Site-G</td><td>Xesto.Patch</td><td>Lower Keys</td><td>SWG</td><td>Coral</td><td>OFAV</td><td>Healthy</td><td>Vulnerable</td><td>⋯</td><td>0</td><td>1</td><td>0</td><td>0</td><td>0</td><td>0</td><td>0</td><td>0</td><td>0</td><td>0</td></tr>\n",
       "\t<tr><th scope=row>519.H</th><td>519.H_S18</td><td>519.H_S18</td><td>Site-G</td><td>Xesto.Patch</td><td>Lower Keys</td><td>SWG</td><td>Coral</td><td>OFAV</td><td>Healthy</td><td>Vulnerable</td><td>⋯</td><td>0</td><td>1</td><td>0</td><td>0</td><td>0</td><td>0</td><td>0</td><td>0</td><td>0</td><td>0</td></tr>\n",
       "</tbody>\n",
       "</table>\n"
      ],
      "text/latex": [
       "A data.frame: 2 × 45\n",
       "\\begin{tabular}{r|lllllllllllllllllllll}\n",
       "  & samp & Sample.ID & Site & Site.Name & Region & Project & Type & Species\\_sample & Sample.Type & Site.Status & ⋯ & Types & Vul\\_coral & End\\_coral & Epi\\_coral & Vul\\_sed & End\\_sed & Epi\\_sed & Vul\\_wat & End\\_wat & Epi\\_wat\\\\\n",
       "  & <chr> & <chr> & <chr> & <chr> & <chr> & <chr> & <chr> & <chr> & <chr> & <fct> & ⋯ & <int> & <int> & <int> & <int> & <int> & <int> & <int> & <int> & <int> & <int>\\\\\n",
       "\\hline\n",
       "\t518.H & 518.H\\_S18 & 518.H\\_S18 & Site-G & Xesto.Patch & Lower Keys & SWG & Coral & OFAV & Healthy & Vulnerable & ⋯ & 0 & 1 & 0 & 0 & 0 & 0 & 0 & 0 & 0 & 0\\\\\n",
       "\t519.H & 519.H\\_S18 & 519.H\\_S18 & Site-G & Xesto.Patch & Lower Keys & SWG & Coral & OFAV & Healthy & Vulnerable & ⋯ & 0 & 1 & 0 & 0 & 0 & 0 & 0 & 0 & 0 & 0\\\\\n",
       "\\end{tabular}\n"
      ],
      "text/markdown": [
       "\n",
       "A data.frame: 2 × 45\n",
       "\n",
       "| <!--/--> | samp &lt;chr&gt; | Sample.ID &lt;chr&gt; | Site &lt;chr&gt; | Site.Name &lt;chr&gt; | Region &lt;chr&gt; | Project &lt;chr&gt; | Type &lt;chr&gt; | Species_sample &lt;chr&gt; | Sample.Type &lt;chr&gt; | Site.Status &lt;fct&gt; | ⋯ ⋯ | Types &lt;int&gt; | Vul_coral &lt;int&gt; | End_coral &lt;int&gt; | Epi_coral &lt;int&gt; | Vul_sed &lt;int&gt; | End_sed &lt;int&gt; | Epi_sed &lt;int&gt; | Vul_wat &lt;int&gt; | End_wat &lt;int&gt; | Epi_wat &lt;int&gt; |\n",
       "|---|---|---|---|---|---|---|---|---|---|---|---|---|---|---|---|---|---|---|---|---|---|\n",
       "| 518.H | 518.H_S18 | 518.H_S18 | Site-G | Xesto.Patch | Lower Keys | SWG | Coral | OFAV | Healthy | Vulnerable | ⋯ | 0 | 1 | 0 | 0 | 0 | 0 | 0 | 0 | 0 | 0 |\n",
       "| 519.H | 519.H_S18 | 519.H_S18 | Site-G | Xesto.Patch | Lower Keys | SWG | Coral | OFAV | Healthy | Vulnerable | ⋯ | 0 | 1 | 0 | 0 | 0 | 0 | 0 | 0 | 0 | 0 |\n",
       "\n"
      ],
      "text/plain": [
       "      samp      Sample.ID Site   Site.Name   Region     Project Type \n",
       "518.H 518.H_S18 518.H_S18 Site-G Xesto.Patch Lower Keys SWG     Coral\n",
       "519.H 519.H_S18 519.H_S18 Site-G Xesto.Patch Lower Keys SWG     Coral\n",
       "      Species_sample Sample.Type Site.Status ⋯ Types Vul_coral End_coral\n",
       "518.H OFAV           Healthy     Vulnerable  ⋯ 0     1         0        \n",
       "519.H OFAV           Healthy     Vulnerable  ⋯ 0     1         0        \n",
       "      Epi_coral Vul_sed End_sed Epi_sed Vul_wat End_wat Epi_wat\n",
       "518.H 0         0       0       0       0       0       0      \n",
       "519.H 0         0       0       0       0       0       0      "
      ]
     },
     "metadata": {},
     "output_type": "display_data"
    },
    {
     "data": {
      "text/html": [
       "<style>\n",
       ".list-inline {list-style: none; margin:0; padding: 0}\n",
       ".list-inline>li {display: inline-block}\n",
       ".list-inline>li:not(:last-child)::after {content: \"\\00b7\"; padding: 0 .5ex}\n",
       "</style>\n",
       "<ol class=list-inline><li>360</li><li>45</li></ol>\n"
      ],
      "text/latex": [
       "\\begin{enumerate*}\n",
       "\\item 360\n",
       "\\item 45\n",
       "\\end{enumerate*}\n"
      ],
      "text/markdown": [
       "1. 360\n",
       "2. 45\n",
       "\n",
       "\n"
      ],
      "text/plain": [
       "[1] 360  45"
      ]
     },
     "metadata": {},
     "output_type": "display_data"
    }
   ],
   "source": [
    "ASV_qza <- read_qza(\"/Users/stephanie.rosales/Documents/Tissueloss/EPA2/merged_tables_BacArc_fill_EPA2.qza\")\n",
    "ASV_table <- ASV_qza$data\n",
    "head(ASV_table)\n",
    "\n",
    "dim(ASV_table)\n",
    "\n",
    "\n",
    "taxa_qza <- read_qza(\"/Users/stephanie.rosales/Documents/Tissueloss/EPA2/tax_EPA2.qza\")\n",
    "taxa_table <- taxa_qza$data\n",
    "taxa_table <- taxa_qza$data %>%\n",
    "as_tibble() %>% \n",
    "#select(-Confidence) %>% \n",
    "separate(Taxon, sep=\";\", c(\"Kingdom\", \"Phylum\", \"Class\", \"Order\", \"Family\", \"Genus\", \"Species\")) %>%\n",
    "arrange(Feature.ID) %>%\n",
    "mutate(ASVs =paste('ASV',1:n(), sep = \"_\")) %>%\n",
    "column_to_rownames(\"Feature.ID\")%>%\n",
    "as.matrix()\n",
    "\n",
    "\n",
    "#read metadata file and set factor order\n",
    "meta = read.csv(\"/Users/stephanie.rosales/Documents/Tissueloss/EPA2/metadata/meta_EPA2.csv\",\n",
    "               header=TRUE, row.names=1)\n",
    "meta$Site_Num <- as.integer(meta$Site_Num)\n",
    "meta$Site.Status <- factor(meta$Site.Status, levels = c(\"Vulnerable\",\n",
    "                                                         \"Epidemic\",\"Endemic\"))\n",
    "head(meta, n=2)\n",
    "dim(meta)"
   ]
  },
  {
   "cell_type": "code",
   "execution_count": 4,
   "id": "e431652b-bac2-4275-8177-668e9cd076b3",
   "metadata": {},
   "outputs": [
    {
     "data": {
      "text/plain": [
       "phyloseq-class experiment-level object\n",
       "otu_table()   OTU Table:         [ 11756 taxa and 360 samples ]\n",
       "sample_data() Sample Data:       [ 360 samples by 45 sample variables ]\n",
       "tax_table()   Taxonomy Table:    [ 11756 taxa by 9 taxonomic ranks ]"
      ]
     },
     "metadata": {},
     "output_type": "display_data"
    }
   ],
   "source": [
    "ps = phyloseq(otu_table(ASV_table, taxa_are_rows=TRUE), \n",
    "               sample_data(meta),\n",
    "tax_table(taxa_table))\n",
    "ps %>% tax_fix()"
   ]
  },
  {
   "cell_type": "code",
   "execution_count": 5,
   "id": "139da8e9-ee76-49a8-bdba-eabdac60815d",
   "metadata": {},
   "outputs": [
    {
     "name": "stderr",
     "output_type": "stream",
     "text": [
      "477 taxa with 0 abundance are removed from the otu_table ...\n",
      "\n"
     ]
    },
    {
     "data": {
      "text/plain": [
       "microtable-class object:\n",
       "sample_table have 360 rows and 45 columns\n",
       "otu_table have 11279 rows and 360 columns\n",
       "tax_table have 11756 rows and 9 columns"
      ]
     },
     "metadata": {},
     "output_type": "display_data"
    }
   ],
   "source": [
    "phyloseq2meco(ps)"
   ]
  },
  {
   "cell_type": "code",
   "execution_count": 6,
   "id": "182c30c2-b0fe-47a4-917b-8cdcc4911123",
   "metadata": {},
   "outputs": [
    {
     "data": {
      "text/plain": [
       "phyloseq-class experiment-level object\n",
       "otu_table()   OTU Table:         [ 1304 taxa and 174 samples ]\n",
       "sample_data() Sample Data:       [ 174 samples by 45 sample variables ]\n",
       "tax_table()   Taxonomy Table:    [ 1304 taxa by 9 taxonomic ranks ]"
      ]
     },
     "metadata": {},
     "output_type": "display_data"
    },
    {
     "data": {
      "text/plain": [
       "phyloseq-class experiment-level object\n",
       "otu_table()   OTU Table:         [ 915 taxa and 117 samples ]\n",
       "sample_data() Sample Data:       [ 117 samples by 45 sample variables ]\n",
       "tax_table()   Taxonomy Table:    [ 915 taxa by 9 taxonomic ranks ]"
      ]
     },
     "metadata": {},
     "output_type": "display_data"
    },
    {
     "data": {
      "text/plain": [
       "phyloseq-class experiment-level object\n",
       "otu_table()   OTU Table:         [ 11756 taxa and 16 samples ]\n",
       "sample_data() Sample Data:       [ 16 samples by 45 sample variables ]\n",
       "tax_table()   Taxonomy Table:    [ 11756 taxa by 9 taxonomic ranks ]"
      ]
     },
     "metadata": {},
     "output_type": "display_data"
    },
    {
     "data": {
      "text/plain": [
       "phyloseq-class experiment-level object\n",
       "otu_table()   OTU Table:         [ 11756 taxa and 17 samples ]\n",
       "sample_data() Sample Data:       [ 17 samples by 45 sample variables ]\n",
       "tax_table()   Taxonomy Table:    [ 11756 taxa by 9 taxonomic ranks ]"
      ]
     },
     "metadata": {},
     "output_type": "display_data"
    },
    {
     "data": {
      "text/plain": [
       "phyloseq-class experiment-level object\n",
       "otu_table()   OTU Table:         [ 11756 taxa and 28 samples ]\n",
       "sample_data() Sample Data:       [ 28 samples by 45 sample variables ]\n",
       "tax_table()   Taxonomy Table:    [ 11756 taxa by 9 taxonomic ranks ]"
      ]
     },
     "metadata": {},
     "output_type": "display_data"
    },
    {
     "data": {
      "text/plain": [
       "phyloseq-class experiment-level object\n",
       "otu_table()   OTU Table:         [ 11756 taxa and 29 samples ]\n",
       "sample_data() Sample Data:       [ 29 samples by 45 sample variables ]\n",
       "tax_table()   Taxonomy Table:    [ 11756 taxa by 9 taxonomic ranks ]"
      ]
     },
     "metadata": {},
     "output_type": "display_data"
    },
    {
     "data": {
      "text/plain": [
       "phyloseq-class experiment-level object\n",
       "otu_table()   OTU Table:         [ 11756 taxa and 27 samples ]\n",
       "sample_data() Sample Data:       [ 27 samples by 45 sample variables ]\n",
       "tax_table()   Taxonomy Table:    [ 11756 taxa by 9 taxonomic ranks ]"
      ]
     },
     "metadata": {},
     "output_type": "display_data"
    }
   ],
   "source": [
    "ps_coral= subset_samples(ps, Type==\"Coral\")\n",
    "ps_coral_fill = filter_taxa(ps_coral, function(x) sum(x > 5) > (0.1*length(x)), TRUE)\n",
    "ps_coral_fill \n",
    "\n",
    "# Subset samples healthy and then by species\n",
    "ps_AH <- subset_samples(ps_coral, Sample.Type==\"Healthy\")\n",
    "\n",
    "ps_AH_fill = filter_taxa(ps_AH, function(x) sum(x > 5) > (0.1*length(x)), TRUE)\n",
    "ps_AH_fill \n",
    "                            \n",
    "ps_ah_DSTO=subset_samples(ps_AH, Species_sample==\"DSTO\")\n",
    "ps_ah_DSTO\n",
    "ps_ah_SINT=subset_samples(ps_AH, Species_sample==\"SINT\")\n",
    "ps_ah_SINT\n",
    "ps_ah_MCAV=subset_samples(ps_AH, Species_sample==\"MCAV\")\n",
    "ps_ah_MCAV\n",
    "ps_ah_OFAV=subset_samples(ps_AH, Species_sample==\"OFAV\")\n",
    "ps_ah_OFAV\n",
    "ps_ah_PSTR=subset_samples(ps_AH, Species_sample==\"PSTR\")\n",
    "ps_ah_PSTR"
   ]
  },
  {
   "cell_type": "code",
   "execution_count": 7,
   "id": "45cf4423-0677-4ad2-8c83-eb5688b1cccc",
   "metadata": {},
   "outputs": [
    {
     "data": {
      "text/plain": [
       "phyloseq-class experiment-level object\n",
       "otu_table()   OTU Table:         [ 1427 taxa and 16 samples ]\n",
       "sample_data() Sample Data:       [ 16 samples by 45 sample variables ]\n",
       "tax_table()   Taxonomy Table:    [ 1427 taxa by 9 taxonomic ranks ]"
      ]
     },
     "metadata": {},
     "output_type": "display_data"
    },
    {
     "data": {
      "text/plain": [
       "phyloseq-class experiment-level object\n",
       "otu_table()   OTU Table:         [ 2016 taxa and 17 samples ]\n",
       "sample_data() Sample Data:       [ 17 samples by 45 sample variables ]\n",
       "tax_table()   Taxonomy Table:    [ 2016 taxa by 9 taxonomic ranks ]"
      ]
     },
     "metadata": {},
     "output_type": "display_data"
    },
    {
     "data": {
      "text/plain": [
       "phyloseq-class experiment-level object\n",
       "otu_table()   OTU Table:         [ 535 taxa and 28 samples ]\n",
       "sample_data() Sample Data:       [ 28 samples by 45 sample variables ]\n",
       "tax_table()   Taxonomy Table:    [ 535 taxa by 9 taxonomic ranks ]"
      ]
     },
     "metadata": {},
     "output_type": "display_data"
    },
    {
     "data": {
      "text/plain": [
       "phyloseq-class experiment-level object\n",
       "otu_table()   OTU Table:         [ 805 taxa and 29 samples ]\n",
       "sample_data() Sample Data:       [ 29 samples by 45 sample variables ]\n",
       "tax_table()   Taxonomy Table:    [ 805 taxa by 9 taxonomic ranks ]"
      ]
     },
     "metadata": {},
     "output_type": "display_data"
    },
    {
     "data": {
      "text/plain": [
       "phyloseq-class experiment-level object\n",
       "otu_table()   OTU Table:         [ 1222 taxa and 27 samples ]\n",
       "sample_data() Sample Data:       [ 27 samples by 45 sample variables ]\n",
       "tax_table()   Taxonomy Table:    [ 1222 taxa by 9 taxonomic ranks ]"
      ]
     },
     "metadata": {},
     "output_type": "display_data"
    }
   ],
   "source": [
    "ps_fill_dsto = filter_taxa(ps_ah_DSTO, function(x) sum(x > 5) > (0.1*length(x)), TRUE)\n",
    "ps_fill_dsto\n",
    "ps_fill_sint = filter_taxa(ps_ah_SINT, function(x) sum(x > 5) > (0.1*length(x)), TRUE)\n",
    "ps_fill_sint\n",
    "ps_fill_mcav = filter_taxa(ps_ah_MCAV, function(x) sum(x > 5) > (0.1*length(x)), TRUE)\n",
    "ps_fill_mcav\n",
    "ps_fill_ofav = filter_taxa(ps_ah_OFAV, function(x) sum(x > 5) > (0.1*length(x)), TRUE)\n",
    "ps_fill_ofav               \n",
    "ps_fill_pstr = filter_taxa(ps_ah_PSTR, function(x) sum(x > 5) > (0.1*length(x)), TRUE)\n",
    "ps_fill_pstr                           "
   ]
  },
  {
   "cell_type": "code",
   "execution_count": 8,
   "id": "c3a36cd5-d7df-4c35-9f2e-dbcd8d12a05b",
   "metadata": {},
   "outputs": [
    {
     "data": {
      "text/plain": [
       "phyloseq-class experiment-level object\n",
       "otu_table()   OTU Table:         [ 4389 taxa and 90 samples ]\n",
       "sample_data() Sample Data:       [ 90 samples by 45 sample variables ]\n",
       "tax_table()   Taxonomy Table:    [ 4389 taxa by 9 taxonomic ranks ]"
      ]
     },
     "metadata": {},
     "output_type": "display_data"
    },
    {
     "data": {
      "text/plain": [
       "phyloseq-class experiment-level object\n",
       "otu_table()   OTU Table:         [ 940 taxa and 96 samples ]\n",
       "sample_data() Sample Data:       [ 96 samples by 45 sample variables ]\n",
       "tax_table()   Taxonomy Table:    [ 940 taxa by 9 taxonomic ranks ]"
      ]
     },
     "metadata": {},
     "output_type": "display_data"
    }
   ],
   "source": [
    "# Subset samples for Sediment type\n",
    "ps_Sediment <- subset_samples(ps, subset = sample_data(ps)$Type == \"Sediment\")\n",
    "\n",
    "ps_fill_s = filter_taxa(ps_Sediment, function(x) sum(x > 5) > (0.1*length(x)), TRUE)\n",
    "ps_fill_s\n",
    "\n",
    "ps_Water <- subset_samples(ps, subset = sample_data(ps)$Type == \"Water\")\n",
    "\n",
    "ps_fill_w = filter_taxa(ps_Water, function(x) sum(x > 5) > (0.1*length(x)), TRUE)\n",
    "ps_fill_w\n"
   ]
  },
  {
   "cell_type": "code",
   "execution_count": 9,
   "id": "b2b24237-7ca3-4f21-9842-54f3b4da4975",
   "metadata": {},
   "outputs": [
    {
     "data": {
      "text/plain": [
       "phyloseq-class experiment-level object\n",
       "otu_table()   OTU Table:         [ 2858 taxa and 117 samples ]\n",
       "sample_data() Sample Data:       [ 117 samples by 45 sample variables ]\n",
       "tax_table()   Taxonomy Table:    [ 2858 taxa by 9 taxonomic ranks ]"
      ]
     },
     "metadata": {},
     "output_type": "display_data"
    }
   ],
   "source": [
    "ps_merge_AH=merge_phyloseq(ps_fill_dsto, ps_fill_sint, ps_fill_mcav, ps_fill_ofav,ps_fill_pstr)\n",
    "ps_merge_AH"
   ]
  },
  {
   "cell_type": "code",
   "execution_count": 10,
   "id": "9b45b9ac-4c38-44eb-bec3-baff7c92ae20",
   "metadata": {},
   "outputs": [],
   "source": [
    "meco_merge_AH=phyloseq2meco(ps_merge_AH)\n",
    "meco_merge_s=phyloseq2meco(ps_fill_s)\n",
    "meco_merge_w=phyloseq2meco(ps_fill_w)"
   ]
  },
  {
   "cell_type": "markdown",
   "id": "1b4f074c-8152-4d4b-bf00-361579a86bbd",
   "metadata": {},
   "source": [
    "## Run FAPROTAX"
   ]
  },
  {
   "cell_type": "code",
   "execution_count": 11,
   "id": "4cacd63e-6079-4705-a8b2-74e336ffe1ca",
   "metadata": {},
   "outputs": [
    {
     "name": "stderr",
     "output_type": "stream",
     "text": [
      "FAPROTAX v1.2.10. Please also cite the original FAPROTAX paper: Louca et al. (2016).\n",
      "\n",
      "Decoupling function and taxonomy in the global ocean microbiome. Science, 353(6305), 1272.\n",
      "\n",
      "\n",
      "The functional binary table is stored in object$res_spe_func ...\n",
      "\n",
      "The result table is stored in object$res_spe_func_perc ...\n",
      "\n"
     ]
    },
    {
     "data": {
      "text/html": [
       "<table class=\"dataframe\">\n",
       "<caption>A data.frame: 6 × 117</caption>\n",
       "<thead>\n",
       "\t<tr><th></th><th scope=col>R3S7A1</th><th scope=col>R3S7A2</th><th scope=col>R3S7A3</th><th scope=col>R3S7A4</th><th scope=col>R3S7A5</th><th scope=col>CG.DSTO.En1</th><th scope=col>CG.DSTO.En2</th><th scope=col>CG.DSTO.En3</th><th scope=col>CG.DSTO.En4</th><th scope=col>CG.DSTO.En5</th><th scope=col>⋯</th><th scope=col>LP.PSTR.En2</th><th scope=col>LP.PSTR.En3</th><th scope=col>LP.PSTR.En4</th><th scope=col>LP.PSTR.En5</th><th scope=col>LP.PSTR.En6</th><th scope=col>LP.PSTR1.H</th><th scope=col>LP.PSTR3.H</th><th scope=col>LP.PSTR4.H</th><th scope=col>LP.PSTR5.H</th><th scope=col>LP.PSTR6.H</th></tr>\n",
       "\t<tr><th></th><th scope=col>&lt;dbl&gt;</th><th scope=col>&lt;dbl&gt;</th><th scope=col>&lt;dbl&gt;</th><th scope=col>&lt;dbl&gt;</th><th scope=col>&lt;dbl&gt;</th><th scope=col>&lt;dbl&gt;</th><th scope=col>&lt;dbl&gt;</th><th scope=col>&lt;dbl&gt;</th><th scope=col>&lt;dbl&gt;</th><th scope=col>&lt;dbl&gt;</th><th scope=col>⋯</th><th scope=col>&lt;dbl&gt;</th><th scope=col>&lt;dbl&gt;</th><th scope=col>&lt;dbl&gt;</th><th scope=col>&lt;dbl&gt;</th><th scope=col>&lt;dbl&gt;</th><th scope=col>&lt;dbl&gt;</th><th scope=col>&lt;dbl&gt;</th><th scope=col>&lt;dbl&gt;</th><th scope=col>&lt;dbl&gt;</th><th scope=col>&lt;dbl&gt;</th></tr>\n",
       "</thead>\n",
       "<tbody>\n",
       "\t<tr><th scope=row>methanotrophy</th><td>0.00</td><td>0.00</td><td>0.00</td><td>0.00</td><td>0.00</td><td>0.00</td><td>0.04</td><td>0.02</td><td>0.00</td><td>0.02</td><td>⋯</td><td>0.00</td><td>0.00</td><td>0.00</td><td>0.00</td><td>0.00</td><td>0.00</td><td>0.00</td><td>0.00</td><td>0.00</td><td>0.00</td></tr>\n",
       "\t<tr><th scope=row>methanol_oxidation</th><td>0.03</td><td>0.00</td><td>0.00</td><td>0.02</td><td>0.00</td><td>0.45</td><td>0.86</td><td>1.14</td><td>0.48</td><td>0.43</td><td>⋯</td><td>1.87</td><td>9.19</td><td>0.68</td><td>1.33</td><td>3.67</td><td>0.25</td><td>0.28</td><td>0.57</td><td>0.40</td><td>0.20</td></tr>\n",
       "\t<tr><th scope=row>methylotrophy</th><td>0.03</td><td>0.00</td><td>0.00</td><td>0.02</td><td>0.00</td><td>0.45</td><td>0.86</td><td>1.14</td><td>0.48</td><td>0.43</td><td>⋯</td><td>1.87</td><td>9.19</td><td>0.68</td><td>1.33</td><td>3.67</td><td>0.25</td><td>0.28</td><td>0.57</td><td>0.40</td><td>0.20</td></tr>\n",
       "\t<tr><th scope=row>aerobic_ammonia_oxidation</th><td>0.20</td><td>0.52</td><td>0.05</td><td>0.00</td><td>0.13</td><td>0.10</td><td>0.16</td><td>0.09</td><td>0.18</td><td>0.01</td><td>⋯</td><td>0.09</td><td>0.07</td><td>0.07</td><td>0.22</td><td>0.02</td><td>0.12</td><td>0.05</td><td>0.05</td><td>0.10</td><td>0.05</td></tr>\n",
       "\t<tr><th scope=row>nitrification</th><td>0.20</td><td>0.52</td><td>0.05</td><td>0.00</td><td>0.13</td><td>0.10</td><td>0.16</td><td>0.09</td><td>0.18</td><td>0.01</td><td>⋯</td><td>0.09</td><td>0.07</td><td>0.07</td><td>0.22</td><td>0.02</td><td>0.12</td><td>0.05</td><td>0.05</td><td>0.10</td><td>0.05</td></tr>\n",
       "\t<tr><th scope=row>sulfate_respiration</th><td>0.56</td><td>0.23</td><td>2.21</td><td>0.10</td><td>1.36</td><td>0.23</td><td>0.22</td><td>0.00</td><td>0.07</td><td>0.03</td><td>⋯</td><td>0.08</td><td>0.11</td><td>0.06</td><td>0.40</td><td>0.01</td><td>0.26</td><td>0.04</td><td>0.29</td><td>0.36</td><td>0.17</td></tr>\n",
       "</tbody>\n",
       "</table>\n"
      ],
      "text/latex": [
       "A data.frame: 6 × 117\n",
       "\\begin{tabular}{r|lllllllllllllllllllll}\n",
       "  & R3S7A1 & R3S7A2 & R3S7A3 & R3S7A4 & R3S7A5 & CG.DSTO.En1 & CG.DSTO.En2 & CG.DSTO.En3 & CG.DSTO.En4 & CG.DSTO.En5 & ⋯ & LP.PSTR.En2 & LP.PSTR.En3 & LP.PSTR.En4 & LP.PSTR.En5 & LP.PSTR.En6 & LP.PSTR1.H & LP.PSTR3.H & LP.PSTR4.H & LP.PSTR5.H & LP.PSTR6.H\\\\\n",
       "  & <dbl> & <dbl> & <dbl> & <dbl> & <dbl> & <dbl> & <dbl> & <dbl> & <dbl> & <dbl> & ⋯ & <dbl> & <dbl> & <dbl> & <dbl> & <dbl> & <dbl> & <dbl> & <dbl> & <dbl> & <dbl>\\\\\n",
       "\\hline\n",
       "\tmethanotrophy & 0.00 & 0.00 & 0.00 & 0.00 & 0.00 & 0.00 & 0.04 & 0.02 & 0.00 & 0.02 & ⋯ & 0.00 & 0.00 & 0.00 & 0.00 & 0.00 & 0.00 & 0.00 & 0.00 & 0.00 & 0.00\\\\\n",
       "\tmethanol\\_oxidation & 0.03 & 0.00 & 0.00 & 0.02 & 0.00 & 0.45 & 0.86 & 1.14 & 0.48 & 0.43 & ⋯ & 1.87 & 9.19 & 0.68 & 1.33 & 3.67 & 0.25 & 0.28 & 0.57 & 0.40 & 0.20\\\\\n",
       "\tmethylotrophy & 0.03 & 0.00 & 0.00 & 0.02 & 0.00 & 0.45 & 0.86 & 1.14 & 0.48 & 0.43 & ⋯ & 1.87 & 9.19 & 0.68 & 1.33 & 3.67 & 0.25 & 0.28 & 0.57 & 0.40 & 0.20\\\\\n",
       "\taerobic\\_ammonia\\_oxidation & 0.20 & 0.52 & 0.05 & 0.00 & 0.13 & 0.10 & 0.16 & 0.09 & 0.18 & 0.01 & ⋯ & 0.09 & 0.07 & 0.07 & 0.22 & 0.02 & 0.12 & 0.05 & 0.05 & 0.10 & 0.05\\\\\n",
       "\tnitrification & 0.20 & 0.52 & 0.05 & 0.00 & 0.13 & 0.10 & 0.16 & 0.09 & 0.18 & 0.01 & ⋯ & 0.09 & 0.07 & 0.07 & 0.22 & 0.02 & 0.12 & 0.05 & 0.05 & 0.10 & 0.05\\\\\n",
       "\tsulfate\\_respiration & 0.56 & 0.23 & 2.21 & 0.10 & 1.36 & 0.23 & 0.22 & 0.00 & 0.07 & 0.03 & ⋯ & 0.08 & 0.11 & 0.06 & 0.40 & 0.01 & 0.26 & 0.04 & 0.29 & 0.36 & 0.17\\\\\n",
       "\\end{tabular}\n"
      ],
      "text/markdown": [
       "\n",
       "A data.frame: 6 × 117\n",
       "\n",
       "| <!--/--> | R3S7A1 &lt;dbl&gt; | R3S7A2 &lt;dbl&gt; | R3S7A3 &lt;dbl&gt; | R3S7A4 &lt;dbl&gt; | R3S7A5 &lt;dbl&gt; | CG.DSTO.En1 &lt;dbl&gt; | CG.DSTO.En2 &lt;dbl&gt; | CG.DSTO.En3 &lt;dbl&gt; | CG.DSTO.En4 &lt;dbl&gt; | CG.DSTO.En5 &lt;dbl&gt; | ⋯ ⋯ | LP.PSTR.En2 &lt;dbl&gt; | LP.PSTR.En3 &lt;dbl&gt; | LP.PSTR.En4 &lt;dbl&gt; | LP.PSTR.En5 &lt;dbl&gt; | LP.PSTR.En6 &lt;dbl&gt; | LP.PSTR1.H &lt;dbl&gt; | LP.PSTR3.H &lt;dbl&gt; | LP.PSTR4.H &lt;dbl&gt; | LP.PSTR5.H &lt;dbl&gt; | LP.PSTR6.H &lt;dbl&gt; |\n",
       "|---|---|---|---|---|---|---|---|---|---|---|---|---|---|---|---|---|---|---|---|---|---|\n",
       "| methanotrophy | 0.00 | 0.00 | 0.00 | 0.00 | 0.00 | 0.00 | 0.04 | 0.02 | 0.00 | 0.02 | ⋯ | 0.00 | 0.00 | 0.00 | 0.00 | 0.00 | 0.00 | 0.00 | 0.00 | 0.00 | 0.00 |\n",
       "| methanol_oxidation | 0.03 | 0.00 | 0.00 | 0.02 | 0.00 | 0.45 | 0.86 | 1.14 | 0.48 | 0.43 | ⋯ | 1.87 | 9.19 | 0.68 | 1.33 | 3.67 | 0.25 | 0.28 | 0.57 | 0.40 | 0.20 |\n",
       "| methylotrophy | 0.03 | 0.00 | 0.00 | 0.02 | 0.00 | 0.45 | 0.86 | 1.14 | 0.48 | 0.43 | ⋯ | 1.87 | 9.19 | 0.68 | 1.33 | 3.67 | 0.25 | 0.28 | 0.57 | 0.40 | 0.20 |\n",
       "| aerobic_ammonia_oxidation | 0.20 | 0.52 | 0.05 | 0.00 | 0.13 | 0.10 | 0.16 | 0.09 | 0.18 | 0.01 | ⋯ | 0.09 | 0.07 | 0.07 | 0.22 | 0.02 | 0.12 | 0.05 | 0.05 | 0.10 | 0.05 |\n",
       "| nitrification | 0.20 | 0.52 | 0.05 | 0.00 | 0.13 | 0.10 | 0.16 | 0.09 | 0.18 | 0.01 | ⋯ | 0.09 | 0.07 | 0.07 | 0.22 | 0.02 | 0.12 | 0.05 | 0.05 | 0.10 | 0.05 |\n",
       "| sulfate_respiration | 0.56 | 0.23 | 2.21 | 0.10 | 1.36 | 0.23 | 0.22 | 0.00 | 0.07 | 0.03 | ⋯ | 0.08 | 0.11 | 0.06 | 0.40 | 0.01 | 0.26 | 0.04 | 0.29 | 0.36 | 0.17 |\n",
       "\n"
      ],
      "text/plain": [
       "                          R3S7A1 R3S7A2 R3S7A3 R3S7A4 R3S7A5 CG.DSTO.En1\n",
       "methanotrophy             0.00   0.00   0.00   0.00   0.00   0.00       \n",
       "methanol_oxidation        0.03   0.00   0.00   0.02   0.00   0.45       \n",
       "methylotrophy             0.03   0.00   0.00   0.02   0.00   0.45       \n",
       "aerobic_ammonia_oxidation 0.20   0.52   0.05   0.00   0.13   0.10       \n",
       "nitrification             0.20   0.52   0.05   0.00   0.13   0.10       \n",
       "sulfate_respiration       0.56   0.23   2.21   0.10   1.36   0.23       \n",
       "                          CG.DSTO.En2 CG.DSTO.En3 CG.DSTO.En4 CG.DSTO.En5 ⋯\n",
       "methanotrophy             0.04        0.02        0.00        0.02        ⋯\n",
       "methanol_oxidation        0.86        1.14        0.48        0.43        ⋯\n",
       "methylotrophy             0.86        1.14        0.48        0.43        ⋯\n",
       "aerobic_ammonia_oxidation 0.16        0.09        0.18        0.01        ⋯\n",
       "nitrification             0.16        0.09        0.18        0.01        ⋯\n",
       "sulfate_respiration       0.22        0.00        0.07        0.03        ⋯\n",
       "                          LP.PSTR.En2 LP.PSTR.En3 LP.PSTR.En4 LP.PSTR.En5\n",
       "methanotrophy             0.00        0.00        0.00        0.00       \n",
       "methanol_oxidation        1.87        9.19        0.68        1.33       \n",
       "methylotrophy             1.87        9.19        0.68        1.33       \n",
       "aerobic_ammonia_oxidation 0.09        0.07        0.07        0.22       \n",
       "nitrification             0.09        0.07        0.07        0.22       \n",
       "sulfate_respiration       0.08        0.11        0.06        0.40       \n",
       "                          LP.PSTR.En6 LP.PSTR1.H LP.PSTR3.H LP.PSTR4.H\n",
       "methanotrophy             0.00        0.00       0.00       0.00      \n",
       "methanol_oxidation        3.67        0.25       0.28       0.57      \n",
       "methylotrophy             3.67        0.25       0.28       0.57      \n",
       "aerobic_ammonia_oxidation 0.02        0.12       0.05       0.05      \n",
       "nitrification             0.02        0.12       0.05       0.05      \n",
       "sulfate_respiration       0.01        0.26       0.04       0.29      \n",
       "                          LP.PSTR5.H LP.PSTR6.H\n",
       "methanotrophy             0.00       0.00      \n",
       "methanol_oxidation        0.40       0.20      \n",
       "methylotrophy             0.40       0.20      \n",
       "aerobic_ammonia_oxidation 0.10       0.05      \n",
       "nitrification             0.10       0.05      \n",
       "sulfate_respiration       0.36       0.17      "
      ]
     },
     "metadata": {},
     "output_type": "display_data"
    }
   ],
   "source": [
    "t1 <- trans_func$new(meco_merge_AH)\n",
    "t1$cal_spe_func(prok_database = \"FAPROTAX\")\n",
    "t1$cal_spe_func_perc(abundance_weighted = TRUE)\n",
    "# use list to prepare data\n",
    "tmp <- list()\n",
    "# transpose res_spe_func_perc to be a data.frame like taxonomic abundance\n",
    "tmp$func <- as.data.frame(t(t1$res_spe_func_perc), check.names = FALSE)\n",
    "# assign the list as taxa_abund in your microtable object\n",
    "dataset$taxa_abund <- tmp\n",
    "head(tmp$func)"
   ]
  },
  {
   "cell_type": "code",
   "execution_count": 12,
   "id": "e4fcc632-3d9d-47a0-82ac-3fe7d5c0f628",
   "metadata": {},
   "outputs": [
    {
     "data": {
      "text/plain": [
       "phyloseq-class experiment-level object\n",
       "otu_table()   OTU Table:         [ 41 taxa and 117 samples ]\n",
       "sample_data() Sample Data:       [ 117 samples by 45 sample variables ]"
      ]
     },
     "metadata": {},
     "output_type": "display_data"
    }
   ],
   "source": [
    "ps_far_AH = phyloseq(otu_table(tmp$func, taxa_are_rows=TRUE), \n",
    "               sample_data(meta))\n",
    "ps_far_AH"
   ]
  },
  {
   "cell_type": "code",
   "execution_count": 13,
   "id": "5302a9da-aef0-43e4-ab94-061b186db6e1",
   "metadata": {},
   "outputs": [
    {
     "data": {
      "text/html": [
       "<table class=\"dataframe\">\n",
       "<caption>A data.frame: 6 × 48</caption>\n",
       "<thead>\n",
       "\t<tr><th></th><th scope=col>Sample</th><th scope=col>OTU</th><th scope=col>Abundance</th><th scope=col>samp</th><th scope=col>Sample.ID</th><th scope=col>Site</th><th scope=col>Site.Name</th><th scope=col>Region</th><th scope=col>Project</th><th scope=col>Type</th><th scope=col>⋯</th><th scope=col>Types</th><th scope=col>Vul_coral</th><th scope=col>End_coral</th><th scope=col>Epi_coral</th><th scope=col>Vul_sed</th><th scope=col>End_sed</th><th scope=col>Epi_sed</th><th scope=col>Vul_wat</th><th scope=col>End_wat</th><th scope=col>Epi_wat</th></tr>\n",
       "\t<tr><th></th><th scope=col>&lt;chr&gt;</th><th scope=col>&lt;chr&gt;</th><th scope=col>&lt;dbl&gt;</th><th scope=col>&lt;chr&gt;</th><th scope=col>&lt;chr&gt;</th><th scope=col>&lt;chr&gt;</th><th scope=col>&lt;chr&gt;</th><th scope=col>&lt;chr&gt;</th><th scope=col>&lt;chr&gt;</th><th scope=col>&lt;chr&gt;</th><th scope=col>⋯</th><th scope=col>&lt;int&gt;</th><th scope=col>&lt;int&gt;</th><th scope=col>&lt;int&gt;</th><th scope=col>&lt;int&gt;</th><th scope=col>&lt;int&gt;</th><th scope=col>&lt;int&gt;</th><th scope=col>&lt;int&gt;</th><th scope=col>&lt;int&gt;</th><th scope=col>&lt;int&gt;</th><th scope=col>&lt;int&gt;</th></tr>\n",
       "</thead>\n",
       "<tbody>\n",
       "\t<tr><th scope=row>1302</th><td>CG.SINT.En4</td><td>intracellular_parasites</td><td>84.85</td><td>CG.SINT.En4_S6</td><td>CG.SINT.En4_S6</td><td>NA    </td><td>Cliff.Green   </td><td>Lower Keys</td><td>EPA2</td><td>Coral</td><td>⋯</td><td>0</td><td>0</td><td>1</td><td>0</td><td>0</td><td>0</td><td>0</td><td>0</td><td>0</td><td>0</td></tr>\n",
       "\t<tr><th scope=row>1548</th><td>CG.SINT4.H </td><td>intracellular_parasites</td><td>76.54</td><td>CG.SINT4.H_S3 </td><td>CG.SINT4.H_S3 </td><td>NA    </td><td>Cliff.Green   </td><td>Lower Keys</td><td>EPA2</td><td>Coral</td><td>⋯</td><td>0</td><td>0</td><td>0</td><td>1</td><td>0</td><td>0</td><td>0</td><td>0</td><td>0</td><td>0</td></tr>\n",
       "\t<tr><th scope=row>4017</th><td>XP.OFAV.En3</td><td>chemoheterotrophy      </td><td>70.14</td><td>XP.OFAV.En3_S5</td><td>XP.OFAV.En3_S5</td><td>Site-G</td><td>Xesto.Patch   </td><td>Lower Keys</td><td>EPA2</td><td>Coral</td><td>⋯</td><td>0</td><td>0</td><td>1</td><td>0</td><td>0</td><td>0</td><td>0</td><td>0</td><td>0</td><td>0</td></tr>\n",
       "\t<tr><th scope=row>1507</th><td>CG.SINT3.H </td><td>intracellular_parasites</td><td>68.60</td><td>CG.SINT3.H_S3 </td><td>CG.SINT3.H_S3 </td><td>NA    </td><td>Cliff.Green   </td><td>Lower Keys</td><td>EPA2</td><td>Coral</td><td>⋯</td><td>0</td><td>0</td><td>0</td><td>1</td><td>0</td><td>0</td><td>0</td><td>0</td><td>0</td><td>0</td></tr>\n",
       "\t<tr><th scope=row>901</th><td>CG.DSTO.En5</td><td>chemoheterotrophy      </td><td>67.92</td><td>CG.DSTO.En5_S6</td><td>CG.DSTO.En5_S6</td><td>NA    </td><td>Cliff.Green   </td><td>Lower Keys</td><td>EPA2</td><td>Coral</td><td>⋯</td><td>0</td><td>0</td><td>1</td><td>0</td><td>0</td><td>0</td><td>0</td><td>0</td><td>0</td><td>0</td></tr>\n",
       "\t<tr><th scope=row>2746</th><td>LP.PSTR.En4</td><td>chemoheterotrophy      </td><td>67.19</td><td>LP.PSTR.En4_S6</td><td>LP.PSTR.En4_S6</td><td>Site-H</td><td>Lindsays.Patch</td><td>Lower Keys</td><td>EPA2</td><td>Coral</td><td>⋯</td><td>0</td><td>0</td><td>1</td><td>0</td><td>0</td><td>0</td><td>0</td><td>0</td><td>0</td><td>0</td></tr>\n",
       "</tbody>\n",
       "</table>\n"
      ],
      "text/latex": [
       "A data.frame: 6 × 48\n",
       "\\begin{tabular}{r|lllllllllllllllllllll}\n",
       "  & Sample & OTU & Abundance & samp & Sample.ID & Site & Site.Name & Region & Project & Type & ⋯ & Types & Vul\\_coral & End\\_coral & Epi\\_coral & Vul\\_sed & End\\_sed & Epi\\_sed & Vul\\_wat & End\\_wat & Epi\\_wat\\\\\n",
       "  & <chr> & <chr> & <dbl> & <chr> & <chr> & <chr> & <chr> & <chr> & <chr> & <chr> & ⋯ & <int> & <int> & <int> & <int> & <int> & <int> & <int> & <int> & <int> & <int>\\\\\n",
       "\\hline\n",
       "\t1302 & CG.SINT.En4 & intracellular\\_parasites & 84.85 & CG.SINT.En4\\_S6 & CG.SINT.En4\\_S6 & NA     & Cliff.Green    & Lower Keys & EPA2 & Coral & ⋯ & 0 & 0 & 1 & 0 & 0 & 0 & 0 & 0 & 0 & 0\\\\\n",
       "\t1548 & CG.SINT4.H  & intracellular\\_parasites & 76.54 & CG.SINT4.H\\_S3  & CG.SINT4.H\\_S3  & NA     & Cliff.Green    & Lower Keys & EPA2 & Coral & ⋯ & 0 & 0 & 0 & 1 & 0 & 0 & 0 & 0 & 0 & 0\\\\\n",
       "\t4017 & XP.OFAV.En3 & chemoheterotrophy       & 70.14 & XP.OFAV.En3\\_S5 & XP.OFAV.En3\\_S5 & Site-G & Xesto.Patch    & Lower Keys & EPA2 & Coral & ⋯ & 0 & 0 & 1 & 0 & 0 & 0 & 0 & 0 & 0 & 0\\\\\n",
       "\t1507 & CG.SINT3.H  & intracellular\\_parasites & 68.60 & CG.SINT3.H\\_S3  & CG.SINT3.H\\_S3  & NA     & Cliff.Green    & Lower Keys & EPA2 & Coral & ⋯ & 0 & 0 & 0 & 1 & 0 & 0 & 0 & 0 & 0 & 0\\\\\n",
       "\t901 & CG.DSTO.En5 & chemoheterotrophy       & 67.92 & CG.DSTO.En5\\_S6 & CG.DSTO.En5\\_S6 & NA     & Cliff.Green    & Lower Keys & EPA2 & Coral & ⋯ & 0 & 0 & 1 & 0 & 0 & 0 & 0 & 0 & 0 & 0\\\\\n",
       "\t2746 & LP.PSTR.En4 & chemoheterotrophy       & 67.19 & LP.PSTR.En4\\_S6 & LP.PSTR.En4\\_S6 & Site-H & Lindsays.Patch & Lower Keys & EPA2 & Coral & ⋯ & 0 & 0 & 1 & 0 & 0 & 0 & 0 & 0 & 0 & 0\\\\\n",
       "\\end{tabular}\n"
      ],
      "text/markdown": [
       "\n",
       "A data.frame: 6 × 48\n",
       "\n",
       "| <!--/--> | Sample &lt;chr&gt; | OTU &lt;chr&gt; | Abundance &lt;dbl&gt; | samp &lt;chr&gt; | Sample.ID &lt;chr&gt; | Site &lt;chr&gt; | Site.Name &lt;chr&gt; | Region &lt;chr&gt; | Project &lt;chr&gt; | Type &lt;chr&gt; | ⋯ ⋯ | Types &lt;int&gt; | Vul_coral &lt;int&gt; | End_coral &lt;int&gt; | Epi_coral &lt;int&gt; | Vul_sed &lt;int&gt; | End_sed &lt;int&gt; | Epi_sed &lt;int&gt; | Vul_wat &lt;int&gt; | End_wat &lt;int&gt; | Epi_wat &lt;int&gt; |\n",
       "|---|---|---|---|---|---|---|---|---|---|---|---|---|---|---|---|---|---|---|---|---|---|\n",
       "| 1302 | CG.SINT.En4 | intracellular_parasites | 84.85 | CG.SINT.En4_S6 | CG.SINT.En4_S6 | NA     | Cliff.Green    | Lower Keys | EPA2 | Coral | ⋯ | 0 | 0 | 1 | 0 | 0 | 0 | 0 | 0 | 0 | 0 |\n",
       "| 1548 | CG.SINT4.H  | intracellular_parasites | 76.54 | CG.SINT4.H_S3  | CG.SINT4.H_S3  | NA     | Cliff.Green    | Lower Keys | EPA2 | Coral | ⋯ | 0 | 0 | 0 | 1 | 0 | 0 | 0 | 0 | 0 | 0 |\n",
       "| 4017 | XP.OFAV.En3 | chemoheterotrophy       | 70.14 | XP.OFAV.En3_S5 | XP.OFAV.En3_S5 | Site-G | Xesto.Patch    | Lower Keys | EPA2 | Coral | ⋯ | 0 | 0 | 1 | 0 | 0 | 0 | 0 | 0 | 0 | 0 |\n",
       "| 1507 | CG.SINT3.H  | intracellular_parasites | 68.60 | CG.SINT3.H_S3  | CG.SINT3.H_S3  | NA     | Cliff.Green    | Lower Keys | EPA2 | Coral | ⋯ | 0 | 0 | 0 | 1 | 0 | 0 | 0 | 0 | 0 | 0 |\n",
       "| 901 | CG.DSTO.En5 | chemoheterotrophy       | 67.92 | CG.DSTO.En5_S6 | CG.DSTO.En5_S6 | NA     | Cliff.Green    | Lower Keys | EPA2 | Coral | ⋯ | 0 | 0 | 1 | 0 | 0 | 0 | 0 | 0 | 0 | 0 |\n",
       "| 2746 | LP.PSTR.En4 | chemoheterotrophy       | 67.19 | LP.PSTR.En4_S6 | LP.PSTR.En4_S6 | Site-H | Lindsays.Patch | Lower Keys | EPA2 | Coral | ⋯ | 0 | 0 | 1 | 0 | 0 | 0 | 0 | 0 | 0 | 0 |\n",
       "\n"
      ],
      "text/plain": [
       "     Sample      OTU                     Abundance samp          \n",
       "1302 CG.SINT.En4 intracellular_parasites 84.85     CG.SINT.En4_S6\n",
       "1548 CG.SINT4.H  intracellular_parasites 76.54     CG.SINT4.H_S3 \n",
       "4017 XP.OFAV.En3 chemoheterotrophy       70.14     XP.OFAV.En3_S5\n",
       "1507 CG.SINT3.H  intracellular_parasites 68.60     CG.SINT3.H_S3 \n",
       "901  CG.DSTO.En5 chemoheterotrophy       67.92     CG.DSTO.En5_S6\n",
       "2746 LP.PSTR.En4 chemoheterotrophy       67.19     LP.PSTR.En4_S6\n",
       "     Sample.ID      Site   Site.Name      Region     Project Type  ⋯ Types\n",
       "1302 CG.SINT.En4_S6 NA     Cliff.Green    Lower Keys EPA2    Coral ⋯ 0    \n",
       "1548 CG.SINT4.H_S3  NA     Cliff.Green    Lower Keys EPA2    Coral ⋯ 0    \n",
       "4017 XP.OFAV.En3_S5 Site-G Xesto.Patch    Lower Keys EPA2    Coral ⋯ 0    \n",
       "1507 CG.SINT3.H_S3  NA     Cliff.Green    Lower Keys EPA2    Coral ⋯ 0    \n",
       "901  CG.DSTO.En5_S6 NA     Cliff.Green    Lower Keys EPA2    Coral ⋯ 0    \n",
       "2746 LP.PSTR.En4_S6 Site-H Lindsays.Patch Lower Keys EPA2    Coral ⋯ 0    \n",
       "     Vul_coral End_coral Epi_coral Vul_sed End_sed Epi_sed Vul_wat End_wat\n",
       "1302 0         1         0         0       0       0       0       0      \n",
       "1548 0         0         1         0       0       0       0       0      \n",
       "4017 0         1         0         0       0       0       0       0      \n",
       "1507 0         0         1         0       0       0       0       0      \n",
       "901  0         1         0         0       0       0       0       0      \n",
       "2746 0         1         0         0       0       0       0       0      \n",
       "     Epi_wat\n",
       "1302 0      \n",
       "1548 0      \n",
       "4017 0      \n",
       "1507 0      \n",
       "901  0      \n",
       "2746 0      "
      ]
     },
     "metadata": {},
     "output_type": "display_data"
    }
   ],
   "source": [
    "sum_far_AH  <- ps_far_AH %>% psmelt()\n",
    "\n",
    "head(sum_far_AH)"
   ]
  },
  {
   "cell_type": "code",
   "execution_count": 14,
   "id": "fef5fc54-2ff0-4f2e-8236-d9af0efd35ce",
   "metadata": {},
   "outputs": [
    {
     "name": "stderr",
     "output_type": "stream",
     "text": [
      "FAPROTAX v1.2.10. Please also cite the original FAPROTAX paper: Louca et al. (2016).\n",
      "\n",
      "Decoupling function and taxonomy in the global ocean microbiome. Science, 353(6305), 1272.\n",
      "\n",
      "\n",
      "The functional binary table is stored in object$res_spe_func ...\n",
      "\n",
      "The result table is stored in object$res_spe_func_perc ...\n",
      "\n"
     ]
    },
    {
     "data": {
      "text/html": [
       "<table class=\"dataframe\">\n",
       "<caption>A data.frame: 6 × 90</caption>\n",
       "<thead>\n",
       "\t<tr><th></th><th scope=col>R3.1.S</th><th scope=col>R3.10.S</th><th scope=col>R3.11.S</th><th scope=col>R3.12.S</th><th scope=col>R3.13.S</th><th scope=col>R3.14.S</th><th scope=col>R3.15.S</th><th scope=col>R3.16.S</th><th scope=col>R3.17.S</th><th scope=col>R3.18.S</th><th scope=col>⋯</th><th scope=col>XP.En1.S</th><th scope=col>XP.En10.S</th><th scope=col>XP.En12.S</th><th scope=col>XP.En2.S</th><th scope=col>XP.En3.S</th><th scope=col>XP.En5.S</th><th scope=col>XP.En6.S</th><th scope=col>XP.En7.S</th><th scope=col>XP.En8.S</th><th scope=col>XP.En9.S</th></tr>\n",
       "\t<tr><th></th><th scope=col>&lt;dbl&gt;</th><th scope=col>&lt;dbl&gt;</th><th scope=col>&lt;dbl&gt;</th><th scope=col>&lt;dbl&gt;</th><th scope=col>&lt;dbl&gt;</th><th scope=col>&lt;dbl&gt;</th><th scope=col>&lt;dbl&gt;</th><th scope=col>&lt;dbl&gt;</th><th scope=col>&lt;dbl&gt;</th><th scope=col>&lt;dbl&gt;</th><th scope=col>⋯</th><th scope=col>&lt;dbl&gt;</th><th scope=col>&lt;dbl&gt;</th><th scope=col>&lt;dbl&gt;</th><th scope=col>&lt;dbl&gt;</th><th scope=col>&lt;dbl&gt;</th><th scope=col>&lt;dbl&gt;</th><th scope=col>&lt;dbl&gt;</th><th scope=col>&lt;dbl&gt;</th><th scope=col>&lt;dbl&gt;</th><th scope=col>&lt;dbl&gt;</th></tr>\n",
       "</thead>\n",
       "<tbody>\n",
       "\t<tr><th scope=row>methanol_oxidation</th><td> 0.02</td><td> 0.00</td><td>0.00</td><td>0.00</td><td>0.00</td><td>0.00</td><td>0.00</td><td>0.00</td><td>0.00</td><td>0.00</td><td>⋯</td><td>0.00</td><td>0.03</td><td>0.01</td><td>0.04</td><td>0.01</td><td>0.02</td><td>0.01</td><td>0.00</td><td> 0.00</td><td>0.01</td></tr>\n",
       "\t<tr><th scope=row>methylotrophy</th><td> 0.02</td><td> 0.00</td><td>0.00</td><td>0.00</td><td>0.00</td><td>0.00</td><td>0.00</td><td>0.00</td><td>0.00</td><td>0.00</td><td>⋯</td><td>0.00</td><td>0.03</td><td>0.01</td><td>0.04</td><td>0.01</td><td>0.02</td><td>0.01</td><td>0.00</td><td> 0.00</td><td>0.01</td></tr>\n",
       "\t<tr><th scope=row>aerobic_ammonia_oxidation</th><td> 4.93</td><td> 4.66</td><td>3.98</td><td>1.50</td><td>3.80</td><td>1.28</td><td>3.25</td><td>6.97</td><td>2.34</td><td>7.08</td><td>⋯</td><td>4.75</td><td>9.04</td><td>5.72</td><td>5.04</td><td>6.55</td><td>8.74</td><td>8.28</td><td>5.58</td><td> 9.51</td><td>6.29</td></tr>\n",
       "\t<tr><th scope=row>aerobic_nitrite_oxidation</th><td> 0.00</td><td> 0.00</td><td>0.00</td><td>0.00</td><td>0.00</td><td>0.00</td><td>0.00</td><td>0.00</td><td>0.00</td><td>0.01</td><td>⋯</td><td>0.05</td><td>0.00</td><td>0.05</td><td>0.03</td><td>0.05</td><td>0.01</td><td>0.10</td><td>0.05</td><td> 0.00</td><td>0.02</td></tr>\n",
       "\t<tr><th scope=row>nitrification</th><td> 4.93</td><td> 4.66</td><td>3.98</td><td>1.50</td><td>3.80</td><td>1.28</td><td>3.25</td><td>6.97</td><td>2.34</td><td>7.10</td><td>⋯</td><td>4.80</td><td>9.04</td><td>5.77</td><td>5.07</td><td>6.61</td><td>8.76</td><td>8.38</td><td>5.63</td><td> 9.51</td><td>6.32</td></tr>\n",
       "\t<tr><th scope=row>sulfate_respiration</th><td>12.56</td><td>10.74</td><td>6.44</td><td>6.32</td><td>5.94</td><td>3.10</td><td>8.89</td><td>6.91</td><td>7.27</td><td>7.79</td><td>⋯</td><td>4.88</td><td>3.73</td><td>5.17</td><td>4.92</td><td>7.12</td><td>4.64</td><td>4.90</td><td>6.99</td><td>10.56</td><td>5.28</td></tr>\n",
       "</tbody>\n",
       "</table>\n"
      ],
      "text/latex": [
       "A data.frame: 6 × 90\n",
       "\\begin{tabular}{r|lllllllllllllllllllll}\n",
       "  & R3.1.S & R3.10.S & R3.11.S & R3.12.S & R3.13.S & R3.14.S & R3.15.S & R3.16.S & R3.17.S & R3.18.S & ⋯ & XP.En1.S & XP.En10.S & XP.En12.S & XP.En2.S & XP.En3.S & XP.En5.S & XP.En6.S & XP.En7.S & XP.En8.S & XP.En9.S\\\\\n",
       "  & <dbl> & <dbl> & <dbl> & <dbl> & <dbl> & <dbl> & <dbl> & <dbl> & <dbl> & <dbl> & ⋯ & <dbl> & <dbl> & <dbl> & <dbl> & <dbl> & <dbl> & <dbl> & <dbl> & <dbl> & <dbl>\\\\\n",
       "\\hline\n",
       "\tmethanol\\_oxidation &  0.02 &  0.00 & 0.00 & 0.00 & 0.00 & 0.00 & 0.00 & 0.00 & 0.00 & 0.00 & ⋯ & 0.00 & 0.03 & 0.01 & 0.04 & 0.01 & 0.02 & 0.01 & 0.00 &  0.00 & 0.01\\\\\n",
       "\tmethylotrophy &  0.02 &  0.00 & 0.00 & 0.00 & 0.00 & 0.00 & 0.00 & 0.00 & 0.00 & 0.00 & ⋯ & 0.00 & 0.03 & 0.01 & 0.04 & 0.01 & 0.02 & 0.01 & 0.00 &  0.00 & 0.01\\\\\n",
       "\taerobic\\_ammonia\\_oxidation &  4.93 &  4.66 & 3.98 & 1.50 & 3.80 & 1.28 & 3.25 & 6.97 & 2.34 & 7.08 & ⋯ & 4.75 & 9.04 & 5.72 & 5.04 & 6.55 & 8.74 & 8.28 & 5.58 &  9.51 & 6.29\\\\\n",
       "\taerobic\\_nitrite\\_oxidation &  0.00 &  0.00 & 0.00 & 0.00 & 0.00 & 0.00 & 0.00 & 0.00 & 0.00 & 0.01 & ⋯ & 0.05 & 0.00 & 0.05 & 0.03 & 0.05 & 0.01 & 0.10 & 0.05 &  0.00 & 0.02\\\\\n",
       "\tnitrification &  4.93 &  4.66 & 3.98 & 1.50 & 3.80 & 1.28 & 3.25 & 6.97 & 2.34 & 7.10 & ⋯ & 4.80 & 9.04 & 5.77 & 5.07 & 6.61 & 8.76 & 8.38 & 5.63 &  9.51 & 6.32\\\\\n",
       "\tsulfate\\_respiration & 12.56 & 10.74 & 6.44 & 6.32 & 5.94 & 3.10 & 8.89 & 6.91 & 7.27 & 7.79 & ⋯ & 4.88 & 3.73 & 5.17 & 4.92 & 7.12 & 4.64 & 4.90 & 6.99 & 10.56 & 5.28\\\\\n",
       "\\end{tabular}\n"
      ],
      "text/markdown": [
       "\n",
       "A data.frame: 6 × 90\n",
       "\n",
       "| <!--/--> | R3.1.S &lt;dbl&gt; | R3.10.S &lt;dbl&gt; | R3.11.S &lt;dbl&gt; | R3.12.S &lt;dbl&gt; | R3.13.S &lt;dbl&gt; | R3.14.S &lt;dbl&gt; | R3.15.S &lt;dbl&gt; | R3.16.S &lt;dbl&gt; | R3.17.S &lt;dbl&gt; | R3.18.S &lt;dbl&gt; | ⋯ ⋯ | XP.En1.S &lt;dbl&gt; | XP.En10.S &lt;dbl&gt; | XP.En12.S &lt;dbl&gt; | XP.En2.S &lt;dbl&gt; | XP.En3.S &lt;dbl&gt; | XP.En5.S &lt;dbl&gt; | XP.En6.S &lt;dbl&gt; | XP.En7.S &lt;dbl&gt; | XP.En8.S &lt;dbl&gt; | XP.En9.S &lt;dbl&gt; |\n",
       "|---|---|---|---|---|---|---|---|---|---|---|---|---|---|---|---|---|---|---|---|---|---|\n",
       "| methanol_oxidation |  0.02 |  0.00 | 0.00 | 0.00 | 0.00 | 0.00 | 0.00 | 0.00 | 0.00 | 0.00 | ⋯ | 0.00 | 0.03 | 0.01 | 0.04 | 0.01 | 0.02 | 0.01 | 0.00 |  0.00 | 0.01 |\n",
       "| methylotrophy |  0.02 |  0.00 | 0.00 | 0.00 | 0.00 | 0.00 | 0.00 | 0.00 | 0.00 | 0.00 | ⋯ | 0.00 | 0.03 | 0.01 | 0.04 | 0.01 | 0.02 | 0.01 | 0.00 |  0.00 | 0.01 |\n",
       "| aerobic_ammonia_oxidation |  4.93 |  4.66 | 3.98 | 1.50 | 3.80 | 1.28 | 3.25 | 6.97 | 2.34 | 7.08 | ⋯ | 4.75 | 9.04 | 5.72 | 5.04 | 6.55 | 8.74 | 8.28 | 5.58 |  9.51 | 6.29 |\n",
       "| aerobic_nitrite_oxidation |  0.00 |  0.00 | 0.00 | 0.00 | 0.00 | 0.00 | 0.00 | 0.00 | 0.00 | 0.01 | ⋯ | 0.05 | 0.00 | 0.05 | 0.03 | 0.05 | 0.01 | 0.10 | 0.05 |  0.00 | 0.02 |\n",
       "| nitrification |  4.93 |  4.66 | 3.98 | 1.50 | 3.80 | 1.28 | 3.25 | 6.97 | 2.34 | 7.10 | ⋯ | 4.80 | 9.04 | 5.77 | 5.07 | 6.61 | 8.76 | 8.38 | 5.63 |  9.51 | 6.32 |\n",
       "| sulfate_respiration | 12.56 | 10.74 | 6.44 | 6.32 | 5.94 | 3.10 | 8.89 | 6.91 | 7.27 | 7.79 | ⋯ | 4.88 | 3.73 | 5.17 | 4.92 | 7.12 | 4.64 | 4.90 | 6.99 | 10.56 | 5.28 |\n",
       "\n"
      ],
      "text/plain": [
       "                          R3.1.S R3.10.S R3.11.S R3.12.S R3.13.S R3.14.S\n",
       "methanol_oxidation         0.02   0.00   0.00    0.00    0.00    0.00   \n",
       "methylotrophy              0.02   0.00   0.00    0.00    0.00    0.00   \n",
       "aerobic_ammonia_oxidation  4.93   4.66   3.98    1.50    3.80    1.28   \n",
       "aerobic_nitrite_oxidation  0.00   0.00   0.00    0.00    0.00    0.00   \n",
       "nitrification              4.93   4.66   3.98    1.50    3.80    1.28   \n",
       "sulfate_respiration       12.56  10.74   6.44    6.32    5.94    3.10   \n",
       "                          R3.15.S R3.16.S R3.17.S R3.18.S ⋯ XP.En1.S XP.En10.S\n",
       "methanol_oxidation        0.00    0.00    0.00    0.00    ⋯ 0.00     0.03     \n",
       "methylotrophy             0.00    0.00    0.00    0.00    ⋯ 0.00     0.03     \n",
       "aerobic_ammonia_oxidation 3.25    6.97    2.34    7.08    ⋯ 4.75     9.04     \n",
       "aerobic_nitrite_oxidation 0.00    0.00    0.00    0.01    ⋯ 0.05     0.00     \n",
       "nitrification             3.25    6.97    2.34    7.10    ⋯ 4.80     9.04     \n",
       "sulfate_respiration       8.89    6.91    7.27    7.79    ⋯ 4.88     3.73     \n",
       "                          XP.En12.S XP.En2.S XP.En3.S XP.En5.S XP.En6.S\n",
       "methanol_oxidation        0.01      0.04     0.01     0.02     0.01    \n",
       "methylotrophy             0.01      0.04     0.01     0.02     0.01    \n",
       "aerobic_ammonia_oxidation 5.72      5.04     6.55     8.74     8.28    \n",
       "aerobic_nitrite_oxidation 0.05      0.03     0.05     0.01     0.10    \n",
       "nitrification             5.77      5.07     6.61     8.76     8.38    \n",
       "sulfate_respiration       5.17      4.92     7.12     4.64     4.90    \n",
       "                          XP.En7.S XP.En8.S XP.En9.S\n",
       "methanol_oxidation        0.00      0.00    0.01    \n",
       "methylotrophy             0.00      0.00    0.01    \n",
       "aerobic_ammonia_oxidation 5.58      9.51    6.29    \n",
       "aerobic_nitrite_oxidation 0.05      0.00    0.02    \n",
       "nitrification             5.63      9.51    6.32    \n",
       "sulfate_respiration       6.99     10.56    5.28    "
      ]
     },
     "metadata": {},
     "output_type": "display_data"
    },
    {
     "data": {
      "text/plain": [
       "phyloseq-class experiment-level object\n",
       "otu_table()   OTU Table:         [ 35 taxa and 90 samples ]\n",
       "sample_data() Sample Data:       [ 90 samples by 45 sample variables ]"
      ]
     },
     "metadata": {},
     "output_type": "display_data"
    }
   ],
   "source": [
    "t1 <- trans_func$new(meco_merge_s)\n",
    "t1$cal_spe_func(prok_database = \"FAPROTAX\")\n",
    "t1$cal_spe_func_perc(abundance_weighted = TRUE)\n",
    "# use list to prepare data\n",
    "tmp <- list()\n",
    "# transpose res_spe_func_perc to be a data.frame like taxonomic abundance\n",
    "tmp$func <- as.data.frame(t(t1$res_spe_func_perc), check.names = FALSE)\n",
    "# assign the list as taxa_abund in your microtable object\n",
    "dataset$taxa_abund <- tmp\n",
    "head(tmp$func)\n",
    "ps_far_s = phyloseq(otu_table(tmp$func, taxa_are_rows=TRUE), \n",
    "               sample_data(meta))\n",
    "ps_far_s"
   ]
  },
  {
   "cell_type": "code",
   "execution_count": 15,
   "id": "548a1a39-c3a2-448d-8794-f81a09f27024",
   "metadata": {},
   "outputs": [
    {
     "name": "stderr",
     "output_type": "stream",
     "text": [
      "FAPROTAX v1.2.10. Please also cite the original FAPROTAX paper: Louca et al. (2016).\n",
      "\n",
      "Decoupling function and taxonomy in the global ocean microbiome. Science, 353(6305), 1272.\n",
      "\n",
      "\n",
      "The functional binary table is stored in object$res_spe_func ...\n",
      "\n",
      "The result table is stored in object$res_spe_func_perc ...\n",
      "\n"
     ]
    },
    {
     "data": {
      "text/html": [
       "<table class=\"dataframe\">\n",
       "<caption>A data.frame: 6 × 96</caption>\n",
       "<thead>\n",
       "\t<tr><th></th><th scope=col>R3.1.W</th><th scope=col>R3.10.W</th><th scope=col>R3.11.W</th><th scope=col>R3.12.W</th><th scope=col>R3.13.W</th><th scope=col>R3.14.W</th><th scope=col>R3.15.W</th><th scope=col>R3.16.W</th><th scope=col>R3.17.W</th><th scope=col>R3.18.W</th><th scope=col>⋯</th><th scope=col>XP.En9.W</th><th scope=col>CG.En11.W</th><th scope=col>CG.En12.W</th><th scope=col>CG.En2.W</th><th scope=col>CG.En3.W</th><th scope=col>CG.En4.W</th><th scope=col>CG.En5.W</th><th scope=col>CG.En7.W</th><th scope=col>CG.En8.W</th><th scope=col>CG.En9.W</th></tr>\n",
       "\t<tr><th></th><th scope=col>&lt;dbl&gt;</th><th scope=col>&lt;dbl&gt;</th><th scope=col>&lt;dbl&gt;</th><th scope=col>&lt;dbl&gt;</th><th scope=col>&lt;dbl&gt;</th><th scope=col>&lt;dbl&gt;</th><th scope=col>&lt;dbl&gt;</th><th scope=col>&lt;dbl&gt;</th><th scope=col>&lt;dbl&gt;</th><th scope=col>&lt;dbl&gt;</th><th scope=col>⋯</th><th scope=col>&lt;dbl&gt;</th><th scope=col>&lt;dbl&gt;</th><th scope=col>&lt;dbl&gt;</th><th scope=col>&lt;dbl&gt;</th><th scope=col>&lt;dbl&gt;</th><th scope=col>&lt;dbl&gt;</th><th scope=col>&lt;dbl&gt;</th><th scope=col>&lt;dbl&gt;</th><th scope=col>&lt;dbl&gt;</th><th scope=col>&lt;dbl&gt;</th></tr>\n",
       "</thead>\n",
       "<tbody>\n",
       "\t<tr><th scope=row>methanol_oxidation</th><td>0.06</td><td>0.06</td><td>0.07</td><td>0.10</td><td>0.06</td><td>0.07</td><td>0.08</td><td>0.07</td><td>0.07</td><td>0.07</td><td>⋯</td><td>0.59</td><td>0.15</td><td>0.15</td><td>0.10</td><td>0.18</td><td>0.26</td><td>0.22</td><td>0.15</td><td>0.14</td><td>0.08</td></tr>\n",
       "\t<tr><th scope=row>methylotrophy</th><td>0.06</td><td>0.06</td><td>0.07</td><td>0.10</td><td>0.06</td><td>0.07</td><td>0.08</td><td>0.07</td><td>0.07</td><td>0.07</td><td>⋯</td><td>0.59</td><td>0.15</td><td>0.15</td><td>0.10</td><td>0.18</td><td>0.26</td><td>0.22</td><td>0.15</td><td>0.14</td><td>0.08</td></tr>\n",
       "\t<tr><th scope=row>aerobic_ammonia_oxidation</th><td>0.13</td><td>0.33</td><td>0.40</td><td>0.29</td><td>0.45</td><td>0.31</td><td>0.37</td><td>0.39</td><td>0.31</td><td>0.31</td><td>⋯</td><td>0.03</td><td>0.04</td><td>0.06</td><td>0.02</td><td>0.02</td><td>0.01</td><td>0.03</td><td>0.02</td><td>0.03</td><td>0.03</td></tr>\n",
       "\t<tr><th scope=row>nitrification</th><td>0.13</td><td>0.33</td><td>0.40</td><td>0.29</td><td>0.45</td><td>0.31</td><td>0.37</td><td>0.39</td><td>0.31</td><td>0.31</td><td>⋯</td><td>0.03</td><td>0.04</td><td>0.06</td><td>0.02</td><td>0.02</td><td>0.01</td><td>0.03</td><td>0.02</td><td>0.03</td><td>0.03</td></tr>\n",
       "\t<tr><th scope=row>sulfate_respiration</th><td>0.01</td><td>0.01</td><td>0.01</td><td>0.01</td><td>0.00</td><td>0.00</td><td>0.00</td><td>0.01</td><td>0.01</td><td>0.01</td><td>⋯</td><td>0.04</td><td>0.05</td><td>0.04</td><td>0.07</td><td>0.03</td><td>0.03</td><td>0.02</td><td>0.02</td><td>0.05</td><td>0.03</td></tr>\n",
       "\t<tr><th scope=row>respiration_of_sulfur_compounds</th><td>0.01</td><td>0.01</td><td>0.01</td><td>0.01</td><td>0.00</td><td>0.00</td><td>0.00</td><td>0.01</td><td>0.01</td><td>0.01</td><td>⋯</td><td>0.04</td><td>0.05</td><td>0.04</td><td>0.07</td><td>0.03</td><td>0.03</td><td>0.02</td><td>0.02</td><td>0.05</td><td>0.03</td></tr>\n",
       "</tbody>\n",
       "</table>\n"
      ],
      "text/latex": [
       "A data.frame: 6 × 96\n",
       "\\begin{tabular}{r|lllllllllllllllllllll}\n",
       "  & R3.1.W & R3.10.W & R3.11.W & R3.12.W & R3.13.W & R3.14.W & R3.15.W & R3.16.W & R3.17.W & R3.18.W & ⋯ & XP.En9.W & CG.En11.W & CG.En12.W & CG.En2.W & CG.En3.W & CG.En4.W & CG.En5.W & CG.En7.W & CG.En8.W & CG.En9.W\\\\\n",
       "  & <dbl> & <dbl> & <dbl> & <dbl> & <dbl> & <dbl> & <dbl> & <dbl> & <dbl> & <dbl> & ⋯ & <dbl> & <dbl> & <dbl> & <dbl> & <dbl> & <dbl> & <dbl> & <dbl> & <dbl> & <dbl>\\\\\n",
       "\\hline\n",
       "\tmethanol\\_oxidation & 0.06 & 0.06 & 0.07 & 0.10 & 0.06 & 0.07 & 0.08 & 0.07 & 0.07 & 0.07 & ⋯ & 0.59 & 0.15 & 0.15 & 0.10 & 0.18 & 0.26 & 0.22 & 0.15 & 0.14 & 0.08\\\\\n",
       "\tmethylotrophy & 0.06 & 0.06 & 0.07 & 0.10 & 0.06 & 0.07 & 0.08 & 0.07 & 0.07 & 0.07 & ⋯ & 0.59 & 0.15 & 0.15 & 0.10 & 0.18 & 0.26 & 0.22 & 0.15 & 0.14 & 0.08\\\\\n",
       "\taerobic\\_ammonia\\_oxidation & 0.13 & 0.33 & 0.40 & 0.29 & 0.45 & 0.31 & 0.37 & 0.39 & 0.31 & 0.31 & ⋯ & 0.03 & 0.04 & 0.06 & 0.02 & 0.02 & 0.01 & 0.03 & 0.02 & 0.03 & 0.03\\\\\n",
       "\tnitrification & 0.13 & 0.33 & 0.40 & 0.29 & 0.45 & 0.31 & 0.37 & 0.39 & 0.31 & 0.31 & ⋯ & 0.03 & 0.04 & 0.06 & 0.02 & 0.02 & 0.01 & 0.03 & 0.02 & 0.03 & 0.03\\\\\n",
       "\tsulfate\\_respiration & 0.01 & 0.01 & 0.01 & 0.01 & 0.00 & 0.00 & 0.00 & 0.01 & 0.01 & 0.01 & ⋯ & 0.04 & 0.05 & 0.04 & 0.07 & 0.03 & 0.03 & 0.02 & 0.02 & 0.05 & 0.03\\\\\n",
       "\trespiration\\_of\\_sulfur\\_compounds & 0.01 & 0.01 & 0.01 & 0.01 & 0.00 & 0.00 & 0.00 & 0.01 & 0.01 & 0.01 & ⋯ & 0.04 & 0.05 & 0.04 & 0.07 & 0.03 & 0.03 & 0.02 & 0.02 & 0.05 & 0.03\\\\\n",
       "\\end{tabular}\n"
      ],
      "text/markdown": [
       "\n",
       "A data.frame: 6 × 96\n",
       "\n",
       "| <!--/--> | R3.1.W &lt;dbl&gt; | R3.10.W &lt;dbl&gt; | R3.11.W &lt;dbl&gt; | R3.12.W &lt;dbl&gt; | R3.13.W &lt;dbl&gt; | R3.14.W &lt;dbl&gt; | R3.15.W &lt;dbl&gt; | R3.16.W &lt;dbl&gt; | R3.17.W &lt;dbl&gt; | R3.18.W &lt;dbl&gt; | ⋯ ⋯ | XP.En9.W &lt;dbl&gt; | CG.En11.W &lt;dbl&gt; | CG.En12.W &lt;dbl&gt; | CG.En2.W &lt;dbl&gt; | CG.En3.W &lt;dbl&gt; | CG.En4.W &lt;dbl&gt; | CG.En5.W &lt;dbl&gt; | CG.En7.W &lt;dbl&gt; | CG.En8.W &lt;dbl&gt; | CG.En9.W &lt;dbl&gt; |\n",
       "|---|---|---|---|---|---|---|---|---|---|---|---|---|---|---|---|---|---|---|---|---|---|\n",
       "| methanol_oxidation | 0.06 | 0.06 | 0.07 | 0.10 | 0.06 | 0.07 | 0.08 | 0.07 | 0.07 | 0.07 | ⋯ | 0.59 | 0.15 | 0.15 | 0.10 | 0.18 | 0.26 | 0.22 | 0.15 | 0.14 | 0.08 |\n",
       "| methylotrophy | 0.06 | 0.06 | 0.07 | 0.10 | 0.06 | 0.07 | 0.08 | 0.07 | 0.07 | 0.07 | ⋯ | 0.59 | 0.15 | 0.15 | 0.10 | 0.18 | 0.26 | 0.22 | 0.15 | 0.14 | 0.08 |\n",
       "| aerobic_ammonia_oxidation | 0.13 | 0.33 | 0.40 | 0.29 | 0.45 | 0.31 | 0.37 | 0.39 | 0.31 | 0.31 | ⋯ | 0.03 | 0.04 | 0.06 | 0.02 | 0.02 | 0.01 | 0.03 | 0.02 | 0.03 | 0.03 |\n",
       "| nitrification | 0.13 | 0.33 | 0.40 | 0.29 | 0.45 | 0.31 | 0.37 | 0.39 | 0.31 | 0.31 | ⋯ | 0.03 | 0.04 | 0.06 | 0.02 | 0.02 | 0.01 | 0.03 | 0.02 | 0.03 | 0.03 |\n",
       "| sulfate_respiration | 0.01 | 0.01 | 0.01 | 0.01 | 0.00 | 0.00 | 0.00 | 0.01 | 0.01 | 0.01 | ⋯ | 0.04 | 0.05 | 0.04 | 0.07 | 0.03 | 0.03 | 0.02 | 0.02 | 0.05 | 0.03 |\n",
       "| respiration_of_sulfur_compounds | 0.01 | 0.01 | 0.01 | 0.01 | 0.00 | 0.00 | 0.00 | 0.01 | 0.01 | 0.01 | ⋯ | 0.04 | 0.05 | 0.04 | 0.07 | 0.03 | 0.03 | 0.02 | 0.02 | 0.05 | 0.03 |\n",
       "\n"
      ],
      "text/plain": [
       "                                R3.1.W R3.10.W R3.11.W R3.12.W R3.13.W R3.14.W\n",
       "methanol_oxidation              0.06   0.06    0.07    0.10    0.06    0.07   \n",
       "methylotrophy                   0.06   0.06    0.07    0.10    0.06    0.07   \n",
       "aerobic_ammonia_oxidation       0.13   0.33    0.40    0.29    0.45    0.31   \n",
       "nitrification                   0.13   0.33    0.40    0.29    0.45    0.31   \n",
       "sulfate_respiration             0.01   0.01    0.01    0.01    0.00    0.00   \n",
       "respiration_of_sulfur_compounds 0.01   0.01    0.01    0.01    0.00    0.00   \n",
       "                                R3.15.W R3.16.W R3.17.W R3.18.W ⋯ XP.En9.W\n",
       "methanol_oxidation              0.08    0.07    0.07    0.07    ⋯ 0.59    \n",
       "methylotrophy                   0.08    0.07    0.07    0.07    ⋯ 0.59    \n",
       "aerobic_ammonia_oxidation       0.37    0.39    0.31    0.31    ⋯ 0.03    \n",
       "nitrification                   0.37    0.39    0.31    0.31    ⋯ 0.03    \n",
       "sulfate_respiration             0.00    0.01    0.01    0.01    ⋯ 0.04    \n",
       "respiration_of_sulfur_compounds 0.00    0.01    0.01    0.01    ⋯ 0.04    \n",
       "                                CG.En11.W CG.En12.W CG.En2.W CG.En3.W CG.En4.W\n",
       "methanol_oxidation              0.15      0.15      0.10     0.18     0.26    \n",
       "methylotrophy                   0.15      0.15      0.10     0.18     0.26    \n",
       "aerobic_ammonia_oxidation       0.04      0.06      0.02     0.02     0.01    \n",
       "nitrification                   0.04      0.06      0.02     0.02     0.01    \n",
       "sulfate_respiration             0.05      0.04      0.07     0.03     0.03    \n",
       "respiration_of_sulfur_compounds 0.05      0.04      0.07     0.03     0.03    \n",
       "                                CG.En5.W CG.En7.W CG.En8.W CG.En9.W\n",
       "methanol_oxidation              0.22     0.15     0.14     0.08    \n",
       "methylotrophy                   0.22     0.15     0.14     0.08    \n",
       "aerobic_ammonia_oxidation       0.03     0.02     0.03     0.03    \n",
       "nitrification                   0.03     0.02     0.03     0.03    \n",
       "sulfate_respiration             0.02     0.02     0.05     0.03    \n",
       "respiration_of_sulfur_compounds 0.02     0.02     0.05     0.03    "
      ]
     },
     "metadata": {},
     "output_type": "display_data"
    },
    {
     "data": {
      "text/plain": [
       "phyloseq-class experiment-level object\n",
       "otu_table()   OTU Table:         [ 33 taxa and 96 samples ]\n",
       "sample_data() Sample Data:       [ 96 samples by 45 sample variables ]"
      ]
     },
     "metadata": {},
     "output_type": "display_data"
    }
   ],
   "source": [
    "t1 <- trans_func$new(meco_merge_w)\n",
    "t1$cal_spe_func(prok_database = \"FAPROTAX\")\n",
    "t1$cal_spe_func_perc(abundance_weighted = TRUE)\n",
    "# use list to prepare data\n",
    "tmp <- list()\n",
    "# transpose res_spe_func_perc to be a data.frame like taxonomic abundance\n",
    "tmp$func <- as.data.frame(t(t1$res_spe_func_perc), check.names = FALSE)\n",
    "# assign the list as taxa_abund in your microtable object\n",
    "dataset$taxa_abund <- tmp\n",
    "head(tmp$func)\n",
    "ps_far_w = phyloseq(otu_table(tmp$func, taxa_are_rows=TRUE), \n",
    "               sample_data(meta))\n",
    "ps_far_w"
   ]
  },
  {
   "cell_type": "markdown",
   "id": "5c4b27fb-d8a5-444a-a123-dfe886bda53f",
   "metadata": {},
   "source": [
    "### make dataframes long"
   ]
  },
  {
   "cell_type": "code",
   "execution_count": 16,
   "id": "8b1b7f98-ba2e-4a17-bf2a-96e8c995b6e4",
   "metadata": {},
   "outputs": [
    {
     "data": {
      "text/html": [
       "<table class=\"dataframe\">\n",
       "<caption>A data.frame: 6 × 48</caption>\n",
       "<thead>\n",
       "\t<tr><th></th><th scope=col>Sample</th><th scope=col>OTU</th><th scope=col>Abundance</th><th scope=col>samp</th><th scope=col>Sample.ID</th><th scope=col>Site</th><th scope=col>Site.Name</th><th scope=col>Region</th><th scope=col>Project</th><th scope=col>Type</th><th scope=col>⋯</th><th scope=col>Types</th><th scope=col>Vul_coral</th><th scope=col>End_coral</th><th scope=col>Epi_coral</th><th scope=col>Vul_sed</th><th scope=col>End_sed</th><th scope=col>Epi_sed</th><th scope=col>Vul_wat</th><th scope=col>End_wat</th><th scope=col>Epi_wat</th></tr>\n",
       "\t<tr><th></th><th scope=col>&lt;chr&gt;</th><th scope=col>&lt;chr&gt;</th><th scope=col>&lt;dbl&gt;</th><th scope=col>&lt;chr&gt;</th><th scope=col>&lt;chr&gt;</th><th scope=col>&lt;chr&gt;</th><th scope=col>&lt;chr&gt;</th><th scope=col>&lt;chr&gt;</th><th scope=col>&lt;chr&gt;</th><th scope=col>&lt;chr&gt;</th><th scope=col>⋯</th><th scope=col>&lt;int&gt;</th><th scope=col>&lt;int&gt;</th><th scope=col>&lt;int&gt;</th><th scope=col>&lt;int&gt;</th><th scope=col>&lt;int&gt;</th><th scope=col>&lt;int&gt;</th><th scope=col>&lt;int&gt;</th><th scope=col>&lt;int&gt;</th><th scope=col>&lt;int&gt;</th><th scope=col>&lt;int&gt;</th></tr>\n",
       "</thead>\n",
       "<tbody>\n",
       "\t<tr><th scope=row>358</th><td>CG10.W</td><td>photosynthetic_cyanobacteria</td><td>28.85</td><td>CG10.W_S8</td><td>CG10.W_S8</td><td>NA</td><td>Cliff.Green</td><td>Lower Keys</td><td>EPA2</td><td>Water</td><td>⋯</td><td>2</td><td>0</td><td>0</td><td>0</td><td>0</td><td>0</td><td>0</td><td>0</td><td>0</td><td>1</td></tr>\n",
       "\t<tr><th scope=row>359</th><td>CG10.W</td><td>oxygenic_photoautotrophy    </td><td>28.85</td><td>CG10.W_S8</td><td>CG10.W_S8</td><td>NA</td><td>Cliff.Green</td><td>Lower Keys</td><td>EPA2</td><td>Water</td><td>⋯</td><td>2</td><td>0</td><td>0</td><td>0</td><td>0</td><td>0</td><td>0</td><td>0</td><td>0</td><td>1</td></tr>\n",
       "\t<tr><th scope=row>360</th><td>CG10.W</td><td>photoautotrophy             </td><td>28.85</td><td>CG10.W_S8</td><td>CG10.W_S8</td><td>NA</td><td>Cliff.Green</td><td>Lower Keys</td><td>EPA2</td><td>Water</td><td>⋯</td><td>2</td><td>0</td><td>0</td><td>0</td><td>0</td><td>0</td><td>0</td><td>0</td><td>0</td><td>1</td></tr>\n",
       "\t<tr><th scope=row>361</th><td>CG10.W</td><td>phototrophy                 </td><td>28.85</td><td>CG10.W_S8</td><td>CG10.W_S8</td><td>NA</td><td>Cliff.Green</td><td>Lower Keys</td><td>EPA2</td><td>Water</td><td>⋯</td><td>2</td><td>0</td><td>0</td><td>0</td><td>0</td><td>0</td><td>0</td><td>0</td><td>0</td><td>1</td></tr>\n",
       "\t<tr><th scope=row>556</th><td>CG5.W </td><td>photosynthetic_cyanobacteria</td><td>26.68</td><td>CG5.W_S8 </td><td>CG5.W_S8 </td><td>NA</td><td>Cliff.Green</td><td>Lower Keys</td><td>EPA2</td><td>Water</td><td>⋯</td><td>2</td><td>0</td><td>0</td><td>0</td><td>0</td><td>0</td><td>0</td><td>0</td><td>0</td><td>1</td></tr>\n",
       "\t<tr><th scope=row>557</th><td>CG5.W </td><td>oxygenic_photoautotrophy    </td><td>26.68</td><td>CG5.W_S8 </td><td>CG5.W_S8 </td><td>NA</td><td>Cliff.Green</td><td>Lower Keys</td><td>EPA2</td><td>Water</td><td>⋯</td><td>2</td><td>0</td><td>0</td><td>0</td><td>0</td><td>0</td><td>0</td><td>0</td><td>0</td><td>1</td></tr>\n",
       "</tbody>\n",
       "</table>\n"
      ],
      "text/latex": [
       "A data.frame: 6 × 48\n",
       "\\begin{tabular}{r|lllllllllllllllllllll}\n",
       "  & Sample & OTU & Abundance & samp & Sample.ID & Site & Site.Name & Region & Project & Type & ⋯ & Types & Vul\\_coral & End\\_coral & Epi\\_coral & Vul\\_sed & End\\_sed & Epi\\_sed & Vul\\_wat & End\\_wat & Epi\\_wat\\\\\n",
       "  & <chr> & <chr> & <dbl> & <chr> & <chr> & <chr> & <chr> & <chr> & <chr> & <chr> & ⋯ & <int> & <int> & <int> & <int> & <int> & <int> & <int> & <int> & <int> & <int>\\\\\n",
       "\\hline\n",
       "\t358 & CG10.W & photosynthetic\\_cyanobacteria & 28.85 & CG10.W\\_S8 & CG10.W\\_S8 & NA & Cliff.Green & Lower Keys & EPA2 & Water & ⋯ & 2 & 0 & 0 & 0 & 0 & 0 & 0 & 0 & 0 & 1\\\\\n",
       "\t359 & CG10.W & oxygenic\\_photoautotrophy     & 28.85 & CG10.W\\_S8 & CG10.W\\_S8 & NA & Cliff.Green & Lower Keys & EPA2 & Water & ⋯ & 2 & 0 & 0 & 0 & 0 & 0 & 0 & 0 & 0 & 1\\\\\n",
       "\t360 & CG10.W & photoautotrophy              & 28.85 & CG10.W\\_S8 & CG10.W\\_S8 & NA & Cliff.Green & Lower Keys & EPA2 & Water & ⋯ & 2 & 0 & 0 & 0 & 0 & 0 & 0 & 0 & 0 & 1\\\\\n",
       "\t361 & CG10.W & phototrophy                  & 28.85 & CG10.W\\_S8 & CG10.W\\_S8 & NA & Cliff.Green & Lower Keys & EPA2 & Water & ⋯ & 2 & 0 & 0 & 0 & 0 & 0 & 0 & 0 & 0 & 1\\\\\n",
       "\t556 & CG5.W  & photosynthetic\\_cyanobacteria & 26.68 & CG5.W\\_S8  & CG5.W\\_S8  & NA & Cliff.Green & Lower Keys & EPA2 & Water & ⋯ & 2 & 0 & 0 & 0 & 0 & 0 & 0 & 0 & 0 & 1\\\\\n",
       "\t557 & CG5.W  & oxygenic\\_photoautotrophy     & 26.68 & CG5.W\\_S8  & CG5.W\\_S8  & NA & Cliff.Green & Lower Keys & EPA2 & Water & ⋯ & 2 & 0 & 0 & 0 & 0 & 0 & 0 & 0 & 0 & 1\\\\\n",
       "\\end{tabular}\n"
      ],
      "text/markdown": [
       "\n",
       "A data.frame: 6 × 48\n",
       "\n",
       "| <!--/--> | Sample &lt;chr&gt; | OTU &lt;chr&gt; | Abundance &lt;dbl&gt; | samp &lt;chr&gt; | Sample.ID &lt;chr&gt; | Site &lt;chr&gt; | Site.Name &lt;chr&gt; | Region &lt;chr&gt; | Project &lt;chr&gt; | Type &lt;chr&gt; | ⋯ ⋯ | Types &lt;int&gt; | Vul_coral &lt;int&gt; | End_coral &lt;int&gt; | Epi_coral &lt;int&gt; | Vul_sed &lt;int&gt; | End_sed &lt;int&gt; | Epi_sed &lt;int&gt; | Vul_wat &lt;int&gt; | End_wat &lt;int&gt; | Epi_wat &lt;int&gt; |\n",
       "|---|---|---|---|---|---|---|---|---|---|---|---|---|---|---|---|---|---|---|---|---|---|\n",
       "| 358 | CG10.W | photosynthetic_cyanobacteria | 28.85 | CG10.W_S8 | CG10.W_S8 | NA | Cliff.Green | Lower Keys | EPA2 | Water | ⋯ | 2 | 0 | 0 | 0 | 0 | 0 | 0 | 0 | 0 | 1 |\n",
       "| 359 | CG10.W | oxygenic_photoautotrophy     | 28.85 | CG10.W_S8 | CG10.W_S8 | NA | Cliff.Green | Lower Keys | EPA2 | Water | ⋯ | 2 | 0 | 0 | 0 | 0 | 0 | 0 | 0 | 0 | 1 |\n",
       "| 360 | CG10.W | photoautotrophy              | 28.85 | CG10.W_S8 | CG10.W_S8 | NA | Cliff.Green | Lower Keys | EPA2 | Water | ⋯ | 2 | 0 | 0 | 0 | 0 | 0 | 0 | 0 | 0 | 1 |\n",
       "| 361 | CG10.W | phototrophy                  | 28.85 | CG10.W_S8 | CG10.W_S8 | NA | Cliff.Green | Lower Keys | EPA2 | Water | ⋯ | 2 | 0 | 0 | 0 | 0 | 0 | 0 | 0 | 0 | 1 |\n",
       "| 556 | CG5.W  | photosynthetic_cyanobacteria | 26.68 | CG5.W_S8  | CG5.W_S8  | NA | Cliff.Green | Lower Keys | EPA2 | Water | ⋯ | 2 | 0 | 0 | 0 | 0 | 0 | 0 | 0 | 0 | 1 |\n",
       "| 557 | CG5.W  | oxygenic_photoautotrophy     | 26.68 | CG5.W_S8  | CG5.W_S8  | NA | Cliff.Green | Lower Keys | EPA2 | Water | ⋯ | 2 | 0 | 0 | 0 | 0 | 0 | 0 | 0 | 0 | 1 |\n",
       "\n"
      ],
      "text/plain": [
       "    Sample OTU                          Abundance samp      Sample.ID Site\n",
       "358 CG10.W photosynthetic_cyanobacteria 28.85     CG10.W_S8 CG10.W_S8 NA  \n",
       "359 CG10.W oxygenic_photoautotrophy     28.85     CG10.W_S8 CG10.W_S8 NA  \n",
       "360 CG10.W photoautotrophy              28.85     CG10.W_S8 CG10.W_S8 NA  \n",
       "361 CG10.W phototrophy                  28.85     CG10.W_S8 CG10.W_S8 NA  \n",
       "556 CG5.W  photosynthetic_cyanobacteria 26.68     CG5.W_S8  CG5.W_S8  NA  \n",
       "557 CG5.W  oxygenic_photoautotrophy     26.68     CG5.W_S8  CG5.W_S8  NA  \n",
       "    Site.Name   Region     Project Type  ⋯ Types Vul_coral End_coral Epi_coral\n",
       "358 Cliff.Green Lower Keys EPA2    Water ⋯ 2     0         0         0        \n",
       "359 Cliff.Green Lower Keys EPA2    Water ⋯ 2     0         0         0        \n",
       "360 Cliff.Green Lower Keys EPA2    Water ⋯ 2     0         0         0        \n",
       "361 Cliff.Green Lower Keys EPA2    Water ⋯ 2     0         0         0        \n",
       "556 Cliff.Green Lower Keys EPA2    Water ⋯ 2     0         0         0        \n",
       "557 Cliff.Green Lower Keys EPA2    Water ⋯ 2     0         0         0        \n",
       "    Vul_sed End_sed Epi_sed Vul_wat End_wat Epi_wat\n",
       "358 0       0       0       0       0       1      \n",
       "359 0       0       0       0       0       1      \n",
       "360 0       0       0       0       0       1      \n",
       "361 0       0       0       0       0       1      \n",
       "556 0       0       0       0       0       1      \n",
       "557 0       0       0       0       0       1      "
      ]
     },
     "metadata": {},
     "output_type": "display_data"
    }
   ],
   "source": [
    "sum_far  <- ps_far_w %>% psmelt()\n",
    "\n",
    "head(sum_far)"
   ]
  },
  {
   "cell_type": "markdown",
   "id": "5157ac14-a934-479f-8369-7e5554f38dea",
   "metadata": {},
   "source": [
    "## Run differntial abundance analysis "
   ]
  },
  {
   "cell_type": "code",
   "execution_count": 17,
   "id": "565343bd-4d3d-41b3-86fa-eaa1895048ba",
   "metadata": {},
   "outputs": [],
   "source": [
    "meta_far_AH <- as(sample_data(ps_far_AH), \"data.frame\")"
   ]
  },
  {
   "cell_type": "code",
   "execution_count": 18,
   "id": "7045de9f-21bb-4c23-b371-8acf7c5c04bc",
   "metadata": {
    "scrolled": true
   },
   "outputs": [
    {
     "name": "stdout",
     "output_type": "stream",
     "text": [
      "\u001b[33m2025-03-25 16:06:25.491084 WARNING::Input is a matrix, passing through as.data.frame() .\u001b[39m\u001b[0m\u001b[0m\u001b[22m\u001b[23m\u001b[24m\u001b[27m\u001b[28m\u001b[29m\u001b[39m\u001b[49m\n",
      "[1] \"Warning: Deleting existing log file: /Users/stephanie.rosales/Documents/Tissueloss/EPA2/Maslin/coral/faprotax2//maaslin2.log\"\n",
      "\u001b[0m2025-03-25 16:06:25.647798 INFO::Writing function arguments to log file\u001b[0m\u001b[22m\u001b[23m\u001b[24m\u001b[27m\u001b[28m\u001b[29m\u001b[39m\u001b[49m\u001b[0m\u001b[0m\u001b[22m\u001b[23m\u001b[24m\u001b[27m\u001b[28m\u001b[29m\u001b[39m\u001b[49m\n",
      "\u001b[0m2025-03-25 16:06:25.656635 INFO::Verifying options selected are valid\u001b[0m\u001b[22m\u001b[23m\u001b[24m\u001b[27m\u001b[28m\u001b[29m\u001b[39m\u001b[49m\u001b[0m\u001b[0m\u001b[22m\u001b[23m\u001b[24m\u001b[27m\u001b[28m\u001b[29m\u001b[39m\u001b[49m\n",
      "\u001b[0m2025-03-25 16:06:25.684261 INFO::Determining format of input files\u001b[0m\u001b[22m\u001b[23m\u001b[24m\u001b[27m\u001b[28m\u001b[29m\u001b[39m\u001b[49m\u001b[0m\u001b[0m\u001b[22m\u001b[23m\u001b[24m\u001b[27m\u001b[28m\u001b[29m\u001b[39m\u001b[49m\n",
      "\u001b[0m2025-03-25 16:06:25.684951 INFO::Input format is data samples as columns and metadata samples as rows\u001b[0m\u001b[22m\u001b[23m\u001b[24m\u001b[27m\u001b[28m\u001b[29m\u001b[39m\u001b[49m\u001b[0m\u001b[0m\u001b[22m\u001b[23m\u001b[24m\u001b[27m\u001b[28m\u001b[29m\u001b[39m\u001b[49m\n",
      "\u001b[0m2025-03-25 16:06:25.687488 INFO::Formula for random effects: expr ~ (1 | Site.Name) + (1 | Species_sample)\u001b[0m\u001b[22m\u001b[23m\u001b[24m\u001b[27m\u001b[28m\u001b[29m\u001b[39m\u001b[49m\u001b[0m\u001b[0m\u001b[22m\u001b[23m\u001b[24m\u001b[27m\u001b[28m\u001b[29m\u001b[39m\u001b[49m\n",
      "\u001b[0m2025-03-25 16:06:25.688422 INFO::Formula for fixed effects: expr ~  Site.Status + Season\u001b[0m\u001b[22m\u001b[23m\u001b[24m\u001b[27m\u001b[28m\u001b[29m\u001b[39m\u001b[49m\u001b[0m\u001b[0m\u001b[22m\u001b[23m\u001b[24m\u001b[27m\u001b[28m\u001b[29m\u001b[39m\u001b[49m\n",
      "\u001b[0m2025-03-25 16:06:25.689258 INFO::Filter data based on min abundance and min prevalence\u001b[0m\u001b[22m\u001b[23m\u001b[24m\u001b[27m\u001b[28m\u001b[29m\u001b[39m\u001b[49m\u001b[0m\u001b[0m\u001b[22m\u001b[23m\u001b[24m\u001b[27m\u001b[28m\u001b[29m\u001b[39m\u001b[49m\n",
      "\u001b[0m2025-03-25 16:06:25.689689 INFO::Total samples in data: 117\u001b[0m\u001b[22m\u001b[23m\u001b[24m\u001b[27m\u001b[28m\u001b[29m\u001b[39m\u001b[49m\u001b[0m\u001b[0m\u001b[22m\u001b[23m\u001b[24m\u001b[27m\u001b[28m\u001b[29m\u001b[39m\u001b[49m\n",
      "\u001b[0m2025-03-25 16:06:25.690109 INFO::Min samples required with min abundance for a feature not to be filtered: 11.700000\u001b[0m\u001b[22m\u001b[23m\u001b[24m\u001b[27m\u001b[28m\u001b[29m\u001b[39m\u001b[49m\u001b[0m\u001b[0m\u001b[22m\u001b[23m\u001b[24m\u001b[27m\u001b[28m\u001b[29m\u001b[39m\u001b[49m\n",
      "\u001b[0m2025-03-25 16:06:25.691028 INFO::Total filtered features: 6\u001b[0m\u001b[22m\u001b[23m\u001b[24m\u001b[27m\u001b[28m\u001b[29m\u001b[39m\u001b[49m\u001b[0m\u001b[0m\u001b[22m\u001b[23m\u001b[24m\u001b[27m\u001b[28m\u001b[29m\u001b[39m\u001b[49m\n",
      "\u001b[0m2025-03-25 16:06:25.691514 INFO::Filtered feature names from abundance and prevalence filtering: knallgas_bacteria, xylanolysis, manganese_respiration, human_pathogens_pneumonia, iron_respiration, nonphotosynthetic_cyanobacteria\u001b[0m\u001b[22m\u001b[23m\u001b[24m\u001b[27m\u001b[28m\u001b[29m\u001b[39m\u001b[49m\u001b[0m\u001b[0m\u001b[22m\u001b[23m\u001b[24m\u001b[27m\u001b[28m\u001b[29m\u001b[39m\u001b[49m\n",
      "\u001b[0m2025-03-25 16:06:25.695243 INFO::Total filtered features with variance filtering: 0\u001b[0m\u001b[22m\u001b[23m\u001b[24m\u001b[27m\u001b[28m\u001b[29m\u001b[39m\u001b[49m\u001b[0m\u001b[0m\u001b[22m\u001b[23m\u001b[24m\u001b[27m\u001b[28m\u001b[29m\u001b[39m\u001b[49m\n",
      "\u001b[0m2025-03-25 16:06:25.695765 INFO::Filtered feature names from variance filtering:\u001b[0m\u001b[22m\u001b[23m\u001b[24m\u001b[27m\u001b[28m\u001b[29m\u001b[39m\u001b[49m\u001b[0m\u001b[0m\u001b[22m\u001b[23m\u001b[24m\u001b[27m\u001b[28m\u001b[29m\u001b[39m\u001b[49m\n",
      "\u001b[0m2025-03-25 16:06:25.696223 INFO::Running selected normalization method: TSS\u001b[0m\u001b[22m\u001b[23m\u001b[24m\u001b[27m\u001b[28m\u001b[29m\u001b[39m\u001b[49m\u001b[0m\u001b[0m\u001b[22m\u001b[23m\u001b[24m\u001b[27m\u001b[28m\u001b[29m\u001b[39m\u001b[49m\n",
      "\u001b[0m2025-03-25 16:06:25.698741 INFO::Applying z-score to standardize continuous metadata\u001b[0m\u001b[22m\u001b[23m\u001b[24m\u001b[27m\u001b[28m\u001b[29m\u001b[39m\u001b[49m\u001b[0m\u001b[0m\u001b[22m\u001b[23m\u001b[24m\u001b[27m\u001b[28m\u001b[29m\u001b[39m\u001b[49m\n",
      "\u001b[0m2025-03-25 16:06:25.703804 INFO::Running selected transform method: LOG\u001b[0m\u001b[22m\u001b[23m\u001b[24m\u001b[27m\u001b[28m\u001b[29m\u001b[39m\u001b[49m\u001b[0m\u001b[0m\u001b[22m\u001b[23m\u001b[24m\u001b[27m\u001b[28m\u001b[29m\u001b[39m\u001b[49m\n",
      "\u001b[0m2025-03-25 16:06:25.705061 INFO::Running selected analysis method: LM\u001b[0m\u001b[22m\u001b[23m\u001b[24m\u001b[27m\u001b[28m\u001b[29m\u001b[39m\u001b[49m\u001b[0m\u001b[0m\u001b[22m\u001b[23m\u001b[24m\u001b[27m\u001b[28m\u001b[29m\u001b[39m\u001b[49m\n",
      "\u001b[0m2025-03-25 16:06:25.84771 INFO::Creating cluster of 4 R processes\u001b[0m\u001b[22m\u001b[23m\u001b[24m\u001b[27m\u001b[28m\u001b[29m\u001b[39m\u001b[49m\u001b[0m\u001b[0m\u001b[22m\u001b[23m\u001b[24m\u001b[27m\u001b[28m\u001b[29m\u001b[39m\u001b[49m\n",
      "\u001b[0m2025-03-25 16:06:28.62715 INFO::Counting total values for each feature\u001b[0m\u001b[22m\u001b[23m\u001b[24m\u001b[27m\u001b[28m\u001b[29m\u001b[39m\u001b[49m\u001b[0m\u001b[0m\u001b[22m\u001b[23m\u001b[24m\u001b[27m\u001b[28m\u001b[29m\u001b[39m\u001b[49m\n",
      "\u001b[0m2025-03-25 16:06:28.639134 INFO::Writing filtered data to file /Users/stephanie.rosales/Documents/Tissueloss/EPA2/Maslin/coral/faprotax2//features/filtered_data.tsv\u001b[0m\u001b[22m\u001b[23m\u001b[24m\u001b[27m\u001b[28m\u001b[29m\u001b[39m\u001b[49m\u001b[0m\u001b[0m\u001b[22m\u001b[23m\u001b[24m\u001b[27m\u001b[28m\u001b[29m\u001b[39m\u001b[49m\n",
      "\u001b[0m2025-03-25 16:06:28.650433 INFO::Writing filtered, normalized data to file /Users/stephanie.rosales/Documents/Tissueloss/EPA2/Maslin/coral/faprotax2//features/filtered_data_norm.tsv\u001b[0m\u001b[22m\u001b[23m\u001b[24m\u001b[27m\u001b[28m\u001b[29m\u001b[39m\u001b[49m\u001b[0m\u001b[0m\u001b[22m\u001b[23m\u001b[24m\u001b[27m\u001b[28m\u001b[29m\u001b[39m\u001b[49m\n",
      "\u001b[0m2025-03-25 16:06:28.661669 INFO::Writing filtered, normalized, transformed data to file /Users/stephanie.rosales/Documents/Tissueloss/EPA2/Maslin/coral/faprotax2//features/filtered_data_norm_transformed.tsv\u001b[0m\u001b[22m\u001b[23m\u001b[24m\u001b[27m\u001b[28m\u001b[29m\u001b[39m\u001b[49m\u001b[0m\u001b[0m\u001b[22m\u001b[23m\u001b[24m\u001b[27m\u001b[28m\u001b[29m\u001b[39m\u001b[49m\n",
      "\u001b[33m2025-03-25 16:06:28.672278 WARNING::Deleting existing residuals file: /Users/stephanie.rosales/Documents/Tissueloss/EPA2/Maslin/coral/faprotax2//fits/residuals.rds\u001b[39m\u001b[0m\u001b[0m\u001b[22m\u001b[23m\u001b[24m\u001b[27m\u001b[28m\u001b[29m\u001b[39m\u001b[49m\n",
      "\u001b[0m2025-03-25 16:06:28.674078 INFO::Writing residuals to file /Users/stephanie.rosales/Documents/Tissueloss/EPA2/Maslin/coral/faprotax2//fits/residuals.rds\u001b[0m\u001b[22m\u001b[23m\u001b[24m\u001b[27m\u001b[28m\u001b[29m\u001b[39m\u001b[49m\u001b[0m\u001b[0m\u001b[22m\u001b[23m\u001b[24m\u001b[27m\u001b[28m\u001b[29m\u001b[39m\u001b[49m\n",
      "\u001b[33m2025-03-25 16:06:28.676116 WARNING::Deleting existing fitted file: /Users/stephanie.rosales/Documents/Tissueloss/EPA2/Maslin/coral/faprotax2//fits/fitted.rds\u001b[39m\u001b[0m\u001b[0m\u001b[22m\u001b[23m\u001b[24m\u001b[27m\u001b[28m\u001b[29m\u001b[39m\u001b[49m\n",
      "\u001b[0m2025-03-25 16:06:28.677221 INFO::Writing fitted values to file /Users/stephanie.rosales/Documents/Tissueloss/EPA2/Maslin/coral/faprotax2//fits/fitted.rds\u001b[0m\u001b[22m\u001b[23m\u001b[24m\u001b[27m\u001b[28m\u001b[29m\u001b[39m\u001b[49m\u001b[0m\u001b[0m\u001b[22m\u001b[23m\u001b[24m\u001b[27m\u001b[28m\u001b[29m\u001b[39m\u001b[49m\n",
      "\u001b[33m2025-03-25 16:06:28.678798 WARNING::Deleting existing ranef file: /Users/stephanie.rosales/Documents/Tissueloss/EPA2/Maslin/coral/faprotax2//fits/ranef.rds\u001b[39m\u001b[0m\u001b[0m\u001b[22m\u001b[23m\u001b[24m\u001b[27m\u001b[28m\u001b[29m\u001b[39m\u001b[49m\n",
      "\u001b[0m2025-03-25 16:06:28.679623 INFO::Writing extracted random effects to file /Users/stephanie.rosales/Documents/Tissueloss/EPA2/Maslin/coral/faprotax2//fits/ranef.rds\u001b[0m\u001b[22m\u001b[23m\u001b[24m\u001b[27m\u001b[28m\u001b[29m\u001b[39m\u001b[49m\u001b[0m\u001b[0m\u001b[22m\u001b[23m\u001b[24m\u001b[27m\u001b[28m\u001b[29m\u001b[39m\u001b[49m\n",
      "\u001b[0m2025-03-25 16:06:28.680542 INFO::Writing all results to file (ordered by increasing q-values): /Users/stephanie.rosales/Documents/Tissueloss/EPA2/Maslin/coral/faprotax2//all_results.tsv\u001b[0m\u001b[22m\u001b[23m\u001b[24m\u001b[27m\u001b[28m\u001b[29m\u001b[39m\u001b[49m\u001b[0m\u001b[0m\u001b[22m\u001b[23m\u001b[24m\u001b[27m\u001b[28m\u001b[29m\u001b[39m\u001b[49m\n",
      "\u001b[0m2025-03-25 16:06:28.683277 INFO::Writing the significant results (those which are less than or equal to the threshold of 0.050000 ) to file (ordered by increasing q-values): /Users/stephanie.rosales/Documents/Tissueloss/EPA2/Maslin/coral/faprotax2//significant_results.tsv\u001b[0m\u001b[22m\u001b[23m\u001b[24m\u001b[27m\u001b[28m\u001b[29m\u001b[39m\u001b[49m\u001b[0m\u001b[0m\u001b[22m\u001b[23m\u001b[24m\u001b[27m\u001b[28m\u001b[29m\u001b[39m\u001b[49m\n",
      "\u001b[0m2025-03-25 16:06:28.684698 INFO::Writing heatmap of significant results to file: /Users/stephanie.rosales/Documents/Tissueloss/EPA2/Maslin/coral/faprotax2//heatmap.pdf\u001b[0m\u001b[22m\u001b[23m\u001b[24m\u001b[27m\u001b[28m\u001b[29m\u001b[39m\u001b[49m\u001b[0m\u001b[0m\u001b[22m\u001b[23m\u001b[24m\u001b[27m\u001b[28m\u001b[29m\u001b[39m\u001b[49m\n",
      "\u001b[0m2025-03-25 16:06:28.841595 INFO::Writing association plots (one for each significant association) to output folder: /Users/stephanie.rosales/Documents/Tissueloss/EPA2/Maslin/coral/faprotax2/\u001b[0m\u001b[22m\u001b[23m\u001b[24m\u001b[27m\u001b[28m\u001b[29m\u001b[39m\u001b[49m\u001b[0m\u001b[0m\u001b[22m\u001b[23m\u001b[24m\u001b[27m\u001b[28m\u001b[29m\u001b[39m\u001b[49m\n",
      "\u001b[0m2025-03-25 16:06:28.845329 INFO::Plotting associations from most to least significant, grouped by metadata\u001b[0m\u001b[22m\u001b[23m\u001b[24m\u001b[27m\u001b[28m\u001b[29m\u001b[39m\u001b[49m\u001b[0m\u001b[0m\u001b[22m\u001b[23m\u001b[24m\u001b[27m\u001b[28m\u001b[29m\u001b[39m\u001b[49m\n",
      "\u001b[0m2025-03-25 16:06:28.846118 INFO::Plotting data for metadata number 1, Site.Status\u001b[0m\u001b[22m\u001b[23m\u001b[24m\u001b[27m\u001b[28m\u001b[29m\u001b[39m\u001b[49m\u001b[0m\u001b[0m\u001b[22m\u001b[23m\u001b[24m\u001b[27m\u001b[28m\u001b[29m\u001b[39m\u001b[49m\n",
      "\u001b[0m2025-03-25 16:06:28.847317 INFO::Creating boxplot for categorical data, Site.Status vs aliphatic_non_methane_hydrocarbon_degradation\u001b[0m\u001b[22m\u001b[23m\u001b[24m\u001b[27m\u001b[28m\u001b[29m\u001b[39m\u001b[49m\u001b[0m\u001b[0m\u001b[22m\u001b[23m\u001b[24m\u001b[27m\u001b[28m\u001b[29m\u001b[39m\u001b[49m\n",
      "\u001b[0m2025-03-25 16:06:29.167701 INFO::Creating boxplot for categorical data, Site.Status vs aliphatic_non_methane_hydrocarbon_degradation\u001b[0m\u001b[22m\u001b[23m\u001b[24m\u001b[27m\u001b[28m\u001b[29m\u001b[39m\u001b[49m\u001b[0m\u001b[0m\u001b[22m\u001b[23m\u001b[24m\u001b[27m\u001b[28m\u001b[29m\u001b[39m\u001b[49m\n",
      "\u001b[0m2025-03-25 16:06:29.287993 INFO::Creating boxplot for categorical data, Site.Status vs predatory_or_exoparasitic\u001b[0m\u001b[22m\u001b[23m\u001b[24m\u001b[27m\u001b[28m\u001b[29m\u001b[39m\u001b[49m\u001b[0m\u001b[0m\u001b[22m\u001b[23m\u001b[24m\u001b[27m\u001b[28m\u001b[29m\u001b[39m\u001b[49m\n",
      "\u001b[0m2025-03-25 16:06:29.401971 INFO::Creating boxplot for categorical data, Site.Status vs thiosulfate_respiration\u001b[0m\u001b[22m\u001b[23m\u001b[24m\u001b[27m\u001b[28m\u001b[29m\u001b[39m\u001b[49m\u001b[0m\u001b[0m\u001b[22m\u001b[23m\u001b[24m\u001b[27m\u001b[28m\u001b[29m\u001b[39m\u001b[49m\n",
      "\u001b[0m2025-03-25 16:06:29.497466 INFO::Creating boxplot for categorical data, Site.Status vs chitinolysis\u001b[0m\u001b[22m\u001b[23m\u001b[24m\u001b[27m\u001b[28m\u001b[29m\u001b[39m\u001b[49m\u001b[0m\u001b[0m\u001b[22m\u001b[23m\u001b[24m\u001b[27m\u001b[28m\u001b[29m\u001b[39m\u001b[49m\n",
      "\u001b[0m2025-03-25 16:06:29.614045 INFO::Creating boxplot for categorical data, Site.Status vs chitinolysis\u001b[0m\u001b[22m\u001b[23m\u001b[24m\u001b[27m\u001b[28m\u001b[29m\u001b[39m\u001b[49m\u001b[0m\u001b[0m\u001b[22m\u001b[23m\u001b[24m\u001b[27m\u001b[28m\u001b[29m\u001b[39m\u001b[49m\n",
      "\u001b[0m2025-03-25 16:06:29.711826 INFO::Creating boxplot for categorical data, Site.Status vs hydrocarbon_degradation\u001b[0m\u001b[22m\u001b[23m\u001b[24m\u001b[27m\u001b[28m\u001b[29m\u001b[39m\u001b[49m\u001b[0m\u001b[0m\u001b[22m\u001b[23m\u001b[24m\u001b[27m\u001b[28m\u001b[29m\u001b[39m\u001b[49m\n",
      "\u001b[0m2025-03-25 16:06:29.830841 INFO::Creating boxplot for categorical data, Site.Status vs respiration_of_sulfur_compounds\u001b[0m\u001b[22m\u001b[23m\u001b[24m\u001b[27m\u001b[28m\u001b[29m\u001b[39m\u001b[49m\u001b[0m\u001b[0m\u001b[22m\u001b[23m\u001b[24m\u001b[27m\u001b[28m\u001b[29m\u001b[39m\u001b[49m\n",
      "\u001b[0m2025-03-25 16:06:29.927725 INFO::Creating boxplot for categorical data, Site.Status vs sulfate_respiration\u001b[0m\u001b[22m\u001b[23m\u001b[24m\u001b[27m\u001b[28m\u001b[29m\u001b[39m\u001b[49m\u001b[0m\u001b[0m\u001b[22m\u001b[23m\u001b[24m\u001b[27m\u001b[28m\u001b[29m\u001b[39m\u001b[49m\n",
      "\u001b[0m2025-03-25 16:06:30.026333 INFO::Creating boxplot for categorical data, Site.Status vs methanotrophy\u001b[0m\u001b[22m\u001b[23m\u001b[24m\u001b[27m\u001b[28m\u001b[29m\u001b[39m\u001b[49m\u001b[0m\u001b[0m\u001b[22m\u001b[23m\u001b[24m\u001b[27m\u001b[28m\u001b[29m\u001b[39m\u001b[49m\n",
      "\u001b[0m2025-03-25 16:06:30.14828 INFO::Creating boxplot for categorical data, Site.Status vs ureolysis\u001b[0m\u001b[22m\u001b[23m\u001b[24m\u001b[27m\u001b[28m\u001b[29m\u001b[39m\u001b[49m\u001b[0m\u001b[0m\u001b[22m\u001b[23m\u001b[24m\u001b[27m\u001b[28m\u001b[29m\u001b[39m\u001b[49m\n",
      "\u001b[0m2025-03-25 16:06:30.251986 INFO::Creating boxplot for categorical data, Site.Status vs human_gut\u001b[0m\u001b[22m\u001b[23m\u001b[24m\u001b[27m\u001b[28m\u001b[29m\u001b[39m\u001b[49m\u001b[0m\u001b[0m\u001b[22m\u001b[23m\u001b[24m\u001b[27m\u001b[28m\u001b[29m\u001b[39m\u001b[49m\n",
      "\u001b[0m2025-03-25 16:06:30.377105 INFO::Creating boxplot for categorical data, Site.Status vs mammal_gut\u001b[0m\u001b[22m\u001b[23m\u001b[24m\u001b[27m\u001b[28m\u001b[29m\u001b[39m\u001b[49m\u001b[0m\u001b[0m\u001b[22m\u001b[23m\u001b[24m\u001b[27m\u001b[28m\u001b[29m\u001b[39m\u001b[49m\n",
      "\u001b[0m2025-03-25 16:06:30.477803 INFO::Creating boxplot for categorical data, Site.Status vs methanol_oxidation\u001b[0m\u001b[22m\u001b[23m\u001b[24m\u001b[27m\u001b[28m\u001b[29m\u001b[39m\u001b[49m\u001b[0m\u001b[0m\u001b[22m\u001b[23m\u001b[24m\u001b[27m\u001b[28m\u001b[29m\u001b[39m\u001b[49m\n",
      "\u001b[0m2025-03-25 16:06:30.591695 INFO::Creating boxplot for categorical data, Site.Status vs methylotrophy\u001b[0m\u001b[22m\u001b[23m\u001b[24m\u001b[27m\u001b[28m\u001b[29m\u001b[39m\u001b[49m\u001b[0m\u001b[0m\u001b[22m\u001b[23m\u001b[24m\u001b[27m\u001b[28m\u001b[29m\u001b[39m\u001b[49m\n",
      "\u001b[0m2025-03-25 16:06:30.686512 INFO::Creating boxplot for categorical data, Site.Status vs hydrocarbon_degradation\u001b[0m\u001b[22m\u001b[23m\u001b[24m\u001b[27m\u001b[28m\u001b[29m\u001b[39m\u001b[49m\u001b[0m\u001b[0m\u001b[22m\u001b[23m\u001b[24m\u001b[27m\u001b[28m\u001b[29m\u001b[39m\u001b[49m\n",
      "\u001b[0m2025-03-25 16:06:30.799686 INFO::Creating boxplot for categorical data, Site.Status vs predatory_or_exoparasitic\u001b[0m\u001b[22m\u001b[23m\u001b[24m\u001b[27m\u001b[28m\u001b[29m\u001b[39m\u001b[49m\u001b[0m\u001b[0m\u001b[22m\u001b[23m\u001b[24m\u001b[27m\u001b[28m\u001b[29m\u001b[39m\u001b[49m\n",
      "\u001b[0m2025-03-25 16:06:30.892753 INFO::Creating boxplot for categorical data, Site.Status vs nitrogen_fixation\u001b[0m\u001b[22m\u001b[23m\u001b[24m\u001b[27m\u001b[28m\u001b[29m\u001b[39m\u001b[49m\u001b[0m\u001b[0m\u001b[22m\u001b[23m\u001b[24m\u001b[27m\u001b[28m\u001b[29m\u001b[39m\u001b[49m\n",
      "\u001b[0m2025-03-25 16:06:31.006452 INFO::Creating boxplot for categorical data, Site.Status vs dark_hydrogen_oxidation\u001b[0m\u001b[22m\u001b[23m\u001b[24m\u001b[27m\u001b[28m\u001b[29m\u001b[39m\u001b[49m\u001b[0m\u001b[0m\u001b[22m\u001b[23m\u001b[24m\u001b[27m\u001b[28m\u001b[29m\u001b[39m\u001b[49m\n",
      "\u001b[0m2025-03-25 16:06:32.205557 INFO::Plotting data for metadata number 2, Season\u001b[0m\u001b[22m\u001b[23m\u001b[24m\u001b[27m\u001b[28m\u001b[29m\u001b[39m\u001b[49m\u001b[0m\u001b[0m\u001b[22m\u001b[23m\u001b[24m\u001b[27m\u001b[28m\u001b[29m\u001b[39m\u001b[49m\n",
      "\u001b[0m2025-03-25 16:06:32.206795 INFO::Creating boxplot for categorical data, Season vs photosynthetic_cyanobacteria\u001b[0m\u001b[22m\u001b[23m\u001b[24m\u001b[27m\u001b[28m\u001b[29m\u001b[39m\u001b[49m\u001b[0m\u001b[0m\u001b[22m\u001b[23m\u001b[24m\u001b[27m\u001b[28m\u001b[29m\u001b[39m\u001b[49m\n",
      "\u001b[0m2025-03-25 16:06:32.294092 INFO::Creating boxplot for categorical data, Season vs oxygenic_photoautotrophy\u001b[0m\u001b[22m\u001b[23m\u001b[24m\u001b[27m\u001b[28m\u001b[29m\u001b[39m\u001b[49m\u001b[0m\u001b[0m\u001b[22m\u001b[23m\u001b[24m\u001b[27m\u001b[28m\u001b[29m\u001b[39m\u001b[49m\n",
      "\u001b[0m2025-03-25 16:06:32.436846 INFO::Creating boxplot for categorical data, Season vs photoautotrophy\u001b[0m\u001b[22m\u001b[23m\u001b[24m\u001b[27m\u001b[28m\u001b[29m\u001b[39m\u001b[49m\u001b[0m\u001b[0m\u001b[22m\u001b[23m\u001b[24m\u001b[27m\u001b[28m\u001b[29m\u001b[39m\u001b[49m\n",
      "\u001b[0m2025-03-25 16:06:32.528459 INFO::Creating boxplot for categorical data, Season vs phototrophy\u001b[0m\u001b[22m\u001b[23m\u001b[24m\u001b[27m\u001b[28m\u001b[29m\u001b[39m\u001b[49m\u001b[0m\u001b[0m\u001b[22m\u001b[23m\u001b[24m\u001b[27m\u001b[28m\u001b[29m\u001b[39m\u001b[49m\n",
      "\u001b[0m2025-03-25 16:06:32.63843 INFO::Creating boxplot for categorical data, Season vs aliphatic_non_methane_hydrocarbon_degradation\u001b[0m\u001b[22m\u001b[23m\u001b[24m\u001b[27m\u001b[28m\u001b[29m\u001b[39m\u001b[49m\u001b[0m\u001b[0m\u001b[22m\u001b[23m\u001b[24m\u001b[27m\u001b[28m\u001b[29m\u001b[39m\u001b[49m\n",
      "\u001b[0m2025-03-25 16:06:32.730217 INFO::Creating boxplot for categorical data, Season vs thiosulfate_respiration\u001b[0m\u001b[22m\u001b[23m\u001b[24m\u001b[27m\u001b[28m\u001b[29m\u001b[39m\u001b[49m\u001b[0m\u001b[0m\u001b[22m\u001b[23m\u001b[24m\u001b[27m\u001b[28m\u001b[29m\u001b[39m\u001b[49m\n",
      "\u001b[0m2025-03-25 16:06:32.822298 INFO::Creating boxplot for categorical data, Season vs respiration_of_sulfur_compounds\u001b[0m\u001b[22m\u001b[23m\u001b[24m\u001b[27m\u001b[28m\u001b[29m\u001b[39m\u001b[49m\u001b[0m\u001b[0m\u001b[22m\u001b[23m\u001b[24m\u001b[27m\u001b[28m\u001b[29m\u001b[39m\u001b[49m\n",
      "\u001b[0m2025-03-25 16:06:32.93462 INFO::Creating boxplot for categorical data, Season vs aerobic_chemoheterotrophy\u001b[0m\u001b[22m\u001b[23m\u001b[24m\u001b[27m\u001b[28m\u001b[29m\u001b[39m\u001b[49m\u001b[0m\u001b[0m\u001b[22m\u001b[23m\u001b[24m\u001b[27m\u001b[28m\u001b[29m\u001b[39m\u001b[49m\n",
      "\u001b[0m2025-03-25 16:06:33.024219 INFO::Creating boxplot for categorical data, Season vs sulfate_respiration\u001b[0m\u001b[22m\u001b[23m\u001b[24m\u001b[27m\u001b[28m\u001b[29m\u001b[39m\u001b[49m\u001b[0m\u001b[0m\u001b[22m\u001b[23m\u001b[24m\u001b[27m\u001b[28m\u001b[29m\u001b[39m\u001b[49m\n",
      "\u001b[0m2025-03-25 16:06:33.135636 INFO::Creating boxplot for categorical data, Season vs dark_hydrogen_oxidation\u001b[0m\u001b[22m\u001b[23m\u001b[24m\u001b[27m\u001b[28m\u001b[29m\u001b[39m\u001b[49m\u001b[0m\u001b[0m\u001b[22m\u001b[23m\u001b[24m\u001b[27m\u001b[28m\u001b[29m\u001b[39m\u001b[49m\n",
      "\u001b[0m2025-03-25 16:06:33.223265 INFO::Creating boxplot for categorical data, Season vs hydrocarbon_degradation\u001b[0m\u001b[22m\u001b[23m\u001b[24m\u001b[27m\u001b[28m\u001b[29m\u001b[39m\u001b[49m\u001b[0m\u001b[0m\u001b[22m\u001b[23m\u001b[24m\u001b[27m\u001b[28m\u001b[29m\u001b[39m\u001b[49m\n",
      "\u001b[0m2025-03-25 16:06:33.336815 INFO::Creating boxplot for categorical data, Season vs chemoheterotrophy\u001b[0m\u001b[22m\u001b[23m\u001b[24m\u001b[27m\u001b[28m\u001b[29m\u001b[39m\u001b[49m\u001b[0m\u001b[0m\u001b[22m\u001b[23m\u001b[24m\u001b[27m\u001b[28m\u001b[29m\u001b[39m\u001b[49m\n",
      "\u001b[0m2025-03-25 16:06:33.430386 INFO::Creating boxplot for categorical data, Season vs chitinolysis\u001b[0m\u001b[22m\u001b[23m\u001b[24m\u001b[27m\u001b[28m\u001b[29m\u001b[39m\u001b[49m\u001b[0m\u001b[0m\u001b[22m\u001b[23m\u001b[24m\u001b[27m\u001b[28m\u001b[29m\u001b[39m\u001b[49m\n",
      "\u001b[0m2025-03-25 16:06:33.524127 INFO::Creating boxplot for categorical data, Season vs cellulolysis\u001b[0m\u001b[22m\u001b[23m\u001b[24m\u001b[27m\u001b[28m\u001b[29m\u001b[39m\u001b[49m\u001b[0m\u001b[0m\u001b[22m\u001b[23m\u001b[24m\u001b[27m\u001b[28m\u001b[29m\u001b[39m\u001b[49m\n",
      "\u001b[0m2025-03-25 16:06:33.636027 INFO::Creating boxplot for categorical data, Season vs predatory_or_exoparasitic\u001b[0m\u001b[22m\u001b[23m\u001b[24m\u001b[27m\u001b[28m\u001b[29m\u001b[39m\u001b[49m\u001b[0m\u001b[0m\u001b[22m\u001b[23m\u001b[24m\u001b[27m\u001b[28m\u001b[29m\u001b[39m\u001b[49m\n"
     ]
    }
   ],
   "source": [
    "fit_data_coral = Maaslin2(\n",
    "    input_data = otu_table(ps_far_AH), \n",
    "    input_metadata = meta_far_AH,\n",
    "     min_abundance = 0.0,\n",
    "    analysis_method = \"LM\",\n",
    "     transform = \"LOG\",\n",
    "     max_significance=0.05,\n",
    "     cores=4,\n",
    "     random_effects = c('Site.Name', 'Species_sample'),\n",
    "    #normalization = \"TMM\",\n",
    "    output = \"/Users/stephanie.rosales/Documents/Tissueloss/EPA2/Maslin/coral/faprotax2/\", \n",
    "    correction = \"BH\",\n",
    "    fixed_effects = c(\"Site.Status\", \"Season\"),\n",
    "    reference = c(\"Site.Status,Vulnerable\"))\n",
    "     "
   ]
  },
  {
   "cell_type": "code",
   "execution_count": 19,
   "id": "43c322bb-cfc5-4d26-b573-1b6f2e095cb4",
   "metadata": {},
   "outputs": [],
   "source": [
    "meta_far_s <- as(sample_data(ps_far_s), \"data.frame\")"
   ]
  },
  {
   "cell_type": "code",
   "execution_count": 20,
   "id": "175240ff-d0d9-4c8e-a2af-4c1cb5be51e2",
   "metadata": {
    "scrolled": true
   },
   "outputs": [
    {
     "name": "stdout",
     "output_type": "stream",
     "text": [
      "\u001b[33m2025-03-25 16:06:34.886666 WARNING::Input is a matrix, passing through as.data.frame() .\u001b[39m\u001b[0m\u001b[0m\u001b[22m\u001b[23m\u001b[24m\u001b[27m\u001b[28m\u001b[29m\u001b[39m\u001b[49m\n",
      "[1] \"Warning: Deleting existing log file: /Users/stephanie.rosales/Documents/Tissueloss/EPA2/Maslin/sediment//faprotax/maaslin2.log\"\n",
      "\u001b[0m2025-03-25 16:06:35.000363 INFO::Writing function arguments to log file\u001b[0m\u001b[22m\u001b[23m\u001b[24m\u001b[27m\u001b[28m\u001b[29m\u001b[39m\u001b[49m\u001b[0m\u001b[0m\u001b[22m\u001b[23m\u001b[24m\u001b[27m\u001b[28m\u001b[29m\u001b[39m\u001b[49m\n",
      "\u001b[0m2025-03-25 16:06:35.004054 INFO::Verifying options selected are valid\u001b[0m\u001b[22m\u001b[23m\u001b[24m\u001b[27m\u001b[28m\u001b[29m\u001b[39m\u001b[49m\u001b[0m\u001b[0m\u001b[22m\u001b[23m\u001b[24m\u001b[27m\u001b[28m\u001b[29m\u001b[39m\u001b[49m\n",
      "\u001b[0m2025-03-25 16:06:35.004549 INFO::Determining format of input files\u001b[0m\u001b[22m\u001b[23m\u001b[24m\u001b[27m\u001b[28m\u001b[29m\u001b[39m\u001b[49m\u001b[0m\u001b[0m\u001b[22m\u001b[23m\u001b[24m\u001b[27m\u001b[28m\u001b[29m\u001b[39m\u001b[49m\n",
      "\u001b[0m2025-03-25 16:06:35.005036 INFO::Input format is data samples as columns and metadata samples as rows\u001b[0m\u001b[22m\u001b[23m\u001b[24m\u001b[27m\u001b[28m\u001b[29m\u001b[39m\u001b[49m\u001b[0m\u001b[0m\u001b[22m\u001b[23m\u001b[24m\u001b[27m\u001b[28m\u001b[29m\u001b[39m\u001b[49m\n",
      "\u001b[0m2025-03-25 16:06:35.007448 INFO::Formula for random effects: expr ~ (1 | Site.Name)\u001b[0m\u001b[22m\u001b[23m\u001b[24m\u001b[27m\u001b[28m\u001b[29m\u001b[39m\u001b[49m\u001b[0m\u001b[0m\u001b[22m\u001b[23m\u001b[24m\u001b[27m\u001b[28m\u001b[29m\u001b[39m\u001b[49m\n",
      "\u001b[0m2025-03-25 16:06:35.007963 INFO::Formula for fixed effects: expr ~  Site.Status + Season\u001b[0m\u001b[22m\u001b[23m\u001b[24m\u001b[27m\u001b[28m\u001b[29m\u001b[39m\u001b[49m\u001b[0m\u001b[0m\u001b[22m\u001b[23m\u001b[24m\u001b[27m\u001b[28m\u001b[29m\u001b[39m\u001b[49m\n",
      "\u001b[0m2025-03-25 16:06:35.008704 INFO::Filter data based on min abundance and min prevalence\u001b[0m\u001b[22m\u001b[23m\u001b[24m\u001b[27m\u001b[28m\u001b[29m\u001b[39m\u001b[49m\u001b[0m\u001b[0m\u001b[22m\u001b[23m\u001b[24m\u001b[27m\u001b[28m\u001b[29m\u001b[39m\u001b[49m\n",
      "\u001b[0m2025-03-25 16:06:35.009142 INFO::Total samples in data: 90\u001b[0m\u001b[22m\u001b[23m\u001b[24m\u001b[27m\u001b[28m\u001b[29m\u001b[39m\u001b[49m\u001b[0m\u001b[0m\u001b[22m\u001b[23m\u001b[24m\u001b[27m\u001b[28m\u001b[29m\u001b[39m\u001b[49m\n",
      "\u001b[0m2025-03-25 16:06:35.009568 INFO::Min samples required with min abundance for a feature not to be filtered: 9.000000\u001b[0m\u001b[22m\u001b[23m\u001b[24m\u001b[27m\u001b[28m\u001b[29m\u001b[39m\u001b[49m\u001b[0m\u001b[0m\u001b[22m\u001b[23m\u001b[24m\u001b[27m\u001b[28m\u001b[29m\u001b[39m\u001b[49m\n",
      "\u001b[0m2025-03-25 16:06:35.010538 INFO::Total filtered features: 0\u001b[0m\u001b[22m\u001b[23m\u001b[24m\u001b[27m\u001b[28m\u001b[29m\u001b[39m\u001b[49m\u001b[0m\u001b[0m\u001b[22m\u001b[23m\u001b[24m\u001b[27m\u001b[28m\u001b[29m\u001b[39m\u001b[49m\n",
      "\u001b[0m2025-03-25 16:06:35.011071 INFO::Filtered feature names from abundance and prevalence filtering:\u001b[0m\u001b[22m\u001b[23m\u001b[24m\u001b[27m\u001b[28m\u001b[29m\u001b[39m\u001b[49m\u001b[0m\u001b[0m\u001b[22m\u001b[23m\u001b[24m\u001b[27m\u001b[28m\u001b[29m\u001b[39m\u001b[49m\n",
      "\u001b[0m2025-03-25 16:06:35.013168 INFO::Total filtered features with variance filtering: 0\u001b[0m\u001b[22m\u001b[23m\u001b[24m\u001b[27m\u001b[28m\u001b[29m\u001b[39m\u001b[49m\u001b[0m\u001b[0m\u001b[22m\u001b[23m\u001b[24m\u001b[27m\u001b[28m\u001b[29m\u001b[39m\u001b[49m\n",
      "\u001b[0m2025-03-25 16:06:35.013633 INFO::Filtered feature names from variance filtering:\u001b[0m\u001b[22m\u001b[23m\u001b[24m\u001b[27m\u001b[28m\u001b[29m\u001b[39m\u001b[49m\u001b[0m\u001b[0m\u001b[22m\u001b[23m\u001b[24m\u001b[27m\u001b[28m\u001b[29m\u001b[39m\u001b[49m\n",
      "\u001b[0m2025-03-25 16:06:35.014058 INFO::Running selected normalization method: TSS\u001b[0m\u001b[22m\u001b[23m\u001b[24m\u001b[27m\u001b[28m\u001b[29m\u001b[39m\u001b[49m\u001b[0m\u001b[0m\u001b[22m\u001b[23m\u001b[24m\u001b[27m\u001b[28m\u001b[29m\u001b[39m\u001b[49m\n",
      "\u001b[0m2025-03-25 16:06:35.015632 INFO::Applying z-score to standardize continuous metadata\u001b[0m\u001b[22m\u001b[23m\u001b[24m\u001b[27m\u001b[28m\u001b[29m\u001b[39m\u001b[49m\u001b[0m\u001b[0m\u001b[22m\u001b[23m\u001b[24m\u001b[27m\u001b[28m\u001b[29m\u001b[39m\u001b[49m\n",
      "\u001b[0m2025-03-25 16:06:35.018386 INFO::Running selected transform method: LOG\u001b[0m\u001b[22m\u001b[23m\u001b[24m\u001b[27m\u001b[28m\u001b[29m\u001b[39m\u001b[49m\u001b[0m\u001b[0m\u001b[22m\u001b[23m\u001b[24m\u001b[27m\u001b[28m\u001b[29m\u001b[39m\u001b[49m\n",
      "\u001b[0m2025-03-25 16:06:35.019557 INFO::Running selected analysis method: LM\u001b[0m\u001b[22m\u001b[23m\u001b[24m\u001b[27m\u001b[28m\u001b[29m\u001b[39m\u001b[49m\u001b[0m\u001b[0m\u001b[22m\u001b[23m\u001b[24m\u001b[27m\u001b[28m\u001b[29m\u001b[39m\u001b[49m\n",
      "\u001b[0m2025-03-25 16:06:35.020218 INFO::Creating cluster of 4 R processes\u001b[0m\u001b[22m\u001b[23m\u001b[24m\u001b[27m\u001b[28m\u001b[29m\u001b[39m\u001b[49m\u001b[0m\u001b[0m\u001b[22m\u001b[23m\u001b[24m\u001b[27m\u001b[28m\u001b[29m\u001b[39m\u001b[49m\n",
      "\u001b[0m2025-03-25 16:06:37.595243 INFO::Counting total values for each feature\u001b[0m\u001b[22m\u001b[23m\u001b[24m\u001b[27m\u001b[28m\u001b[29m\u001b[39m\u001b[49m\u001b[0m\u001b[0m\u001b[22m\u001b[23m\u001b[24m\u001b[27m\u001b[28m\u001b[29m\u001b[39m\u001b[49m\n",
      "\u001b[0m2025-03-25 16:06:37.604947 INFO::Writing filtered data to file /Users/stephanie.rosales/Documents/Tissueloss/EPA2/Maslin/sediment//faprotax/features/filtered_data.tsv\u001b[0m\u001b[22m\u001b[23m\u001b[24m\u001b[27m\u001b[28m\u001b[29m\u001b[39m\u001b[49m\u001b[0m\u001b[0m\u001b[22m\u001b[23m\u001b[24m\u001b[27m\u001b[28m\u001b[29m\u001b[39m\u001b[49m\n",
      "\u001b[0m2025-03-25 16:06:37.613711 INFO::Writing filtered, normalized data to file /Users/stephanie.rosales/Documents/Tissueloss/EPA2/Maslin/sediment//faprotax/features/filtered_data_norm.tsv\u001b[0m\u001b[22m\u001b[23m\u001b[24m\u001b[27m\u001b[28m\u001b[29m\u001b[39m\u001b[49m\u001b[0m\u001b[0m\u001b[22m\u001b[23m\u001b[24m\u001b[27m\u001b[28m\u001b[29m\u001b[39m\u001b[49m\n",
      "\u001b[0m2025-03-25 16:06:37.621939 INFO::Writing filtered, normalized, transformed data to file /Users/stephanie.rosales/Documents/Tissueloss/EPA2/Maslin/sediment//faprotax/features/filtered_data_norm_transformed.tsv\u001b[0m\u001b[22m\u001b[23m\u001b[24m\u001b[27m\u001b[28m\u001b[29m\u001b[39m\u001b[49m\u001b[0m\u001b[0m\u001b[22m\u001b[23m\u001b[24m\u001b[27m\u001b[28m\u001b[29m\u001b[39m\u001b[49m\n",
      "\u001b[33m2025-03-25 16:06:37.631297 WARNING::Deleting existing residuals file: /Users/stephanie.rosales/Documents/Tissueloss/EPA2/Maslin/sediment//faprotax/fits/residuals.rds\u001b[39m\u001b[0m\u001b[0m\u001b[22m\u001b[23m\u001b[24m\u001b[27m\u001b[28m\u001b[29m\u001b[39m\u001b[49m\n",
      "\u001b[0m2025-03-25 16:06:37.633314 INFO::Writing residuals to file /Users/stephanie.rosales/Documents/Tissueloss/EPA2/Maslin/sediment//faprotax/fits/residuals.rds\u001b[0m\u001b[22m\u001b[23m\u001b[24m\u001b[27m\u001b[28m\u001b[29m\u001b[39m\u001b[49m\u001b[0m\u001b[0m\u001b[22m\u001b[23m\u001b[24m\u001b[27m\u001b[28m\u001b[29m\u001b[39m\u001b[49m\n",
      "\u001b[33m2025-03-25 16:06:37.634976 WARNING::Deleting existing fitted file: /Users/stephanie.rosales/Documents/Tissueloss/EPA2/Maslin/sediment//faprotax/fits/fitted.rds\u001b[39m\u001b[0m\u001b[0m\u001b[22m\u001b[23m\u001b[24m\u001b[27m\u001b[28m\u001b[29m\u001b[39m\u001b[49m\n",
      "\u001b[0m2025-03-25 16:06:37.635912 INFO::Writing fitted values to file /Users/stephanie.rosales/Documents/Tissueloss/EPA2/Maslin/sediment//faprotax/fits/fitted.rds\u001b[0m\u001b[22m\u001b[23m\u001b[24m\u001b[27m\u001b[28m\u001b[29m\u001b[39m\u001b[49m\u001b[0m\u001b[0m\u001b[22m\u001b[23m\u001b[24m\u001b[27m\u001b[28m\u001b[29m\u001b[39m\u001b[49m\n",
      "\u001b[33m2025-03-25 16:06:37.636962 WARNING::Deleting existing ranef file: /Users/stephanie.rosales/Documents/Tissueloss/EPA2/Maslin/sediment//faprotax/fits/ranef.rds\u001b[39m\u001b[0m\u001b[0m\u001b[22m\u001b[23m\u001b[24m\u001b[27m\u001b[28m\u001b[29m\u001b[39m\u001b[49m\n",
      "\u001b[0m2025-03-25 16:06:37.637868 INFO::Writing extracted random effects to file /Users/stephanie.rosales/Documents/Tissueloss/EPA2/Maslin/sediment//faprotax/fits/ranef.rds\u001b[0m\u001b[22m\u001b[23m\u001b[24m\u001b[27m\u001b[28m\u001b[29m\u001b[39m\u001b[49m\u001b[0m\u001b[0m\u001b[22m\u001b[23m\u001b[24m\u001b[27m\u001b[28m\u001b[29m\u001b[39m\u001b[49m\n",
      "\u001b[0m2025-03-25 16:06:37.638828 INFO::Writing all results to file (ordered by increasing q-values): /Users/stephanie.rosales/Documents/Tissueloss/EPA2/Maslin/sediment//faprotax/all_results.tsv\u001b[0m\u001b[22m\u001b[23m\u001b[24m\u001b[27m\u001b[28m\u001b[29m\u001b[39m\u001b[49m\u001b[0m\u001b[0m\u001b[22m\u001b[23m\u001b[24m\u001b[27m\u001b[28m\u001b[29m\u001b[39m\u001b[49m\n",
      "\u001b[0m2025-03-25 16:06:37.641839 INFO::Writing the significant results (those which are less than or equal to the threshold of 0.050000 ) to file (ordered by increasing q-values): /Users/stephanie.rosales/Documents/Tissueloss/EPA2/Maslin/sediment//faprotax/significant_results.tsv\u001b[0m\u001b[22m\u001b[23m\u001b[24m\u001b[27m\u001b[28m\u001b[29m\u001b[39m\u001b[49m\u001b[0m\u001b[0m\u001b[22m\u001b[23m\u001b[24m\u001b[27m\u001b[28m\u001b[29m\u001b[39m\u001b[49m\n",
      "\u001b[0m2025-03-25 16:06:37.643701 INFO::Writing heatmap of significant results to file: /Users/stephanie.rosales/Documents/Tissueloss/EPA2/Maslin/sediment//faprotax/heatmap.pdf\u001b[0m\u001b[22m\u001b[23m\u001b[24m\u001b[27m\u001b[28m\u001b[29m\u001b[39m\u001b[49m\u001b[0m\u001b[0m\u001b[22m\u001b[23m\u001b[24m\u001b[27m\u001b[28m\u001b[29m\u001b[39m\u001b[49m\n",
      "\u001b[0m2025-03-25 16:06:37.817705 INFO::Writing association plots (one for each significant association) to output folder: /Users/stephanie.rosales/Documents/Tissueloss/EPA2/Maslin/sediment//faprotax\u001b[0m\u001b[22m\u001b[23m\u001b[24m\u001b[27m\u001b[28m\u001b[29m\u001b[39m\u001b[49m\u001b[0m\u001b[0m\u001b[22m\u001b[23m\u001b[24m\u001b[27m\u001b[28m\u001b[29m\u001b[39m\u001b[49m\n",
      "\u001b[0m2025-03-25 16:06:37.821352 INFO::Plotting associations from most to least significant, grouped by metadata\u001b[0m\u001b[22m\u001b[23m\u001b[24m\u001b[27m\u001b[28m\u001b[29m\u001b[39m\u001b[49m\u001b[0m\u001b[0m\u001b[22m\u001b[23m\u001b[24m\u001b[27m\u001b[28m\u001b[29m\u001b[39m\u001b[49m\n",
      "\u001b[0m2025-03-25 16:06:37.82216 INFO::Plotting data for metadata number 1, Site.Status\u001b[0m\u001b[22m\u001b[23m\u001b[24m\u001b[27m\u001b[28m\u001b[29m\u001b[39m\u001b[49m\u001b[0m\u001b[0m\u001b[22m\u001b[23m\u001b[24m\u001b[27m\u001b[28m\u001b[29m\u001b[39m\u001b[49m\n",
      "\u001b[0m2025-03-25 16:06:37.823638 INFO::Creating boxplot for categorical data, Site.Status vs intracellular_parasites\u001b[0m\u001b[22m\u001b[23m\u001b[24m\u001b[27m\u001b[28m\u001b[29m\u001b[39m\u001b[49m\u001b[0m\u001b[0m\u001b[22m\u001b[23m\u001b[24m\u001b[27m\u001b[28m\u001b[29m\u001b[39m\u001b[49m\n",
      "\u001b[0m2025-03-25 16:06:37.945727 INFO::Creating boxplot for categorical data, Site.Status vs photosynthetic_cyanobacteria\u001b[0m\u001b[22m\u001b[23m\u001b[24m\u001b[27m\u001b[28m\u001b[29m\u001b[39m\u001b[49m\u001b[0m\u001b[0m\u001b[22m\u001b[23m\u001b[24m\u001b[27m\u001b[28m\u001b[29m\u001b[39m\u001b[49m\n",
      "\u001b[0m2025-03-25 16:06:38.056041 INFO::Creating boxplot for categorical data, Site.Status vs oxygenic_photoautotrophy\u001b[0m\u001b[22m\u001b[23m\u001b[24m\u001b[27m\u001b[28m\u001b[29m\u001b[39m\u001b[49m\u001b[0m\u001b[0m\u001b[22m\u001b[23m\u001b[24m\u001b[27m\u001b[28m\u001b[29m\u001b[39m\u001b[49m\n",
      "\u001b[0m2025-03-25 16:06:38.168774 INFO::Creating boxplot for categorical data, Site.Status vs photoautotrophy\u001b[0m\u001b[22m\u001b[23m\u001b[24m\u001b[27m\u001b[28m\u001b[29m\u001b[39m\u001b[49m\u001b[0m\u001b[0m\u001b[22m\u001b[23m\u001b[24m\u001b[27m\u001b[28m\u001b[29m\u001b[39m\u001b[49m\n",
      "\u001b[0m2025-03-25 16:06:38.296418 INFO::Creating boxplot for categorical data, Site.Status vs phototrophy\u001b[0m\u001b[22m\u001b[23m\u001b[24m\u001b[27m\u001b[28m\u001b[29m\u001b[39m\u001b[49m\u001b[0m\u001b[0m\u001b[22m\u001b[23m\u001b[24m\u001b[27m\u001b[28m\u001b[29m\u001b[39m\u001b[49m\n",
      "\u001b[0m2025-03-25 16:06:38.422375 INFO::Creating boxplot for categorical data, Site.Status vs aliphatic_non_methane_hydrocarbon_degradation\u001b[0m\u001b[22m\u001b[23m\u001b[24m\u001b[27m\u001b[28m\u001b[29m\u001b[39m\u001b[49m\u001b[0m\u001b[0m\u001b[22m\u001b[23m\u001b[24m\u001b[27m\u001b[28m\u001b[29m\u001b[39m\u001b[49m\n",
      "\u001b[0m2025-03-25 16:06:38.519039 INFO::Creating boxplot for categorical data, Site.Status vs hydrocarbon_degradation\u001b[0m\u001b[22m\u001b[23m\u001b[24m\u001b[27m\u001b[28m\u001b[29m\u001b[39m\u001b[49m\u001b[0m\u001b[0m\u001b[22m\u001b[23m\u001b[24m\u001b[27m\u001b[28m\u001b[29m\u001b[39m\u001b[49m\n",
      "\u001b[0m2025-03-25 16:06:38.643402 INFO::Creating boxplot for categorical data, Site.Status vs aerobic_nitrite_oxidation\u001b[0m\u001b[22m\u001b[23m\u001b[24m\u001b[27m\u001b[28m\u001b[29m\u001b[39m\u001b[49m\u001b[0m\u001b[0m\u001b[22m\u001b[23m\u001b[24m\u001b[27m\u001b[28m\u001b[29m\u001b[39m\u001b[49m\n",
      "\u001b[0m2025-03-25 16:06:38.74728 INFO::Creating boxplot for categorical data, Site.Status vs aliphatic_non_methane_hydrocarbon_degradation\u001b[0m\u001b[22m\u001b[23m\u001b[24m\u001b[27m\u001b[28m\u001b[29m\u001b[39m\u001b[49m\u001b[0m\u001b[0m\u001b[22m\u001b[23m\u001b[24m\u001b[27m\u001b[28m\u001b[29m\u001b[39m\u001b[49m\n",
      "\u001b[0m2025-03-25 16:06:38.873393 INFO::Creating boxplot for categorical data, Site.Status vs hydrocarbon_degradation\u001b[0m\u001b[22m\u001b[23m\u001b[24m\u001b[27m\u001b[28m\u001b[29m\u001b[39m\u001b[49m\u001b[0m\u001b[0m\u001b[22m\u001b[23m\u001b[24m\u001b[27m\u001b[28m\u001b[29m\u001b[39m\u001b[49m\n",
      "\u001b[0m2025-03-25 16:06:38.970528 INFO::Creating boxplot for categorical data, Site.Status vs nitrogen_fixation\u001b[0m\u001b[22m\u001b[23m\u001b[24m\u001b[27m\u001b[28m\u001b[29m\u001b[39m\u001b[49m\u001b[0m\u001b[0m\u001b[22m\u001b[23m\u001b[24m\u001b[27m\u001b[28m\u001b[29m\u001b[39m\u001b[49m\n",
      "\u001b[0m2025-03-25 16:06:39.087583 INFO::Creating boxplot for categorical data, Site.Status vs dark_thiosulfate_oxidation\u001b[0m\u001b[22m\u001b[23m\u001b[24m\u001b[27m\u001b[28m\u001b[29m\u001b[39m\u001b[49m\u001b[0m\u001b[0m\u001b[22m\u001b[23m\u001b[24m\u001b[27m\u001b[28m\u001b[29m\u001b[39m\u001b[49m\n",
      "\u001b[0m2025-03-25 16:06:39.181505 INFO::Creating boxplot for categorical data, Site.Status vs dark_oxidation_of_sulfur_compounds\u001b[0m\u001b[22m\u001b[23m\u001b[24m\u001b[27m\u001b[28m\u001b[29m\u001b[39m\u001b[49m\u001b[0m\u001b[0m\u001b[22m\u001b[23m\u001b[24m\u001b[27m\u001b[28m\u001b[29m\u001b[39m\u001b[49m\n",
      "\u001b[0m2025-03-25 16:06:39.29736 INFO::Creating boxplot for categorical data, Site.Status vs dark_hydrogen_oxidation\u001b[0m\u001b[22m\u001b[23m\u001b[24m\u001b[27m\u001b[28m\u001b[29m\u001b[39m\u001b[49m\u001b[0m\u001b[0m\u001b[22m\u001b[23m\u001b[24m\u001b[27m\u001b[28m\u001b[29m\u001b[39m\u001b[49m\n",
      "\u001b[0m2025-03-25 16:06:39.39568 INFO::Creating boxplot for categorical data, Site.Status vs sulfate_respiration\u001b[0m\u001b[22m\u001b[23m\u001b[24m\u001b[27m\u001b[28m\u001b[29m\u001b[39m\u001b[49m\u001b[0m\u001b[0m\u001b[22m\u001b[23m\u001b[24m\u001b[27m\u001b[28m\u001b[29m\u001b[39m\u001b[49m\n",
      "\u001b[0m2025-03-25 16:06:39.498296 INFO::Creating boxplot for categorical data, Site.Status vs respiration_of_sulfur_compounds\u001b[0m\u001b[22m\u001b[23m\u001b[24m\u001b[27m\u001b[28m\u001b[29m\u001b[39m\u001b[49m\u001b[0m\u001b[0m\u001b[22m\u001b[23m\u001b[24m\u001b[27m\u001b[28m\u001b[29m\u001b[39m\u001b[49m\n",
      "\u001b[0m2025-03-25 16:06:39.617442 INFO::Creating boxplot for categorical data, Site.Status vs aerobic_nitrite_oxidation\u001b[0m\u001b[22m\u001b[23m\u001b[24m\u001b[27m\u001b[28m\u001b[29m\u001b[39m\u001b[49m\u001b[0m\u001b[0m\u001b[22m\u001b[23m\u001b[24m\u001b[27m\u001b[28m\u001b[29m\u001b[39m\u001b[49m\n",
      "\u001b[0m2025-03-25 16:06:39.718728 INFO::Creating boxplot for categorical data, Site.Status vs chemoheterotrophy\u001b[0m\u001b[22m\u001b[23m\u001b[24m\u001b[27m\u001b[28m\u001b[29m\u001b[39m\u001b[49m\u001b[0m\u001b[0m\u001b[22m\u001b[23m\u001b[24m\u001b[27m\u001b[28m\u001b[29m\u001b[39m\u001b[49m\n",
      "\u001b[0m2025-03-25 16:06:39.838469 INFO::Creating boxplot for categorical data, Site.Status vs photosynthetic_cyanobacteria\u001b[0m\u001b[22m\u001b[23m\u001b[24m\u001b[27m\u001b[28m\u001b[29m\u001b[39m\u001b[49m\u001b[0m\u001b[0m\u001b[22m\u001b[23m\u001b[24m\u001b[27m\u001b[28m\u001b[29m\u001b[39m\u001b[49m\n",
      "\u001b[0m2025-03-25 16:06:39.939545 INFO::Creating boxplot for categorical data, Site.Status vs oxygenic_photoautotrophy\u001b[0m\u001b[22m\u001b[23m\u001b[24m\u001b[27m\u001b[28m\u001b[29m\u001b[39m\u001b[49m\u001b[0m\u001b[0m\u001b[22m\u001b[23m\u001b[24m\u001b[27m\u001b[28m\u001b[29m\u001b[39m\u001b[49m\n",
      "\u001b[0m2025-03-25 16:06:40.057669 INFO::Creating boxplot for categorical data, Site.Status vs photoautotrophy\u001b[0m\u001b[22m\u001b[23m\u001b[24m\u001b[27m\u001b[28m\u001b[29m\u001b[39m\u001b[49m\u001b[0m\u001b[0m\u001b[22m\u001b[23m\u001b[24m\u001b[27m\u001b[28m\u001b[29m\u001b[39m\u001b[49m\n",
      "\u001b[0m2025-03-25 16:06:40.152066 INFO::Creating boxplot for categorical data, Site.Status vs phototrophy\u001b[0m\u001b[22m\u001b[23m\u001b[24m\u001b[27m\u001b[28m\u001b[29m\u001b[39m\u001b[49m\u001b[0m\u001b[0m\u001b[22m\u001b[23m\u001b[24m\u001b[27m\u001b[28m\u001b[29m\u001b[39m\u001b[49m\n",
      "\u001b[0m2025-03-25 16:06:40.274424 INFO::Creating boxplot for categorical data, Site.Status vs anaerobic_chemoheterotrophy\u001b[0m\u001b[22m\u001b[23m\u001b[24m\u001b[27m\u001b[28m\u001b[29m\u001b[39m\u001b[49m\u001b[0m\u001b[0m\u001b[22m\u001b[23m\u001b[24m\u001b[27m\u001b[28m\u001b[29m\u001b[39m\u001b[49m\n",
      "\u001b[0m2025-03-25 16:06:40.37793 INFO::Creating boxplot for categorical data, Site.Status vs nitrogen_fixation\u001b[0m\u001b[22m\u001b[23m\u001b[24m\u001b[27m\u001b[28m\u001b[29m\u001b[39m\u001b[49m\u001b[0m\u001b[0m\u001b[22m\u001b[23m\u001b[24m\u001b[27m\u001b[28m\u001b[29m\u001b[39m\u001b[49m\n",
      "\u001b[0m2025-03-25 16:06:40.521639 INFO::Creating boxplot for categorical data, Site.Status vs dark_thiosulfate_oxidation\u001b[0m\u001b[22m\u001b[23m\u001b[24m\u001b[27m\u001b[28m\u001b[29m\u001b[39m\u001b[49m\u001b[0m\u001b[0m\u001b[22m\u001b[23m\u001b[24m\u001b[27m\u001b[28m\u001b[29m\u001b[39m\u001b[49m\n",
      "\u001b[0m2025-03-25 16:06:40.620165 INFO::Creating boxplot for categorical data, Site.Status vs dark_oxidation_of_sulfur_compounds\u001b[0m\u001b[22m\u001b[23m\u001b[24m\u001b[27m\u001b[28m\u001b[29m\u001b[39m\u001b[49m\u001b[0m\u001b[0m\u001b[22m\u001b[23m\u001b[24m\u001b[27m\u001b[28m\u001b[29m\u001b[39m\u001b[49m\n",
      "\u001b[0m2025-03-25 16:06:40.745567 INFO::Creating boxplot for categorical data, Site.Status vs sulfite_respiration\u001b[0m\u001b[22m\u001b[23m\u001b[24m\u001b[27m\u001b[28m\u001b[29m\u001b[39m\u001b[49m\u001b[0m\u001b[0m\u001b[22m\u001b[23m\u001b[24m\u001b[27m\u001b[28m\u001b[29m\u001b[39m\u001b[49m\n",
      "\u001b[0m2025-03-25 16:06:40.840106 INFO::Creating boxplot for categorical data, Site.Status vs nitrification\u001b[0m\u001b[22m\u001b[23m\u001b[24m\u001b[27m\u001b[28m\u001b[29m\u001b[39m\u001b[49m\u001b[0m\u001b[0m\u001b[22m\u001b[23m\u001b[24m\u001b[27m\u001b[28m\u001b[29m\u001b[39m\u001b[49m\n",
      "\u001b[0m2025-03-25 16:06:40.954734 INFO::Creating boxplot for categorical data, Site.Status vs dark_hydrogen_oxidation\u001b[0m\u001b[22m\u001b[23m\u001b[24m\u001b[27m\u001b[28m\u001b[29m\u001b[39m\u001b[49m\u001b[0m\u001b[0m\u001b[22m\u001b[23m\u001b[24m\u001b[27m\u001b[28m\u001b[29m\u001b[39m\u001b[49m\n",
      "\u001b[0m2025-03-25 16:06:41.056756 INFO::Creating boxplot for categorical data, Site.Status vs aerobic_ammonia_oxidation\u001b[0m\u001b[22m\u001b[23m\u001b[24m\u001b[27m\u001b[28m\u001b[29m\u001b[39m\u001b[49m\u001b[0m\u001b[0m\u001b[22m\u001b[23m\u001b[24m\u001b[27m\u001b[28m\u001b[29m\u001b[39m\u001b[49m\n",
      "\u001b[0m2025-03-25 16:06:41.153147 INFO::Creating boxplot for categorical data, Site.Status vs respiration_of_sulfur_compounds\u001b[0m\u001b[22m\u001b[23m\u001b[24m\u001b[27m\u001b[28m\u001b[29m\u001b[39m\u001b[49m\u001b[0m\u001b[0m\u001b[22m\u001b[23m\u001b[24m\u001b[27m\u001b[28m\u001b[29m\u001b[39m\u001b[49m\n",
      "\u001b[0m2025-03-25 16:06:41.275128 INFO::Creating boxplot for categorical data, Site.Status vs sulfate_respiration\u001b[0m\u001b[22m\u001b[23m\u001b[24m\u001b[27m\u001b[28m\u001b[29m\u001b[39m\u001b[49m\u001b[0m\u001b[0m\u001b[22m\u001b[23m\u001b[24m\u001b[27m\u001b[28m\u001b[29m\u001b[39m\u001b[49m\n",
      "\u001b[0m2025-03-25 16:06:41.373246 INFO::Creating boxplot for categorical data, Site.Status vs thiosulfate_respiration\u001b[0m\u001b[22m\u001b[23m\u001b[24m\u001b[27m\u001b[28m\u001b[29m\u001b[39m\u001b[49m\u001b[0m\u001b[0m\u001b[22m\u001b[23m\u001b[24m\u001b[27m\u001b[28m\u001b[29m\u001b[39m\u001b[49m\n",
      "\u001b[0m2025-03-25 16:06:41.496843 INFO::Creating boxplot for categorical data, Site.Status vs manganese_respiration\u001b[0m\u001b[22m\u001b[23m\u001b[24m\u001b[27m\u001b[28m\u001b[29m\u001b[39m\u001b[49m\u001b[0m\u001b[0m\u001b[22m\u001b[23m\u001b[24m\u001b[27m\u001b[28m\u001b[29m\u001b[39m\u001b[49m\n",
      "\u001b[0m2025-03-25 16:06:41.593081 INFO::Creating boxplot for categorical data, Site.Status vs iron_respiration\u001b[0m\u001b[22m\u001b[23m\u001b[24m\u001b[27m\u001b[28m\u001b[29m\u001b[39m\u001b[49m\u001b[0m\u001b[0m\u001b[22m\u001b[23m\u001b[24m\u001b[27m\u001b[28m\u001b[29m\u001b[39m\u001b[49m\n",
      "\u001b[0m2025-03-25 16:06:41.713526 INFO::Creating boxplot for categorical data, Site.Status vs ureolysis\u001b[0m\u001b[22m\u001b[23m\u001b[24m\u001b[27m\u001b[28m\u001b[29m\u001b[39m\u001b[49m\u001b[0m\u001b[0m\u001b[22m\u001b[23m\u001b[24m\u001b[27m\u001b[28m\u001b[29m\u001b[39m\u001b[49m\n",
      "\u001b[0m2025-03-25 16:06:41.808867 INFO::Creating boxplot for categorical data, Site.Status vs predatory_or_exoparasitic\u001b[0m\u001b[22m\u001b[23m\u001b[24m\u001b[27m\u001b[28m\u001b[29m\u001b[39m\u001b[49m\u001b[0m\u001b[0m\u001b[22m\u001b[23m\u001b[24m\u001b[27m\u001b[28m\u001b[29m\u001b[39m\u001b[49m\n",
      "\u001b[0m2025-03-25 16:06:41.933957 INFO::Creating boxplot for categorical data, Site.Status vs nitrification\u001b[0m\u001b[22m\u001b[23m\u001b[24m\u001b[27m\u001b[28m\u001b[29m\u001b[39m\u001b[49m\u001b[0m\u001b[0m\u001b[22m\u001b[23m\u001b[24m\u001b[27m\u001b[28m\u001b[29m\u001b[39m\u001b[49m\n",
      "\u001b[0m2025-03-25 16:06:42.032817 INFO::Creating boxplot for categorical data, Site.Status vs chitinolysis\u001b[0m\u001b[22m\u001b[23m\u001b[24m\u001b[27m\u001b[28m\u001b[29m\u001b[39m\u001b[49m\u001b[0m\u001b[0m\u001b[22m\u001b[23m\u001b[24m\u001b[27m\u001b[28m\u001b[29m\u001b[39m\u001b[49m\n",
      "\u001b[0m2025-03-25 16:06:42.128414 INFO::Creating boxplot for categorical data, Site.Status vs xylanolysis\u001b[0m\u001b[22m\u001b[23m\u001b[24m\u001b[27m\u001b[28m\u001b[29m\u001b[39m\u001b[49m\u001b[0m\u001b[0m\u001b[22m\u001b[23m\u001b[24m\u001b[27m\u001b[28m\u001b[29m\u001b[39m\u001b[49m\n",
      "\u001b[0m2025-03-25 16:06:42.244416 INFO::Creating boxplot for categorical data, Site.Status vs aerobic_ammonia_oxidation\u001b[0m\u001b[22m\u001b[23m\u001b[24m\u001b[27m\u001b[28m\u001b[29m\u001b[39m\u001b[49m\u001b[0m\u001b[0m\u001b[22m\u001b[23m\u001b[24m\u001b[27m\u001b[28m\u001b[29m\u001b[39m\u001b[49m\n",
      "\u001b[0m2025-03-25 16:06:42.347284 INFO::Creating boxplot for categorical data, Site.Status vs manganese_respiration\u001b[0m\u001b[22m\u001b[23m\u001b[24m\u001b[27m\u001b[28m\u001b[29m\u001b[39m\u001b[49m\u001b[0m\u001b[0m\u001b[22m\u001b[23m\u001b[24m\u001b[27m\u001b[28m\u001b[29m\u001b[39m\u001b[49m\n",
      "\u001b[0m2025-03-25 16:06:42.476733 INFO::Creating boxplot for categorical data, Site.Status vs iron_respiration\u001b[0m\u001b[22m\u001b[23m\u001b[24m\u001b[27m\u001b[28m\u001b[29m\u001b[39m\u001b[49m\u001b[0m\u001b[0m\u001b[22m\u001b[23m\u001b[24m\u001b[27m\u001b[28m\u001b[29m\u001b[39m\u001b[49m\n",
      "\u001b[0m2025-03-25 16:06:42.577351 INFO::Creating boxplot for categorical data, Site.Status vs fermentation\u001b[0m\u001b[22m\u001b[23m\u001b[24m\u001b[27m\u001b[28m\u001b[29m\u001b[39m\u001b[49m\u001b[0m\u001b[0m\u001b[22m\u001b[23m\u001b[24m\u001b[27m\u001b[28m\u001b[29m\u001b[39m\u001b[49m\n",
      "\u001b[0m2025-03-25 16:06:42.69859 INFO::Creating boxplot for categorical data, Site.Status vs predatory_or_exoparasitic\u001b[0m\u001b[22m\u001b[23m\u001b[24m\u001b[27m\u001b[28m\u001b[29m\u001b[39m\u001b[49m\u001b[0m\u001b[0m\u001b[22m\u001b[23m\u001b[24m\u001b[27m\u001b[28m\u001b[29m\u001b[39m\u001b[49m\n",
      "\u001b[0m2025-03-25 16:06:42.79667 INFO::Creating boxplot for categorical data, Site.Status vs anaerobic_chemoheterotrophy\u001b[0m\u001b[22m\u001b[23m\u001b[24m\u001b[27m\u001b[28m\u001b[29m\u001b[39m\u001b[49m\u001b[0m\u001b[0m\u001b[22m\u001b[23m\u001b[24m\u001b[27m\u001b[28m\u001b[29m\u001b[39m\u001b[49m\n",
      "\u001b[0m2025-03-25 16:06:42.917018 INFO::Creating boxplot for categorical data, Site.Status vs methanol_oxidation\u001b[0m\u001b[22m\u001b[23m\u001b[24m\u001b[27m\u001b[28m\u001b[29m\u001b[39m\u001b[49m\u001b[0m\u001b[0m\u001b[22m\u001b[23m\u001b[24m\u001b[27m\u001b[28m\u001b[29m\u001b[39m\u001b[49m\n",
      "\u001b[0m2025-03-25 16:06:43.009954 INFO::Creating boxplot for categorical data, Site.Status vs methylotrophy\u001b[0m\u001b[22m\u001b[23m\u001b[24m\u001b[27m\u001b[28m\u001b[29m\u001b[39m\u001b[49m\u001b[0m\u001b[0m\u001b[22m\u001b[23m\u001b[24m\u001b[27m\u001b[28m\u001b[29m\u001b[39m\u001b[49m\n",
      "\u001b[0m2025-03-25 16:06:43.128132 INFO::Creating boxplot for categorical data, Site.Status vs nitrate_reduction\u001b[0m\u001b[22m\u001b[23m\u001b[24m\u001b[27m\u001b[28m\u001b[29m\u001b[39m\u001b[49m\u001b[0m\u001b[0m\u001b[22m\u001b[23m\u001b[24m\u001b[27m\u001b[28m\u001b[29m\u001b[39m\u001b[49m\n",
      "\u001b[0m2025-03-25 16:06:43.22406 INFO::Creating boxplot for categorical data, Site.Status vs nitrate_respiration\u001b[0m\u001b[22m\u001b[23m\u001b[24m\u001b[27m\u001b[28m\u001b[29m\u001b[39m\u001b[49m\u001b[0m\u001b[0m\u001b[22m\u001b[23m\u001b[24m\u001b[27m\u001b[28m\u001b[29m\u001b[39m\u001b[49m\n",
      "\u001b[0m2025-03-25 16:06:43.342447 INFO::Creating boxplot for categorical data, Site.Status vs nitrogen_respiration\u001b[0m\u001b[22m\u001b[23m\u001b[24m\u001b[27m\u001b[28m\u001b[29m\u001b[39m\u001b[49m\u001b[0m\u001b[0m\u001b[22m\u001b[23m\u001b[24m\u001b[27m\u001b[28m\u001b[29m\u001b[39m\u001b[49m\n",
      "\u001b[0m2025-03-25 16:06:43.437122 INFO::Creating boxplot for categorical data, Site.Status vs intracellular_parasites\u001b[0m\u001b[22m\u001b[23m\u001b[24m\u001b[27m\u001b[28m\u001b[29m\u001b[39m\u001b[49m\u001b[0m\u001b[0m\u001b[22m\u001b[23m\u001b[24m\u001b[27m\u001b[28m\u001b[29m\u001b[39m\u001b[49m\n",
      "\u001b[0m2025-03-25 16:06:43.551791 INFO::Creating boxplot for categorical data, Site.Status vs methanol_oxidation\u001b[0m\u001b[22m\u001b[23m\u001b[24m\u001b[27m\u001b[28m\u001b[29m\u001b[39m\u001b[49m\u001b[0m\u001b[0m\u001b[22m\u001b[23m\u001b[24m\u001b[27m\u001b[28m\u001b[29m\u001b[39m\u001b[49m\n",
      "\u001b[0m2025-03-25 16:06:43.653384 INFO::Creating boxplot for categorical data, Site.Status vs methylotrophy\u001b[0m\u001b[22m\u001b[23m\u001b[24m\u001b[27m\u001b[28m\u001b[29m\u001b[39m\u001b[49m\u001b[0m\u001b[0m\u001b[22m\u001b[23m\u001b[24m\u001b[27m\u001b[28m\u001b[29m\u001b[39m\u001b[49m\n",
      "\u001b[0m2025-03-25 16:06:43.748322 INFO::Creating boxplot for categorical data, Site.Status vs chemoheterotrophy\u001b[0m\u001b[22m\u001b[23m\u001b[24m\u001b[27m\u001b[28m\u001b[29m\u001b[39m\u001b[49m\u001b[0m\u001b[0m\u001b[22m\u001b[23m\u001b[24m\u001b[27m\u001b[28m\u001b[29m\u001b[39m\u001b[49m\n",
      "\u001b[0m2025-03-25 16:06:43.865271 INFO::Creating boxplot for categorical data, Site.Status vs nitrate_respiration\u001b[0m\u001b[22m\u001b[23m\u001b[24m\u001b[27m\u001b[28m\u001b[29m\u001b[39m\u001b[49m\u001b[0m\u001b[0m\u001b[22m\u001b[23m\u001b[24m\u001b[27m\u001b[28m\u001b[29m\u001b[39m\u001b[49m\n",
      "\u001b[0m2025-03-25 16:06:43.958086 INFO::Creating boxplot for categorical data, Site.Status vs nitrogen_respiration\u001b[0m\u001b[22m\u001b[23m\u001b[24m\u001b[27m\u001b[28m\u001b[29m\u001b[39m\u001b[49m\u001b[0m\u001b[0m\u001b[22m\u001b[23m\u001b[24m\u001b[27m\u001b[28m\u001b[29m\u001b[39m\u001b[49m\n",
      "\u001b[0m2025-03-25 16:06:44.076416 INFO::Creating boxplot for categorical data, Site.Status vs aerobic_chemoheterotrophy\u001b[0m\u001b[22m\u001b[23m\u001b[24m\u001b[27m\u001b[28m\u001b[29m\u001b[39m\u001b[49m\u001b[0m\u001b[0m\u001b[22m\u001b[23m\u001b[24m\u001b[27m\u001b[28m\u001b[29m\u001b[39m\u001b[49m\n"
     ]
    }
   ],
   "source": [
    "fit_data_s = Maaslin2(\n",
    "    input_data = otu_table(ps_far_s), \n",
    "    input_metadata = meta_far_s,\n",
    "     min_abundance = 0.0,\n",
    "    analysis_method = \"LM\",\n",
    "     transform = \"LOG\",\n",
    "     max_significance=0.05,\n",
    "     cores=4,\n",
    "     random_effects = c('Site.Name'),\n",
    "    #normalization = \"TMM\",\n",
    "    output = \"/Users/stephanie.rosales/Documents/Tissueloss/EPA2/Maslin/sediment//faprotax\", \n",
    "    correction = \"BH\",\n",
    "    fixed_effects = c(\"Site.Status\", \"Season\"),\n",
    "    reference = c(\"Site.Status,Vulnerable\"))\n",
    "     "
   ]
  },
  {
   "cell_type": "code",
   "execution_count": 21,
   "id": "fedaf878-e76e-4725-a912-8a180c8bb49a",
   "metadata": {},
   "outputs": [],
   "source": [
    "meta_far_w <- as(sample_data(ps_far_w), \"data.frame\")"
   ]
  },
  {
   "cell_type": "code",
   "execution_count": 28,
   "id": "fd05f5bb-b192-4ba8-8a5e-78d33f691c0b",
   "metadata": {
    "scrolled": true
   },
   "outputs": [
    {
     "name": "stdout",
     "output_type": "stream",
     "text": [
      "\u001b[33m2025-03-25 16:11:42.374799 WARNING::Input is a matrix, passing through as.data.frame() .\u001b[39m\u001b[0m\u001b[0m\u001b[22m\u001b[23m\u001b[24m\u001b[27m\u001b[28m\u001b[29m\u001b[39m\u001b[49m\n",
      "[1] \"Warning: Deleting existing log file: /Users/stephanie.rosales/Documents/Tissueloss/EPA2/Maslin/water//faprotax/maaslin2.log\"\n",
      "\u001b[0m2025-03-25 16:11:42.48656 INFO::Writing function arguments to log file\u001b[0m\u001b[22m\u001b[23m\u001b[24m\u001b[27m\u001b[28m\u001b[29m\u001b[39m\u001b[49m\u001b[0m\u001b[0m\u001b[22m\u001b[23m\u001b[24m\u001b[27m\u001b[28m\u001b[29m\u001b[39m\u001b[49m\n",
      "\u001b[0m2025-03-25 16:11:42.490581 INFO::Verifying options selected are valid\u001b[0m\u001b[22m\u001b[23m\u001b[24m\u001b[27m\u001b[28m\u001b[29m\u001b[39m\u001b[49m\u001b[0m\u001b[0m\u001b[22m\u001b[23m\u001b[24m\u001b[27m\u001b[28m\u001b[29m\u001b[39m\u001b[49m\n",
      "\u001b[0m2025-03-25 16:11:42.491112 INFO::Determining format of input files\u001b[0m\u001b[22m\u001b[23m\u001b[24m\u001b[27m\u001b[28m\u001b[29m\u001b[39m\u001b[49m\u001b[0m\u001b[0m\u001b[22m\u001b[23m\u001b[24m\u001b[27m\u001b[28m\u001b[29m\u001b[39m\u001b[49m\n",
      "\u001b[0m2025-03-25 16:11:42.49163 INFO::Input format is data samples as columns and metadata samples as rows\u001b[0m\u001b[22m\u001b[23m\u001b[24m\u001b[27m\u001b[28m\u001b[29m\u001b[39m\u001b[49m\u001b[0m\u001b[0m\u001b[22m\u001b[23m\u001b[24m\u001b[27m\u001b[28m\u001b[29m\u001b[39m\u001b[49m\n",
      "\u001b[0m2025-03-25 16:11:42.494259 INFO::Formula for random effects: expr ~ (1 | Site.Name)\u001b[0m\u001b[22m\u001b[23m\u001b[24m\u001b[27m\u001b[28m\u001b[29m\u001b[39m\u001b[49m\u001b[0m\u001b[0m\u001b[22m\u001b[23m\u001b[24m\u001b[27m\u001b[28m\u001b[29m\u001b[39m\u001b[49m\n",
      "\u001b[0m2025-03-25 16:11:42.494879 INFO::Formula for fixed effects: expr ~  Site.Status + Season\u001b[0m\u001b[22m\u001b[23m\u001b[24m\u001b[27m\u001b[28m\u001b[29m\u001b[39m\u001b[49m\u001b[0m\u001b[0m\u001b[22m\u001b[23m\u001b[24m\u001b[27m\u001b[28m\u001b[29m\u001b[39m\u001b[49m\n",
      "\u001b[0m2025-03-25 16:11:42.495734 INFO::Filter data based on min abundance and min prevalence\u001b[0m\u001b[22m\u001b[23m\u001b[24m\u001b[27m\u001b[28m\u001b[29m\u001b[39m\u001b[49m\u001b[0m\u001b[0m\u001b[22m\u001b[23m\u001b[24m\u001b[27m\u001b[28m\u001b[29m\u001b[39m\u001b[49m\n",
      "\u001b[0m2025-03-25 16:11:42.496186 INFO::Total samples in data: 96\u001b[0m\u001b[22m\u001b[23m\u001b[24m\u001b[27m\u001b[28m\u001b[29m\u001b[39m\u001b[49m\u001b[0m\u001b[0m\u001b[22m\u001b[23m\u001b[24m\u001b[27m\u001b[28m\u001b[29m\u001b[39m\u001b[49m\n",
      "\u001b[0m2025-03-25 16:11:42.496621 INFO::Min samples required with min abundance for a feature not to be filtered: 9.600000\u001b[0m\u001b[22m\u001b[23m\u001b[24m\u001b[27m\u001b[28m\u001b[29m\u001b[39m\u001b[49m\u001b[0m\u001b[0m\u001b[22m\u001b[23m\u001b[24m\u001b[27m\u001b[28m\u001b[29m\u001b[39m\u001b[49m\n",
      "\u001b[0m2025-03-25 16:11:42.497592 INFO::Total filtered features: 0\u001b[0m\u001b[22m\u001b[23m\u001b[24m\u001b[27m\u001b[28m\u001b[29m\u001b[39m\u001b[49m\u001b[0m\u001b[0m\u001b[22m\u001b[23m\u001b[24m\u001b[27m\u001b[28m\u001b[29m\u001b[39m\u001b[49m\n",
      "\u001b[0m2025-03-25 16:11:42.498077 INFO::Filtered feature names from abundance and prevalence filtering:\u001b[0m\u001b[22m\u001b[23m\u001b[24m\u001b[27m\u001b[28m\u001b[29m\u001b[39m\u001b[49m\u001b[0m\u001b[0m\u001b[22m\u001b[23m\u001b[24m\u001b[27m\u001b[28m\u001b[29m\u001b[39m\u001b[49m\n",
      "\u001b[0m2025-03-25 16:11:42.500207 INFO::Total filtered features with variance filtering: 0\u001b[0m\u001b[22m\u001b[23m\u001b[24m\u001b[27m\u001b[28m\u001b[29m\u001b[39m\u001b[49m\u001b[0m\u001b[0m\u001b[22m\u001b[23m\u001b[24m\u001b[27m\u001b[28m\u001b[29m\u001b[39m\u001b[49m\n",
      "\u001b[0m2025-03-25 16:11:42.500692 INFO::Filtered feature names from variance filtering:\u001b[0m\u001b[22m\u001b[23m\u001b[24m\u001b[27m\u001b[28m\u001b[29m\u001b[39m\u001b[49m\u001b[0m\u001b[0m\u001b[22m\u001b[23m\u001b[24m\u001b[27m\u001b[28m\u001b[29m\u001b[39m\u001b[49m\n",
      "\u001b[0m2025-03-25 16:11:42.50116 INFO::Running selected normalization method: TSS\u001b[0m\u001b[22m\u001b[23m\u001b[24m\u001b[27m\u001b[28m\u001b[29m\u001b[39m\u001b[49m\u001b[0m\u001b[0m\u001b[22m\u001b[23m\u001b[24m\u001b[27m\u001b[28m\u001b[29m\u001b[39m\u001b[49m\n",
      "\u001b[0m2025-03-25 16:11:42.502756 INFO::Applying z-score to standardize continuous metadata\u001b[0m\u001b[22m\u001b[23m\u001b[24m\u001b[27m\u001b[28m\u001b[29m\u001b[39m\u001b[49m\u001b[0m\u001b[0m\u001b[22m\u001b[23m\u001b[24m\u001b[27m\u001b[28m\u001b[29m\u001b[39m\u001b[49m\n",
      "\u001b[0m2025-03-25 16:11:42.50557 INFO::Running selected transform method: LOG\u001b[0m\u001b[22m\u001b[23m\u001b[24m\u001b[27m\u001b[28m\u001b[29m\u001b[39m\u001b[49m\u001b[0m\u001b[0m\u001b[22m\u001b[23m\u001b[24m\u001b[27m\u001b[28m\u001b[29m\u001b[39m\u001b[49m\n",
      "\u001b[0m2025-03-25 16:11:42.506678 INFO::Running selected analysis method: LM\u001b[0m\u001b[22m\u001b[23m\u001b[24m\u001b[27m\u001b[28m\u001b[29m\u001b[39m\u001b[49m\u001b[0m\u001b[0m\u001b[22m\u001b[23m\u001b[24m\u001b[27m\u001b[28m\u001b[29m\u001b[39m\u001b[49m\n",
      "\u001b[0m2025-03-25 16:11:42.507366 INFO::Creating cluster of 4 R processes\u001b[0m\u001b[22m\u001b[23m\u001b[24m\u001b[27m\u001b[28m\u001b[29m\u001b[39m\u001b[49m\u001b[0m\u001b[0m\u001b[22m\u001b[23m\u001b[24m\u001b[27m\u001b[28m\u001b[29m\u001b[39m\u001b[49m\n",
      "\u001b[0m2025-03-25 16:11:44.986136 INFO::Counting total values for each feature\u001b[0m\u001b[22m\u001b[23m\u001b[24m\u001b[27m\u001b[28m\u001b[29m\u001b[39m\u001b[49m\u001b[0m\u001b[0m\u001b[22m\u001b[23m\u001b[24m\u001b[27m\u001b[28m\u001b[29m\u001b[39m\u001b[49m\n",
      "\u001b[0m2025-03-25 16:11:44.994685 INFO::Writing filtered data to file /Users/stephanie.rosales/Documents/Tissueloss/EPA2/Maslin/water//faprotax/features/filtered_data.tsv\u001b[0m\u001b[22m\u001b[23m\u001b[24m\u001b[27m\u001b[28m\u001b[29m\u001b[39m\u001b[49m\u001b[0m\u001b[0m\u001b[22m\u001b[23m\u001b[24m\u001b[27m\u001b[28m\u001b[29m\u001b[39m\u001b[49m\n",
      "\u001b[0m2025-03-25 16:11:45.001697 INFO::Writing filtered, normalized data to file /Users/stephanie.rosales/Documents/Tissueloss/EPA2/Maslin/water//faprotax/features/filtered_data_norm.tsv\u001b[0m\u001b[22m\u001b[23m\u001b[24m\u001b[27m\u001b[28m\u001b[29m\u001b[39m\u001b[49m\u001b[0m\u001b[0m\u001b[22m\u001b[23m\u001b[24m\u001b[27m\u001b[28m\u001b[29m\u001b[39m\u001b[49m\n",
      "\u001b[0m2025-03-25 16:11:45.00989 INFO::Writing filtered, normalized, transformed data to file /Users/stephanie.rosales/Documents/Tissueloss/EPA2/Maslin/water//faprotax/features/filtered_data_norm_transformed.tsv\u001b[0m\u001b[22m\u001b[23m\u001b[24m\u001b[27m\u001b[28m\u001b[29m\u001b[39m\u001b[49m\u001b[0m\u001b[0m\u001b[22m\u001b[23m\u001b[24m\u001b[27m\u001b[28m\u001b[29m\u001b[39m\u001b[49m\n",
      "\u001b[33m2025-03-25 16:11:45.018761 WARNING::Deleting existing residuals file: /Users/stephanie.rosales/Documents/Tissueloss/EPA2/Maslin/water//faprotax/fits/residuals.rds\u001b[39m\u001b[0m\u001b[0m\u001b[22m\u001b[23m\u001b[24m\u001b[27m\u001b[28m\u001b[29m\u001b[39m\u001b[49m\n",
      "\u001b[0m2025-03-25 16:11:45.024037 INFO::Writing residuals to file /Users/stephanie.rosales/Documents/Tissueloss/EPA2/Maslin/water//faprotax/fits/residuals.rds\u001b[0m\u001b[22m\u001b[23m\u001b[24m\u001b[27m\u001b[28m\u001b[29m\u001b[39m\u001b[49m\u001b[0m\u001b[0m\u001b[22m\u001b[23m\u001b[24m\u001b[27m\u001b[28m\u001b[29m\u001b[39m\u001b[49m\n",
      "\u001b[33m2025-03-25 16:11:45.026846 WARNING::Deleting existing fitted file: /Users/stephanie.rosales/Documents/Tissueloss/EPA2/Maslin/water//faprotax/fits/fitted.rds\u001b[39m\u001b[0m\u001b[0m\u001b[22m\u001b[23m\u001b[24m\u001b[27m\u001b[28m\u001b[29m\u001b[39m\u001b[49m\n",
      "\u001b[0m2025-03-25 16:11:45.027988 INFO::Writing fitted values to file /Users/stephanie.rosales/Documents/Tissueloss/EPA2/Maslin/water//faprotax/fits/fitted.rds\u001b[0m\u001b[22m\u001b[23m\u001b[24m\u001b[27m\u001b[28m\u001b[29m\u001b[39m\u001b[49m\u001b[0m\u001b[0m\u001b[22m\u001b[23m\u001b[24m\u001b[27m\u001b[28m\u001b[29m\u001b[39m\u001b[49m\n",
      "\u001b[33m2025-03-25 16:11:45.029106 WARNING::Deleting existing ranef file: /Users/stephanie.rosales/Documents/Tissueloss/EPA2/Maslin/water//faprotax/fits/ranef.rds\u001b[39m\u001b[0m\u001b[0m\u001b[22m\u001b[23m\u001b[24m\u001b[27m\u001b[28m\u001b[29m\u001b[39m\u001b[49m\n",
      "\u001b[0m2025-03-25 16:11:45.030137 INFO::Writing extracted random effects to file /Users/stephanie.rosales/Documents/Tissueloss/EPA2/Maslin/water//faprotax/fits/ranef.rds\u001b[0m\u001b[22m\u001b[23m\u001b[24m\u001b[27m\u001b[28m\u001b[29m\u001b[39m\u001b[49m\u001b[0m\u001b[0m\u001b[22m\u001b[23m\u001b[24m\u001b[27m\u001b[28m\u001b[29m\u001b[39m\u001b[49m\n",
      "\u001b[0m2025-03-25 16:11:45.031151 INFO::Writing all results to file (ordered by increasing q-values): /Users/stephanie.rosales/Documents/Tissueloss/EPA2/Maslin/water//faprotax/all_results.tsv\u001b[0m\u001b[22m\u001b[23m\u001b[24m\u001b[27m\u001b[28m\u001b[29m\u001b[39m\u001b[49m\u001b[0m\u001b[0m\u001b[22m\u001b[23m\u001b[24m\u001b[27m\u001b[28m\u001b[29m\u001b[39m\u001b[49m\n",
      "\u001b[0m2025-03-25 16:11:45.033933 INFO::Writing the significant results (those which are less than or equal to the threshold of 0.050000 ) to file (ordered by increasing q-values): /Users/stephanie.rosales/Documents/Tissueloss/EPA2/Maslin/water//faprotax/significant_results.tsv\u001b[0m\u001b[22m\u001b[23m\u001b[24m\u001b[27m\u001b[28m\u001b[29m\u001b[39m\u001b[49m\u001b[0m\u001b[0m\u001b[22m\u001b[23m\u001b[24m\u001b[27m\u001b[28m\u001b[29m\u001b[39m\u001b[49m\n",
      "\u001b[0m2025-03-25 16:11:45.03593 INFO::Writing heatmap of significant results to file: /Users/stephanie.rosales/Documents/Tissueloss/EPA2/Maslin/water//faprotax/heatmap.pdf\u001b[0m\u001b[22m\u001b[23m\u001b[24m\u001b[27m\u001b[28m\u001b[29m\u001b[39m\u001b[49m\u001b[0m\u001b[0m\u001b[22m\u001b[23m\u001b[24m\u001b[27m\u001b[28m\u001b[29m\u001b[39m\u001b[49m\n",
      "\u001b[0m2025-03-25 16:11:45.091255 INFO::Writing association plots (one for each significant association) to output folder: /Users/stephanie.rosales/Documents/Tissueloss/EPA2/Maslin/water//faprotax\u001b[0m\u001b[22m\u001b[23m\u001b[24m\u001b[27m\u001b[28m\u001b[29m\u001b[39m\u001b[49m\u001b[0m\u001b[0m\u001b[22m\u001b[23m\u001b[24m\u001b[27m\u001b[28m\u001b[29m\u001b[39m\u001b[49m\n",
      "\u001b[0m2025-03-25 16:11:45.094455 INFO::Plotting associations from most to least significant, grouped by metadata\u001b[0m\u001b[22m\u001b[23m\u001b[24m\u001b[27m\u001b[28m\u001b[29m\u001b[39m\u001b[49m\u001b[0m\u001b[0m\u001b[22m\u001b[23m\u001b[24m\u001b[27m\u001b[28m\u001b[29m\u001b[39m\u001b[49m\n",
      "\u001b[0m2025-03-25 16:11:45.095415 INFO::Plotting data for metadata number 1, Season\u001b[0m\u001b[22m\u001b[23m\u001b[24m\u001b[27m\u001b[28m\u001b[29m\u001b[39m\u001b[49m\u001b[0m\u001b[0m\u001b[22m\u001b[23m\u001b[24m\u001b[27m\u001b[28m\u001b[29m\u001b[39m\u001b[49m\n",
      "\u001b[0m2025-03-25 16:11:45.096907 INFO::Creating boxplot for categorical data, Season vs human_pathogens_all\u001b[0m\u001b[22m\u001b[23m\u001b[24m\u001b[27m\u001b[28m\u001b[29m\u001b[39m\u001b[49m\u001b[0m\u001b[0m\u001b[22m\u001b[23m\u001b[24m\u001b[27m\u001b[28m\u001b[29m\u001b[39m\u001b[49m\n",
      "\u001b[0m2025-03-25 16:11:45.33847 INFO::Creating boxplot for categorical data, Season vs human_associated\u001b[0m\u001b[22m\u001b[23m\u001b[24m\u001b[27m\u001b[28m\u001b[29m\u001b[39m\u001b[49m\u001b[0m\u001b[0m\u001b[22m\u001b[23m\u001b[24m\u001b[27m\u001b[28m\u001b[29m\u001b[39m\u001b[49m\n",
      "\u001b[0m2025-03-25 16:11:45.441988 INFO::Creating boxplot for categorical data, Season vs aerobic_ammonia_oxidation\u001b[0m\u001b[22m\u001b[23m\u001b[24m\u001b[27m\u001b[28m\u001b[29m\u001b[39m\u001b[49m\u001b[0m\u001b[0m\u001b[22m\u001b[23m\u001b[24m\u001b[27m\u001b[28m\u001b[29m\u001b[39m\u001b[49m\n",
      "\u001b[0m2025-03-25 16:11:45.563511 INFO::Creating boxplot for categorical data, Season vs nitrification\u001b[0m\u001b[22m\u001b[23m\u001b[24m\u001b[27m\u001b[28m\u001b[29m\u001b[39m\u001b[49m\u001b[0m\u001b[0m\u001b[22m\u001b[23m\u001b[24m\u001b[27m\u001b[28m\u001b[29m\u001b[39m\u001b[49m\n",
      "\u001b[0m2025-03-25 16:11:45.675503 INFO::Creating boxplot for categorical data, Season vs animal_parasites_or_symbionts\u001b[0m\u001b[22m\u001b[23m\u001b[24m\u001b[27m\u001b[28m\u001b[29m\u001b[39m\u001b[49m\u001b[0m\u001b[0m\u001b[22m\u001b[23m\u001b[24m\u001b[27m\u001b[28m\u001b[29m\u001b[39m\u001b[49m\n",
      "\u001b[0m2025-03-25 16:11:45.774608 INFO::Creating boxplot for categorical data, Season vs photosynthetic_cyanobacteria\u001b[0m\u001b[22m\u001b[23m\u001b[24m\u001b[27m\u001b[28m\u001b[29m\u001b[39m\u001b[49m\u001b[0m\u001b[0m\u001b[22m\u001b[23m\u001b[24m\u001b[27m\u001b[28m\u001b[29m\u001b[39m\u001b[49m\n",
      "\u001b[0m2025-03-25 16:11:45.902953 INFO::Creating boxplot for categorical data, Season vs oxygenic_photoautotrophy\u001b[0m\u001b[22m\u001b[23m\u001b[24m\u001b[27m\u001b[28m\u001b[29m\u001b[39m\u001b[49m\u001b[0m\u001b[0m\u001b[22m\u001b[23m\u001b[24m\u001b[27m\u001b[28m\u001b[29m\u001b[39m\u001b[49m\n",
      "\u001b[0m2025-03-25 16:11:45.99792 INFO::Creating boxplot for categorical data, Season vs photoautotrophy\u001b[0m\u001b[22m\u001b[23m\u001b[24m\u001b[27m\u001b[28m\u001b[29m\u001b[39m\u001b[49m\u001b[0m\u001b[0m\u001b[22m\u001b[23m\u001b[24m\u001b[27m\u001b[28m\u001b[29m\u001b[39m\u001b[49m\n",
      "\u001b[0m2025-03-25 16:11:46.133069 INFO::Creating boxplot for categorical data, Season vs phototrophy\u001b[0m\u001b[22m\u001b[23m\u001b[24m\u001b[27m\u001b[28m\u001b[29m\u001b[39m\u001b[49m\u001b[0m\u001b[0m\u001b[22m\u001b[23m\u001b[24m\u001b[27m\u001b[28m\u001b[29m\u001b[39m\u001b[49m\n",
      "\u001b[0m2025-03-25 16:11:46.231701 INFO::Creating boxplot for categorical data, Season vs aerobic_chemoheterotrophy\u001b[0m\u001b[22m\u001b[23m\u001b[24m\u001b[27m\u001b[28m\u001b[29m\u001b[39m\u001b[49m\u001b[0m\u001b[0m\u001b[22m\u001b[23m\u001b[24m\u001b[27m\u001b[28m\u001b[29m\u001b[39m\u001b[49m\n",
      "\u001b[0m2025-03-25 16:11:46.353389 INFO::Creating boxplot for categorical data, Season vs nitrate_reduction\u001b[0m\u001b[22m\u001b[23m\u001b[24m\u001b[27m\u001b[28m\u001b[29m\u001b[39m\u001b[49m\u001b[0m\u001b[0m\u001b[22m\u001b[23m\u001b[24m\u001b[27m\u001b[28m\u001b[29m\u001b[39m\u001b[49m\n",
      "\u001b[0m2025-03-25 16:11:46.459578 INFO::Creating boxplot for categorical data, Season vs intracellular_parasites\u001b[0m\u001b[22m\u001b[23m\u001b[24m\u001b[27m\u001b[28m\u001b[29m\u001b[39m\u001b[49m\u001b[0m\u001b[0m\u001b[22m\u001b[23m\u001b[24m\u001b[27m\u001b[28m\u001b[29m\u001b[39m\u001b[49m\n",
      "\u001b[0m2025-03-25 16:11:46.563166 INFO::Creating boxplot for categorical data, Season vs dark_hydrogen_oxidation\u001b[0m\u001b[22m\u001b[23m\u001b[24m\u001b[27m\u001b[28m\u001b[29m\u001b[39m\u001b[49m\u001b[0m\u001b[0m\u001b[22m\u001b[23m\u001b[24m\u001b[27m\u001b[28m\u001b[29m\u001b[39m\u001b[49m\n",
      "\u001b[0m2025-03-25 16:11:46.695793 INFO::Creating boxplot for categorical data, Season vs fermentation\u001b[0m\u001b[22m\u001b[23m\u001b[24m\u001b[27m\u001b[28m\u001b[29m\u001b[39m\u001b[49m\u001b[0m\u001b[0m\u001b[22m\u001b[23m\u001b[24m\u001b[27m\u001b[28m\u001b[29m\u001b[39m\u001b[49m\n",
      "\u001b[0m2025-03-25 16:11:46.793508 INFO::Creating boxplot for categorical data, Season vs sulfate_respiration\u001b[0m\u001b[22m\u001b[23m\u001b[24m\u001b[27m\u001b[28m\u001b[29m\u001b[39m\u001b[49m\u001b[0m\u001b[0m\u001b[22m\u001b[23m\u001b[24m\u001b[27m\u001b[28m\u001b[29m\u001b[39m\u001b[49m\n",
      "\u001b[0m2025-03-25 16:11:46.924209 INFO::Creating boxplot for categorical data, Season vs respiration_of_sulfur_compounds\u001b[0m\u001b[22m\u001b[23m\u001b[24m\u001b[27m\u001b[28m\u001b[29m\u001b[39m\u001b[49m\u001b[0m\u001b[0m\u001b[22m\u001b[23m\u001b[24m\u001b[27m\u001b[28m\u001b[29m\u001b[39m\u001b[49m\n",
      "\u001b[0m2025-03-25 16:11:47.02102 INFO::Creating boxplot for categorical data, Season vs chemoheterotrophy\u001b[0m\u001b[22m\u001b[23m\u001b[24m\u001b[27m\u001b[28m\u001b[29m\u001b[39m\u001b[49m\u001b[0m\u001b[0m\u001b[22m\u001b[23m\u001b[24m\u001b[27m\u001b[28m\u001b[29m\u001b[39m\u001b[49m\n",
      "\u001b[0m2025-03-25 16:11:47.151692 INFO::Creating boxplot for categorical data, Season vs anaerobic_chemoheterotrophy\u001b[0m\u001b[22m\u001b[23m\u001b[24m\u001b[27m\u001b[28m\u001b[29m\u001b[39m\u001b[49m\u001b[0m\u001b[0m\u001b[22m\u001b[23m\u001b[24m\u001b[27m\u001b[28m\u001b[29m\u001b[39m\u001b[49m\n",
      "\u001b[0m2025-03-25 16:11:47.254837 INFO::Creating boxplot for categorical data, Season vs predatory_or_exoparasitic\u001b[0m\u001b[22m\u001b[23m\u001b[24m\u001b[27m\u001b[28m\u001b[29m\u001b[39m\u001b[49m\u001b[0m\u001b[0m\u001b[22m\u001b[23m\u001b[24m\u001b[27m\u001b[28m\u001b[29m\u001b[39m\u001b[49m\n",
      "\u001b[0m2025-03-25 16:11:48.452874 INFO::Plotting data for metadata number 2, Site.Status\u001b[0m\u001b[22m\u001b[23m\u001b[24m\u001b[27m\u001b[28m\u001b[29m\u001b[39m\u001b[49m\u001b[0m\u001b[0m\u001b[22m\u001b[23m\u001b[24m\u001b[27m\u001b[28m\u001b[29m\u001b[39m\u001b[49m\n",
      "\u001b[0m2025-03-25 16:11:48.454343 INFO::Creating boxplot for categorical data, Site.Status vs predatory_or_exoparasitic\u001b[0m\u001b[22m\u001b[23m\u001b[24m\u001b[27m\u001b[28m\u001b[29m\u001b[39m\u001b[49m\u001b[0m\u001b[0m\u001b[22m\u001b[23m\u001b[24m\u001b[27m\u001b[28m\u001b[29m\u001b[39m\u001b[49m\n",
      "\u001b[0m2025-03-25 16:11:48.564947 INFO::Creating boxplot for categorical data, Site.Status vs aliphatic_non_methane_hydrocarbon_degradation\u001b[0m\u001b[22m\u001b[23m\u001b[24m\u001b[27m\u001b[28m\u001b[29m\u001b[39m\u001b[49m\u001b[0m\u001b[0m\u001b[22m\u001b[23m\u001b[24m\u001b[27m\u001b[28m\u001b[29m\u001b[39m\u001b[49m\n",
      "\u001b[0m2025-03-25 16:11:48.690306 INFO::Creating boxplot for categorical data, Site.Status vs dark_thiosulfate_oxidation\u001b[0m\u001b[22m\u001b[23m\u001b[24m\u001b[27m\u001b[28m\u001b[29m\u001b[39m\u001b[49m\u001b[0m\u001b[0m\u001b[22m\u001b[23m\u001b[24m\u001b[27m\u001b[28m\u001b[29m\u001b[39m\u001b[49m\n",
      "\u001b[0m2025-03-25 16:11:48.799458 INFO::Creating boxplot for categorical data, Site.Status vs dark_oxidation_of_sulfur_compounds\u001b[0m\u001b[22m\u001b[23m\u001b[24m\u001b[27m\u001b[28m\u001b[29m\u001b[39m\u001b[49m\u001b[0m\u001b[0m\u001b[22m\u001b[23m\u001b[24m\u001b[27m\u001b[28m\u001b[29m\u001b[39m\u001b[49m\n",
      "\u001b[0m2025-03-25 16:11:48.923001 INFO::Creating boxplot for categorical data, Site.Status vs hydrocarbon_degradation\u001b[0m\u001b[22m\u001b[23m\u001b[24m\u001b[27m\u001b[28m\u001b[29m\u001b[39m\u001b[49m\u001b[0m\u001b[0m\u001b[22m\u001b[23m\u001b[24m\u001b[27m\u001b[28m\u001b[29m\u001b[39m\u001b[49m\n",
      "\u001b[0m2025-03-25 16:11:49.034372 INFO::Creating boxplot for categorical data, Site.Status vs sulfate_respiration\u001b[0m\u001b[22m\u001b[23m\u001b[24m\u001b[27m\u001b[28m\u001b[29m\u001b[39m\u001b[49m\u001b[0m\u001b[0m\u001b[22m\u001b[23m\u001b[24m\u001b[27m\u001b[28m\u001b[29m\u001b[39m\u001b[49m\n",
      "\u001b[0m2025-03-25 16:11:49.152478 INFO::Creating boxplot for categorical data, Site.Status vs respiration_of_sulfur_compounds\u001b[0m\u001b[22m\u001b[23m\u001b[24m\u001b[27m\u001b[28m\u001b[29m\u001b[39m\u001b[49m\u001b[0m\u001b[0m\u001b[22m\u001b[23m\u001b[24m\u001b[27m\u001b[28m\u001b[29m\u001b[39m\u001b[49m\n",
      "\u001b[0m2025-03-25 16:11:49.261486 INFO::Creating boxplot for categorical data, Site.Status vs dark_hydrogen_oxidation\u001b[0m\u001b[22m\u001b[23m\u001b[24m\u001b[27m\u001b[28m\u001b[29m\u001b[39m\u001b[49m\u001b[0m\u001b[0m\u001b[22m\u001b[23m\u001b[24m\u001b[27m\u001b[28m\u001b[29m\u001b[39m\u001b[49m\n",
      "\u001b[0m2025-03-25 16:11:49.381217 INFO::Creating boxplot for categorical data, Site.Status vs nitrogen_fixation\u001b[0m\u001b[22m\u001b[23m\u001b[24m\u001b[27m\u001b[28m\u001b[29m\u001b[39m\u001b[49m\u001b[0m\u001b[0m\u001b[22m\u001b[23m\u001b[24m\u001b[27m\u001b[28m\u001b[29m\u001b[39m\u001b[49m\n",
      "\u001b[0m2025-03-25 16:11:49.489369 INFO::Creating boxplot for categorical data, Site.Status vs predatory_or_exoparasitic\u001b[0m\u001b[22m\u001b[23m\u001b[24m\u001b[27m\u001b[28m\u001b[29m\u001b[39m\u001b[49m\u001b[0m\u001b[0m\u001b[22m\u001b[23m\u001b[24m\u001b[27m\u001b[28m\u001b[29m\u001b[39m\u001b[49m\n",
      "\u001b[0m2025-03-25 16:11:50.052125 INFO::Creating boxplot for categorical data, Site.Status vs methanol_oxidation\u001b[0m\u001b[22m\u001b[23m\u001b[24m\u001b[27m\u001b[28m\u001b[29m\u001b[39m\u001b[49m\u001b[0m\u001b[0m\u001b[22m\u001b[23m\u001b[24m\u001b[27m\u001b[28m\u001b[29m\u001b[39m\u001b[49m\n",
      "\u001b[0m2025-03-25 16:11:50.147383 INFO::Creating boxplot for categorical data, Site.Status vs methylotrophy\u001b[0m\u001b[22m\u001b[23m\u001b[24m\u001b[27m\u001b[28m\u001b[29m\u001b[39m\u001b[49m\u001b[0m\u001b[0m\u001b[22m\u001b[23m\u001b[24m\u001b[27m\u001b[28m\u001b[29m\u001b[39m\u001b[49m\n",
      "\u001b[0m2025-03-25 16:11:50.247357 INFO::Creating boxplot for categorical data, Site.Status vs nitrogen_fixation\u001b[0m\u001b[22m\u001b[23m\u001b[24m\u001b[27m\u001b[28m\u001b[29m\u001b[39m\u001b[49m\u001b[0m\u001b[0m\u001b[22m\u001b[23m\u001b[24m\u001b[27m\u001b[28m\u001b[29m\u001b[39m\u001b[49m\n",
      "\u001b[0m2025-03-25 16:11:50.367637 INFO::Creating boxplot for categorical data, Site.Status vs methanol_oxidation\u001b[0m\u001b[22m\u001b[23m\u001b[24m\u001b[27m\u001b[28m\u001b[29m\u001b[39m\u001b[49m\u001b[0m\u001b[0m\u001b[22m\u001b[23m\u001b[24m\u001b[27m\u001b[28m\u001b[29m\u001b[39m\u001b[49m\n",
      "\u001b[0m2025-03-25 16:11:50.489887 INFO::Creating boxplot for categorical data, Site.Status vs methylotrophy\u001b[0m\u001b[22m\u001b[23m\u001b[24m\u001b[27m\u001b[28m\u001b[29m\u001b[39m\u001b[49m\u001b[0m\u001b[0m\u001b[22m\u001b[23m\u001b[24m\u001b[27m\u001b[28m\u001b[29m\u001b[39m\u001b[49m\n",
      "\u001b[0m2025-03-25 16:11:50.610939 INFO::Creating boxplot for categorical data, Site.Status vs intracellular_parasites\u001b[0m\u001b[22m\u001b[23m\u001b[24m\u001b[27m\u001b[28m\u001b[29m\u001b[39m\u001b[49m\u001b[0m\u001b[0m\u001b[22m\u001b[23m\u001b[24m\u001b[27m\u001b[28m\u001b[29m\u001b[39m\u001b[49m\n"
     ]
    }
   ],
   "source": [
    "fit_data_w = Maaslin2(\n",
    "    input_data = otu_table(ps_far_w), \n",
    "    input_metadata = meta_far_w,\n",
    "     min_abundance = 0.0,\n",
    "    analysis_method = \"LM\",\n",
    "     transform = \"LOG\",\n",
    "     max_significance=0.05,\n",
    "     cores=4,\n",
    "     random_effects = c('Site.Name'),\n",
    "    #normalization = \"TMM\",\n",
    "    output = \"/Users/stephanie.rosales/Documents/Tissueloss/EPA2/Maslin/water//faprotax\", \n",
    "    correction = \"BH\",\n",
    "    fixed_effects = c(\"Site.Status\", \"Season\"),\n",
    "    reference = c(\"Site.Status,Vulnerable\"))\n",
    "     "
   ]
  },
  {
   "cell_type": "markdown",
   "id": "7a2acb38-ad70-42cb-b6ad-b2c9e8afcc96",
   "metadata": {},
   "source": [
    "## Figure 7"
   ]
  },
  {
   "cell_type": "code",
   "execution_count": 22,
   "id": "ef115cba-9718-4091-808a-77c795c50d65",
   "metadata": {},
   "outputs": [],
   "source": [
    "#extract results\n",
    "coral_df=fit_data_coral$results %>%\n",
    "mutate(Sample_type = \"Coral\")\n"
   ]
  },
  {
   "cell_type": "code",
   "execution_count": 29,
   "id": "f50f7ba4-ee5d-4859-8344-bb6eab8547a6",
   "metadata": {},
   "outputs": [],
   "source": [
    "#extract results\n",
    "wat_df=fit_data_w$results %>%\n",
    "mutate(Sample_type = \"Water\")"
   ]
  },
  {
   "cell_type": "code",
   "execution_count": 30,
   "id": "33ccec0c-f448-4eb0-991c-b2dc9b39374f",
   "metadata": {},
   "outputs": [],
   "source": [
    "#extract results\n",
    "sediment_df=fit_data_s$results %>%\n",
    "mutate(Sample_type = \"Sediment\")"
   ]
  },
  {
   "cell_type": "code",
   "execution_count": 31,
   "id": "36b894a4-2f61-4ccc-b2c0-83ba05a7ab78",
   "metadata": {},
   "outputs": [
    {
     "data": {
      "text/html": [
       "<table class=\"dataframe\">\n",
       "<caption>A data.frame: 6 × 11</caption>\n",
       "<thead>\n",
       "\t<tr><th></th><th scope=col>feature</th><th scope=col>metadata</th><th scope=col>value</th><th scope=col>coef</th><th scope=col>stderr</th><th scope=col>pval</th><th scope=col>name</th><th scope=col>qval</th><th scope=col>N</th><th scope=col>N.not.zero</th><th scope=col>Sample_type</th></tr>\n",
       "\t<tr><th></th><th scope=col>&lt;chr&gt;</th><th scope=col>&lt;chr&gt;</th><th scope=col>&lt;chr&gt;</th><th scope=col>&lt;dbl&gt;</th><th scope=col>&lt;dbl&gt;</th><th scope=col>&lt;dbl&gt;</th><th scope=col>&lt;chr&gt;</th><th scope=col>&lt;dbl&gt;</th><th scope=col>&lt;int&gt;</th><th scope=col>&lt;int&gt;</th><th scope=col>&lt;chr&gt;</th></tr>\n",
       "</thead>\n",
       "<tbody>\n",
       "\t<tr><th scope=row>1</th><td>human_pathogens_all          </td><td>Season</td><td>wet</td><td>-3.851340</td><td>0.2628732</td><td>1.092952e-25</td><td>Seasonwet</td><td>5.410114e-24</td><td>96</td><td>67</td><td>Sediment</td></tr>\n",
       "\t<tr><th scope=row>2</th><td>human_associated             </td><td>Season</td><td>wet</td><td>-3.851340</td><td>0.2628732</td><td>1.092952e-25</td><td>Seasonwet</td><td>5.410114e-24</td><td>96</td><td>67</td><td>Sediment</td></tr>\n",
       "\t<tr><th scope=row>3</th><td>aerobic_ammonia_oxidation    </td><td>Season</td><td>wet</td><td> 4.547996</td><td>0.6195914</td><td>8.527209e-11</td><td>Seasonwet</td><td>2.110484e-09</td><td>96</td><td>95</td><td>Sediment</td></tr>\n",
       "\t<tr><th scope=row>4</th><td>nitrification                </td><td>Season</td><td>wet</td><td> 4.547996</td><td>0.6195914</td><td>8.527209e-11</td><td>Seasonwet</td><td>2.110484e-09</td><td>96</td><td>95</td><td>Sediment</td></tr>\n",
       "\t<tr><th scope=row>5</th><td>animal_parasites_or_symbionts</td><td>Season</td><td>wet</td><td>-3.397605</td><td>0.5236798</td><td>4.332234e-09</td><td>Seasonwet</td><td>8.577823e-08</td><td>96</td><td>78</td><td>Sediment</td></tr>\n",
       "\t<tr><th scope=row>6</th><td>photosynthetic_cyanobacteria </td><td>Season</td><td>wet</td><td>-1.283067</td><td>0.2070695</td><td>1.647151e-08</td><td>Seasonwet</td><td>1.811866e-07</td><td>96</td><td>96</td><td>Sediment</td></tr>\n",
       "</tbody>\n",
       "</table>\n"
      ],
      "text/latex": [
       "A data.frame: 6 × 11\n",
       "\\begin{tabular}{r|lllllllllll}\n",
       "  & feature & metadata & value & coef & stderr & pval & name & qval & N & N.not.zero & Sample\\_type\\\\\n",
       "  & <chr> & <chr> & <chr> & <dbl> & <dbl> & <dbl> & <chr> & <dbl> & <int> & <int> & <chr>\\\\\n",
       "\\hline\n",
       "\t1 & human\\_pathogens\\_all           & Season & wet & -3.851340 & 0.2628732 & 1.092952e-25 & Seasonwet & 5.410114e-24 & 96 & 67 & Sediment\\\\\n",
       "\t2 & human\\_associated              & Season & wet & -3.851340 & 0.2628732 & 1.092952e-25 & Seasonwet & 5.410114e-24 & 96 & 67 & Sediment\\\\\n",
       "\t3 & aerobic\\_ammonia\\_oxidation     & Season & wet &  4.547996 & 0.6195914 & 8.527209e-11 & Seasonwet & 2.110484e-09 & 96 & 95 & Sediment\\\\\n",
       "\t4 & nitrification                 & Season & wet &  4.547996 & 0.6195914 & 8.527209e-11 & Seasonwet & 2.110484e-09 & 96 & 95 & Sediment\\\\\n",
       "\t5 & animal\\_parasites\\_or\\_symbionts & Season & wet & -3.397605 & 0.5236798 & 4.332234e-09 & Seasonwet & 8.577823e-08 & 96 & 78 & Sediment\\\\\n",
       "\t6 & photosynthetic\\_cyanobacteria  & Season & wet & -1.283067 & 0.2070695 & 1.647151e-08 & Seasonwet & 1.811866e-07 & 96 & 96 & Sediment\\\\\n",
       "\\end{tabular}\n"
      ],
      "text/markdown": [
       "\n",
       "A data.frame: 6 × 11\n",
       "\n",
       "| <!--/--> | feature &lt;chr&gt; | metadata &lt;chr&gt; | value &lt;chr&gt; | coef &lt;dbl&gt; | stderr &lt;dbl&gt; | pval &lt;dbl&gt; | name &lt;chr&gt; | qval &lt;dbl&gt; | N &lt;int&gt; | N.not.zero &lt;int&gt; | Sample_type &lt;chr&gt; |\n",
       "|---|---|---|---|---|---|---|---|---|---|---|---|\n",
       "| 1 | human_pathogens_all           | Season | wet | -3.851340 | 0.2628732 | 1.092952e-25 | Seasonwet | 5.410114e-24 | 96 | 67 | Sediment |\n",
       "| 2 | human_associated              | Season | wet | -3.851340 | 0.2628732 | 1.092952e-25 | Seasonwet | 5.410114e-24 | 96 | 67 | Sediment |\n",
       "| 3 | aerobic_ammonia_oxidation     | Season | wet |  4.547996 | 0.6195914 | 8.527209e-11 | Seasonwet | 2.110484e-09 | 96 | 95 | Sediment |\n",
       "| 4 | nitrification                 | Season | wet |  4.547996 | 0.6195914 | 8.527209e-11 | Seasonwet | 2.110484e-09 | 96 | 95 | Sediment |\n",
       "| 5 | animal_parasites_or_symbionts | Season | wet | -3.397605 | 0.5236798 | 4.332234e-09 | Seasonwet | 8.577823e-08 | 96 | 78 | Sediment |\n",
       "| 6 | photosynthetic_cyanobacteria  | Season | wet | -1.283067 | 0.2070695 | 1.647151e-08 | Seasonwet | 1.811866e-07 | 96 | 96 | Sediment |\n",
       "\n"
      ],
      "text/plain": [
       "  feature                       metadata value coef      stderr    pval        \n",
       "1 human_pathogens_all           Season   wet   -3.851340 0.2628732 1.092952e-25\n",
       "2 human_associated              Season   wet   -3.851340 0.2628732 1.092952e-25\n",
       "3 aerobic_ammonia_oxidation     Season   wet    4.547996 0.6195914 8.527209e-11\n",
       "4 nitrification                 Season   wet    4.547996 0.6195914 8.527209e-11\n",
       "5 animal_parasites_or_symbionts Season   wet   -3.397605 0.5236798 4.332234e-09\n",
       "6 photosynthetic_cyanobacteria  Season   wet   -1.283067 0.2070695 1.647151e-08\n",
       "  name      qval         N  N.not.zero Sample_type\n",
       "1 Seasonwet 5.410114e-24 96 67         Sediment   \n",
       "2 Seasonwet 5.410114e-24 96 67         Sediment   \n",
       "3 Seasonwet 2.110484e-09 96 95         Sediment   \n",
       "4 Seasonwet 2.110484e-09 96 95         Sediment   \n",
       "5 Seasonwet 8.577823e-08 96 78         Sediment   \n",
       "6 Seasonwet 1.811866e-07 96 96         Sediment   "
      ]
     },
     "metadata": {},
     "output_type": "display_data"
    },
    {
     "data": {
      "text/html": [
       "<table class=\"dataframe\">\n",
       "<caption>A data.frame: 6 × 11</caption>\n",
       "<thead>\n",
       "\t<tr><th></th><th scope=col>feature</th><th scope=col>metadata</th><th scope=col>value</th><th scope=col>coef</th><th scope=col>stderr</th><th scope=col>pval</th><th scope=col>name</th><th scope=col>qval</th><th scope=col>N</th><th scope=col>N.not.zero</th><th scope=col>Sample_type</th></tr>\n",
       "\t<tr><th></th><th scope=col>&lt;chr&gt;</th><th scope=col>&lt;chr&gt;</th><th scope=col>&lt;chr&gt;</th><th scope=col>&lt;dbl&gt;</th><th scope=col>&lt;dbl&gt;</th><th scope=col>&lt;dbl&gt;</th><th scope=col>&lt;chr&gt;</th><th scope=col>&lt;dbl&gt;</th><th scope=col>&lt;int&gt;</th><th scope=col>&lt;int&gt;</th><th scope=col>&lt;chr&gt;</th></tr>\n",
       "</thead>\n",
       "<tbody>\n",
       "\t<tr><th scope=row>1</th><td>aliphatic_non_methane_hydrocarbon_degradation</td><td>Site.Status</td><td>Endemic </td><td>-4.771230</td><td>0.7056720</td><td>6.645861e-10</td><td>Site.StatusEndemic </td><td>6.978154e-08</td><td>117</td><td> 66</td><td>Coral</td></tr>\n",
       "\t<tr><th scope=row>2</th><td>photosynthetic_cyanobacteria                 </td><td>Season     </td><td>wet     </td><td>-1.639064</td><td>0.2805309</td><td>5.139269e-08</td><td>Seasonwet          </td><td>1.079247e-06</td><td>117</td><td>117</td><td>Coral</td></tr>\n",
       "\t<tr><th scope=row>3</th><td>oxygenic_photoautotrophy                     </td><td>Season     </td><td>wet     </td><td>-1.639064</td><td>0.2805309</td><td>5.139269e-08</td><td>Seasonwet          </td><td>1.079247e-06</td><td>117</td><td>117</td><td>Coral</td></tr>\n",
       "\t<tr><th scope=row>4</th><td>photoautotrophy                              </td><td>Season     </td><td>wet     </td><td>-1.639064</td><td>0.2805309</td><td>5.139269e-08</td><td>Seasonwet          </td><td>1.079247e-06</td><td>117</td><td>117</td><td>Coral</td></tr>\n",
       "\t<tr><th scope=row>5</th><td>phototrophy                                  </td><td>Season     </td><td>wet     </td><td>-1.639064</td><td>0.2805309</td><td>5.139269e-08</td><td>Seasonwet          </td><td>1.079247e-06</td><td>117</td><td>117</td><td>Coral</td></tr>\n",
       "\t<tr><th scope=row>6</th><td>aliphatic_non_methane_hydrocarbon_degradation</td><td>Site.Status</td><td>Epidemic</td><td>-4.106047</td><td>0.7139027</td><td>7.888831e-08</td><td>Site.StatusEpidemic</td><td>1.380545e-06</td><td>117</td><td> 66</td><td>Coral</td></tr>\n",
       "</tbody>\n",
       "</table>\n"
      ],
      "text/latex": [
       "A data.frame: 6 × 11\n",
       "\\begin{tabular}{r|lllllllllll}\n",
       "  & feature & metadata & value & coef & stderr & pval & name & qval & N & N.not.zero & Sample\\_type\\\\\n",
       "  & <chr> & <chr> & <chr> & <dbl> & <dbl> & <dbl> & <chr> & <dbl> & <int> & <int> & <chr>\\\\\n",
       "\\hline\n",
       "\t1 & aliphatic\\_non\\_methane\\_hydrocarbon\\_degradation & Site.Status & Endemic  & -4.771230 & 0.7056720 & 6.645861e-10 & Site.StatusEndemic  & 6.978154e-08 & 117 &  66 & Coral\\\\\n",
       "\t2 & photosynthetic\\_cyanobacteria                  & Season      & wet      & -1.639064 & 0.2805309 & 5.139269e-08 & Seasonwet           & 1.079247e-06 & 117 & 117 & Coral\\\\\n",
       "\t3 & oxygenic\\_photoautotrophy                      & Season      & wet      & -1.639064 & 0.2805309 & 5.139269e-08 & Seasonwet           & 1.079247e-06 & 117 & 117 & Coral\\\\\n",
       "\t4 & photoautotrophy                               & Season      & wet      & -1.639064 & 0.2805309 & 5.139269e-08 & Seasonwet           & 1.079247e-06 & 117 & 117 & Coral\\\\\n",
       "\t5 & phototrophy                                   & Season      & wet      & -1.639064 & 0.2805309 & 5.139269e-08 & Seasonwet           & 1.079247e-06 & 117 & 117 & Coral\\\\\n",
       "\t6 & aliphatic\\_non\\_methane\\_hydrocarbon\\_degradation & Site.Status & Epidemic & -4.106047 & 0.7139027 & 7.888831e-08 & Site.StatusEpidemic & 1.380545e-06 & 117 &  66 & Coral\\\\\n",
       "\\end{tabular}\n"
      ],
      "text/markdown": [
       "\n",
       "A data.frame: 6 × 11\n",
       "\n",
       "| <!--/--> | feature &lt;chr&gt; | metadata &lt;chr&gt; | value &lt;chr&gt; | coef &lt;dbl&gt; | stderr &lt;dbl&gt; | pval &lt;dbl&gt; | name &lt;chr&gt; | qval &lt;dbl&gt; | N &lt;int&gt; | N.not.zero &lt;int&gt; | Sample_type &lt;chr&gt; |\n",
       "|---|---|---|---|---|---|---|---|---|---|---|---|\n",
       "| 1 | aliphatic_non_methane_hydrocarbon_degradation | Site.Status | Endemic  | -4.771230 | 0.7056720 | 6.645861e-10 | Site.StatusEndemic  | 6.978154e-08 | 117 |  66 | Coral |\n",
       "| 2 | photosynthetic_cyanobacteria                  | Season      | wet      | -1.639064 | 0.2805309 | 5.139269e-08 | Seasonwet           | 1.079247e-06 | 117 | 117 | Coral |\n",
       "| 3 | oxygenic_photoautotrophy                      | Season      | wet      | -1.639064 | 0.2805309 | 5.139269e-08 | Seasonwet           | 1.079247e-06 | 117 | 117 | Coral |\n",
       "| 4 | photoautotrophy                               | Season      | wet      | -1.639064 | 0.2805309 | 5.139269e-08 | Seasonwet           | 1.079247e-06 | 117 | 117 | Coral |\n",
       "| 5 | phototrophy                                   | Season      | wet      | -1.639064 | 0.2805309 | 5.139269e-08 | Seasonwet           | 1.079247e-06 | 117 | 117 | Coral |\n",
       "| 6 | aliphatic_non_methane_hydrocarbon_degradation | Site.Status | Epidemic | -4.106047 | 0.7139027 | 7.888831e-08 | Site.StatusEpidemic | 1.380545e-06 | 117 |  66 | Coral |\n",
       "\n"
      ],
      "text/plain": [
       "  feature                                       metadata    value    coef     \n",
       "1 aliphatic_non_methane_hydrocarbon_degradation Site.Status Endemic  -4.771230\n",
       "2 photosynthetic_cyanobacteria                  Season      wet      -1.639064\n",
       "3 oxygenic_photoautotrophy                      Season      wet      -1.639064\n",
       "4 photoautotrophy                               Season      wet      -1.639064\n",
       "5 phototrophy                                   Season      wet      -1.639064\n",
       "6 aliphatic_non_methane_hydrocarbon_degradation Site.Status Epidemic -4.106047\n",
       "  stderr    pval         name                qval         N   N.not.zero\n",
       "1 0.7056720 6.645861e-10 Site.StatusEndemic  6.978154e-08 117  66       \n",
       "2 0.2805309 5.139269e-08 Seasonwet           1.079247e-06 117 117       \n",
       "3 0.2805309 5.139269e-08 Seasonwet           1.079247e-06 117 117       \n",
       "4 0.2805309 5.139269e-08 Seasonwet           1.079247e-06 117 117       \n",
       "5 0.2805309 5.139269e-08 Seasonwet           1.079247e-06 117 117       \n",
       "6 0.7139027 7.888831e-08 Site.StatusEpidemic 1.380545e-06 117  66       \n",
       "  Sample_type\n",
       "1 Coral      \n",
       "2 Coral      \n",
       "3 Coral      \n",
       "4 Coral      \n",
       "5 Coral      \n",
       "6 Coral      "
      ]
     },
     "metadata": {},
     "output_type": "display_data"
    },
    {
     "data": {
      "text/html": [
       "<table class=\"dataframe\">\n",
       "<caption>A data.frame: 6 × 11</caption>\n",
       "<thead>\n",
       "\t<tr><th></th><th scope=col>feature</th><th scope=col>metadata</th><th scope=col>value</th><th scope=col>coef</th><th scope=col>stderr</th><th scope=col>pval</th><th scope=col>name</th><th scope=col>qval</th><th scope=col>N</th><th scope=col>N.not.zero</th><th scope=col>Sample_type</th></tr>\n",
       "\t<tr><th></th><th scope=col>&lt;chr&gt;</th><th scope=col>&lt;chr&gt;</th><th scope=col>&lt;chr&gt;</th><th scope=col>&lt;dbl&gt;</th><th scope=col>&lt;dbl&gt;</th><th scope=col>&lt;dbl&gt;</th><th scope=col>&lt;chr&gt;</th><th scope=col>&lt;dbl&gt;</th><th scope=col>&lt;int&gt;</th><th scope=col>&lt;int&gt;</th><th scope=col>&lt;chr&gt;</th></tr>\n",
       "</thead>\n",
       "<tbody>\n",
       "\t<tr><th scope=row>1</th><td>human_pathogens_all          </td><td>Season</td><td>wet</td><td>-3.851340</td><td>0.2628732</td><td>1.092952e-25</td><td>Seasonwet</td><td>5.410114e-24</td><td>96</td><td>67</td><td>Water</td></tr>\n",
       "\t<tr><th scope=row>2</th><td>human_associated             </td><td>Season</td><td>wet</td><td>-3.851340</td><td>0.2628732</td><td>1.092952e-25</td><td>Seasonwet</td><td>5.410114e-24</td><td>96</td><td>67</td><td>Water</td></tr>\n",
       "\t<tr><th scope=row>3</th><td>aerobic_ammonia_oxidation    </td><td>Season</td><td>wet</td><td> 4.547996</td><td>0.6195914</td><td>8.527209e-11</td><td>Seasonwet</td><td>2.110484e-09</td><td>96</td><td>95</td><td>Water</td></tr>\n",
       "\t<tr><th scope=row>4</th><td>nitrification                </td><td>Season</td><td>wet</td><td> 4.547996</td><td>0.6195914</td><td>8.527209e-11</td><td>Seasonwet</td><td>2.110484e-09</td><td>96</td><td>95</td><td>Water</td></tr>\n",
       "\t<tr><th scope=row>5</th><td>animal_parasites_or_symbionts</td><td>Season</td><td>wet</td><td>-3.397605</td><td>0.5236798</td><td>4.332234e-09</td><td>Seasonwet</td><td>8.577823e-08</td><td>96</td><td>78</td><td>Water</td></tr>\n",
       "\t<tr><th scope=row>6</th><td>photosynthetic_cyanobacteria </td><td>Season</td><td>wet</td><td>-1.283067</td><td>0.2070695</td><td>1.647151e-08</td><td>Seasonwet</td><td>1.811866e-07</td><td>96</td><td>96</td><td>Water</td></tr>\n",
       "</tbody>\n",
       "</table>\n"
      ],
      "text/latex": [
       "A data.frame: 6 × 11\n",
       "\\begin{tabular}{r|lllllllllll}\n",
       "  & feature & metadata & value & coef & stderr & pval & name & qval & N & N.not.zero & Sample\\_type\\\\\n",
       "  & <chr> & <chr> & <chr> & <dbl> & <dbl> & <dbl> & <chr> & <dbl> & <int> & <int> & <chr>\\\\\n",
       "\\hline\n",
       "\t1 & human\\_pathogens\\_all           & Season & wet & -3.851340 & 0.2628732 & 1.092952e-25 & Seasonwet & 5.410114e-24 & 96 & 67 & Water\\\\\n",
       "\t2 & human\\_associated              & Season & wet & -3.851340 & 0.2628732 & 1.092952e-25 & Seasonwet & 5.410114e-24 & 96 & 67 & Water\\\\\n",
       "\t3 & aerobic\\_ammonia\\_oxidation     & Season & wet &  4.547996 & 0.6195914 & 8.527209e-11 & Seasonwet & 2.110484e-09 & 96 & 95 & Water\\\\\n",
       "\t4 & nitrification                 & Season & wet &  4.547996 & 0.6195914 & 8.527209e-11 & Seasonwet & 2.110484e-09 & 96 & 95 & Water\\\\\n",
       "\t5 & animal\\_parasites\\_or\\_symbionts & Season & wet & -3.397605 & 0.5236798 & 4.332234e-09 & Seasonwet & 8.577823e-08 & 96 & 78 & Water\\\\\n",
       "\t6 & photosynthetic\\_cyanobacteria  & Season & wet & -1.283067 & 0.2070695 & 1.647151e-08 & Seasonwet & 1.811866e-07 & 96 & 96 & Water\\\\\n",
       "\\end{tabular}\n"
      ],
      "text/markdown": [
       "\n",
       "A data.frame: 6 × 11\n",
       "\n",
       "| <!--/--> | feature &lt;chr&gt; | metadata &lt;chr&gt; | value &lt;chr&gt; | coef &lt;dbl&gt; | stderr &lt;dbl&gt; | pval &lt;dbl&gt; | name &lt;chr&gt; | qval &lt;dbl&gt; | N &lt;int&gt; | N.not.zero &lt;int&gt; | Sample_type &lt;chr&gt; |\n",
       "|---|---|---|---|---|---|---|---|---|---|---|---|\n",
       "| 1 | human_pathogens_all           | Season | wet | -3.851340 | 0.2628732 | 1.092952e-25 | Seasonwet | 5.410114e-24 | 96 | 67 | Water |\n",
       "| 2 | human_associated              | Season | wet | -3.851340 | 0.2628732 | 1.092952e-25 | Seasonwet | 5.410114e-24 | 96 | 67 | Water |\n",
       "| 3 | aerobic_ammonia_oxidation     | Season | wet |  4.547996 | 0.6195914 | 8.527209e-11 | Seasonwet | 2.110484e-09 | 96 | 95 | Water |\n",
       "| 4 | nitrification                 | Season | wet |  4.547996 | 0.6195914 | 8.527209e-11 | Seasonwet | 2.110484e-09 | 96 | 95 | Water |\n",
       "| 5 | animal_parasites_or_symbionts | Season | wet | -3.397605 | 0.5236798 | 4.332234e-09 | Seasonwet | 8.577823e-08 | 96 | 78 | Water |\n",
       "| 6 | photosynthetic_cyanobacteria  | Season | wet | -1.283067 | 0.2070695 | 1.647151e-08 | Seasonwet | 1.811866e-07 | 96 | 96 | Water |\n",
       "\n"
      ],
      "text/plain": [
       "  feature                       metadata value coef      stderr    pval        \n",
       "1 human_pathogens_all           Season   wet   -3.851340 0.2628732 1.092952e-25\n",
       "2 human_associated              Season   wet   -3.851340 0.2628732 1.092952e-25\n",
       "3 aerobic_ammonia_oxidation     Season   wet    4.547996 0.6195914 8.527209e-11\n",
       "4 nitrification                 Season   wet    4.547996 0.6195914 8.527209e-11\n",
       "5 animal_parasites_or_symbionts Season   wet   -3.397605 0.5236798 4.332234e-09\n",
       "6 photosynthetic_cyanobacteria  Season   wet   -1.283067 0.2070695 1.647151e-08\n",
       "  name      qval         N  N.not.zero Sample_type\n",
       "1 Seasonwet 5.410114e-24 96 67         Water      \n",
       "2 Seasonwet 5.410114e-24 96 67         Water      \n",
       "3 Seasonwet 2.110484e-09 96 95         Water      \n",
       "4 Seasonwet 2.110484e-09 96 95         Water      \n",
       "5 Seasonwet 8.577823e-08 96 78         Water      \n",
       "6 Seasonwet 1.811866e-07 96 96         Water      "
      ]
     },
     "metadata": {},
     "output_type": "display_data"
    }
   ],
   "source": [
    "#view data\n",
    "head(sediment_df)\n",
    "head(coral_df)\n",
    "head(wat_df)"
   ]
  },
  {
   "cell_type": "code",
   "execution_count": 32,
   "id": "ac251809-3d3d-4298-917d-fbcfd9f6f265",
   "metadata": {},
   "outputs": [
    {
     "data": {
      "text/html": [
       "<table class=\"dataframe\">\n",
       "<caption>A data.frame: 6 × 11</caption>\n",
       "<thead>\n",
       "\t<tr><th></th><th scope=col>feature</th><th scope=col>metadata</th><th scope=col>value</th><th scope=col>coef</th><th scope=col>stderr</th><th scope=col>pval</th><th scope=col>name</th><th scope=col>qval</th><th scope=col>N</th><th scope=col>N.not.zero</th><th scope=col>Sample_type</th></tr>\n",
       "\t<tr><th></th><th scope=col>&lt;chr&gt;</th><th scope=col>&lt;chr&gt;</th><th scope=col>&lt;chr&gt;</th><th scope=col>&lt;dbl&gt;</th><th scope=col>&lt;dbl&gt;</th><th scope=col>&lt;dbl&gt;</th><th scope=col>&lt;chr&gt;</th><th scope=col>&lt;dbl&gt;</th><th scope=col>&lt;int&gt;</th><th scope=col>&lt;int&gt;</th><th scope=col>&lt;chr&gt;</th></tr>\n",
       "</thead>\n",
       "<tbody>\n",
       "\t<tr><th scope=row>1</th><td>human_pathogens_all          </td><td>Season</td><td>wet</td><td>-3.851340</td><td>0.2628732</td><td>1.092952e-25</td><td>Seasonwet</td><td>5.410114e-24</td><td>96</td><td>67</td><td>Sediment</td></tr>\n",
       "\t<tr><th scope=row>2</th><td>human_associated             </td><td>Season</td><td>wet</td><td>-3.851340</td><td>0.2628732</td><td>1.092952e-25</td><td>Seasonwet</td><td>5.410114e-24</td><td>96</td><td>67</td><td>Sediment</td></tr>\n",
       "\t<tr><th scope=row>3</th><td>aerobic_ammonia_oxidation    </td><td>Season</td><td>wet</td><td> 4.547996</td><td>0.6195914</td><td>8.527209e-11</td><td>Seasonwet</td><td>2.110484e-09</td><td>96</td><td>95</td><td>Sediment</td></tr>\n",
       "\t<tr><th scope=row>4</th><td>nitrification                </td><td>Season</td><td>wet</td><td> 4.547996</td><td>0.6195914</td><td>8.527209e-11</td><td>Seasonwet</td><td>2.110484e-09</td><td>96</td><td>95</td><td>Sediment</td></tr>\n",
       "\t<tr><th scope=row>5</th><td>animal_parasites_or_symbionts</td><td>Season</td><td>wet</td><td>-3.397605</td><td>0.5236798</td><td>4.332234e-09</td><td>Seasonwet</td><td>8.577823e-08</td><td>96</td><td>78</td><td>Sediment</td></tr>\n",
       "\t<tr><th scope=row>6</th><td>photosynthetic_cyanobacteria </td><td>Season</td><td>wet</td><td>-1.283067</td><td>0.2070695</td><td>1.647151e-08</td><td>Seasonwet</td><td>1.811866e-07</td><td>96</td><td>96</td><td>Sediment</td></tr>\n",
       "</tbody>\n",
       "</table>\n"
      ],
      "text/latex": [
       "A data.frame: 6 × 11\n",
       "\\begin{tabular}{r|lllllllllll}\n",
       "  & feature & metadata & value & coef & stderr & pval & name & qval & N & N.not.zero & Sample\\_type\\\\\n",
       "  & <chr> & <chr> & <chr> & <dbl> & <dbl> & <dbl> & <chr> & <dbl> & <int> & <int> & <chr>\\\\\n",
       "\\hline\n",
       "\t1 & human\\_pathogens\\_all           & Season & wet & -3.851340 & 0.2628732 & 1.092952e-25 & Seasonwet & 5.410114e-24 & 96 & 67 & Sediment\\\\\n",
       "\t2 & human\\_associated              & Season & wet & -3.851340 & 0.2628732 & 1.092952e-25 & Seasonwet & 5.410114e-24 & 96 & 67 & Sediment\\\\\n",
       "\t3 & aerobic\\_ammonia\\_oxidation     & Season & wet &  4.547996 & 0.6195914 & 8.527209e-11 & Seasonwet & 2.110484e-09 & 96 & 95 & Sediment\\\\\n",
       "\t4 & nitrification                 & Season & wet &  4.547996 & 0.6195914 & 8.527209e-11 & Seasonwet & 2.110484e-09 & 96 & 95 & Sediment\\\\\n",
       "\t5 & animal\\_parasites\\_or\\_symbionts & Season & wet & -3.397605 & 0.5236798 & 4.332234e-09 & Seasonwet & 8.577823e-08 & 96 & 78 & Sediment\\\\\n",
       "\t6 & photosynthetic\\_cyanobacteria  & Season & wet & -1.283067 & 0.2070695 & 1.647151e-08 & Seasonwet & 1.811866e-07 & 96 & 96 & Sediment\\\\\n",
       "\\end{tabular}\n"
      ],
      "text/markdown": [
       "\n",
       "A data.frame: 6 × 11\n",
       "\n",
       "| <!--/--> | feature &lt;chr&gt; | metadata &lt;chr&gt; | value &lt;chr&gt; | coef &lt;dbl&gt; | stderr &lt;dbl&gt; | pval &lt;dbl&gt; | name &lt;chr&gt; | qval &lt;dbl&gt; | N &lt;int&gt; | N.not.zero &lt;int&gt; | Sample_type &lt;chr&gt; |\n",
       "|---|---|---|---|---|---|---|---|---|---|---|---|\n",
       "| 1 | human_pathogens_all           | Season | wet | -3.851340 | 0.2628732 | 1.092952e-25 | Seasonwet | 5.410114e-24 | 96 | 67 | Sediment |\n",
       "| 2 | human_associated              | Season | wet | -3.851340 | 0.2628732 | 1.092952e-25 | Seasonwet | 5.410114e-24 | 96 | 67 | Sediment |\n",
       "| 3 | aerobic_ammonia_oxidation     | Season | wet |  4.547996 | 0.6195914 | 8.527209e-11 | Seasonwet | 2.110484e-09 | 96 | 95 | Sediment |\n",
       "| 4 | nitrification                 | Season | wet |  4.547996 | 0.6195914 | 8.527209e-11 | Seasonwet | 2.110484e-09 | 96 | 95 | Sediment |\n",
       "| 5 | animal_parasites_or_symbionts | Season | wet | -3.397605 | 0.5236798 | 4.332234e-09 | Seasonwet | 8.577823e-08 | 96 | 78 | Sediment |\n",
       "| 6 | photosynthetic_cyanobacteria  | Season | wet | -1.283067 | 0.2070695 | 1.647151e-08 | Seasonwet | 1.811866e-07 | 96 | 96 | Sediment |\n",
       "\n"
      ],
      "text/plain": [
       "  feature                       metadata value coef      stderr    pval        \n",
       "1 human_pathogens_all           Season   wet   -3.851340 0.2628732 1.092952e-25\n",
       "2 human_associated              Season   wet   -3.851340 0.2628732 1.092952e-25\n",
       "3 aerobic_ammonia_oxidation     Season   wet    4.547996 0.6195914 8.527209e-11\n",
       "4 nitrification                 Season   wet    4.547996 0.6195914 8.527209e-11\n",
       "5 animal_parasites_or_symbionts Season   wet   -3.397605 0.5236798 4.332234e-09\n",
       "6 photosynthetic_cyanobacteria  Season   wet   -1.283067 0.2070695 1.647151e-08\n",
       "  name      qval         N  N.not.zero Sample_type\n",
       "1 Seasonwet 5.410114e-24 96 67         Sediment   \n",
       "2 Seasonwet 5.410114e-24 96 67         Sediment   \n",
       "3 Seasonwet 2.110484e-09 96 95         Sediment   \n",
       "4 Seasonwet 2.110484e-09 96 95         Sediment   \n",
       "5 Seasonwet 8.577823e-08 96 78         Sediment   \n",
       "6 Seasonwet 1.811866e-07 96 96         Sediment   "
      ]
     },
     "metadata": {},
     "output_type": "display_data"
    },
    {
     "data": {
      "text/html": [
       "<style>\n",
       ".list-inline {list-style: none; margin:0; padding: 0}\n",
       ".list-inline>li {display: inline-block}\n",
       ".list-inline>li:not(:last-child)::after {content: \"\\00b7\"; padding: 0 .5ex}\n",
       "</style>\n",
       "<ol class=list-inline><li>303</li><li>11</li></ol>\n"
      ],
      "text/latex": [
       "\\begin{enumerate*}\n",
       "\\item 303\n",
       "\\item 11\n",
       "\\end{enumerate*}\n"
      ],
      "text/markdown": [
       "1. 303\n",
       "2. 11\n",
       "\n",
       "\n"
      ],
      "text/plain": [
       "[1] 303  11"
      ]
     },
     "metadata": {},
     "output_type": "display_data"
    }
   ],
   "source": [
    "# combine the results from each dataframe \n",
    "combo_df=rbind(sediment_df, coral_df, wat_df)\n",
    "head(combo_df)\n",
    "dim(combo_df)"
   ]
  },
  {
   "cell_type": "code",
   "execution_count": 33,
   "id": "37eed031-b25b-47af-aba6-101e04bb1531",
   "metadata": {},
   "outputs": [
    {
     "data": {
      "image/png": "[encoded data removed]",
      "text/plain": [
       "plot without title"
      ]
     },
     "metadata": {
      "image/png": {
       "height": 420,
       "width": 420
      }
     },
     "output_type": "display_data"
    }
   ],
   "source": [
    "combo_df$value<- factor(combo_df$value, levels = c(\"Vulnerable\",\n",
    "                                                         \"Epidemic\",\"Endemic\"))\n",
    "combo_df$Sample_type <- factor(combo_df$Sample_type, levels = c(\"Coral\", \"Water\", \"Sediment\"))\n",
    "\n",
    "combo_df %>%\n",
    "mutate(across(where(is.character), ~ str_replace_all(.x, \"_\", \" \"))) %>%\n",
    "filter(value!=\"wet\") %>%\n",
    "filter(pval <0.05) %>%\n",
    "filter(coef > 1.5 | coef < -1.5)  %>% \n",
    "ggplot( \n",
    "           aes(coef, y = feature)\n",
    "              ) + \n",
    "geom_point(aes(color=Sample_type)) +\n",
    "facet_grid(.~value) +\n",
    "  theme_pubclean() +\n",
    "scale_color_manual(\"Taxa\", values=c(  \"#AD6F3B\", \"#6F8FAF\", \"#800020\")) +\n",
    "  guides(\n",
    "         color = guide_legend(order = 2, nrow=1, \n",
    "         #keyheight = unit(0.2, 'inch'),\n",
    "                             #title.position = \"top\", \n",
    "                              title=\" Sample Type\"\n",
    "                             ), \n",
    "         size = guide_legend(order = 1, ncol=1)) +\n",
    "theme(strip.background=element_rect(fill=\"white\")) +\n",
    "theme(legend.text =element_text(size=3)) +\n",
    "theme(legend.title = element_text(size=4)) +\n",
    "theme(axis.title.x = element_text(size = 4)) +\n",
    "theme(axis.title.y = element_text(size = 4)) +\n",
    "theme(axis.text.x = element_text(size =4)) +\n",
    "theme(axis.text.y = element_text(size =4)) +\n",
    "theme(strip.text.x = element_text(size =4)) +\n",
    "xlab(\"coefficient\") +\n",
    "ylab(\"Features\")\n",
    "ggsave(\"/Users/stephanie.rosales/Documents/Tissueloss/EPA2/Figures/Figure7.png\",\n",
    "     width = 4.5, height = 4, units = \"in\", dpi=300)"
   ]
  },
  {
   "cell_type": "code",
   "execution_count": 34,
   "id": "088605d6-1a80-4498-a774-8b373508a3eb",
   "metadata": {},
   "outputs": [
    {
     "data": {
      "text/html": [
       "<table class=\"dataframe\">\n",
       "<caption>A data.frame: 0 × 3</caption>\n",
       "<thead>\n",
       "\t<tr><th scope=col>name</th><th scope=col>n</th><th scope=col>total_count</th></tr>\n",
       "\t<tr><th scope=col>&lt;chr&gt;</th><th scope=col>&lt;int&gt;</th><th scope=col>&lt;int&gt;</th></tr>\n",
       "</thead>\n",
       "<tbody>\n",
       "</tbody>\n",
       "</table>\n"
      ],
      "text/latex": [
       "A data.frame: 0 × 3\n",
       "\\begin{tabular}{lll}\n",
       " name & n & total\\_count\\\\\n",
       " <chr> & <int> & <int>\\\\\n",
       "\\hline\n",
       "\\end{tabular}\n"
      ],
      "text/markdown": [
       "\n",
       "A data.frame: 0 × 3\n",
       "\n",
       "| name &lt;chr&gt; | n &lt;int&gt; | total_count &lt;int&gt; |\n",
       "|---|---|---|\n",
       "\n"
      ],
      "text/plain": [
       "     name n total_count"
      ]
     },
     "metadata": {},
     "output_type": "display_data"
    },
    {
     "data": {
      "text/html": [
       "<table class=\"dataframe\">\n",
       "<caption>A data.frame: 1 × 3</caption>\n",
       "<thead>\n",
       "\t<tr><th></th><th scope=col>name</th><th scope=col>n</th><th scope=col>total_count</th></tr>\n",
       "\t<tr><th></th><th scope=col>&lt;chr&gt;</th><th scope=col>&lt;int&gt;</th><th scope=col>&lt;int&gt;</th></tr>\n",
       "</thead>\n",
       "<tbody>\n",
       "\t<tr><th scope=row>1</th><td>Site.StatusEpidemic</td><td>7</td><td>7</td></tr>\n",
       "</tbody>\n",
       "</table>\n"
      ],
      "text/latex": [
       "A data.frame: 1 × 3\n",
       "\\begin{tabular}{r|lll}\n",
       "  & name & n & total\\_count\\\\\n",
       "  & <chr> & <int> & <int>\\\\\n",
       "\\hline\n",
       "\t1 & Site.StatusEpidemic & 7 & 7\\\\\n",
       "\\end{tabular}\n"
      ],
      "text/markdown": [
       "\n",
       "A data.frame: 1 × 3\n",
       "\n",
       "| <!--/--> | name &lt;chr&gt; | n &lt;int&gt; | total_count &lt;int&gt; |\n",
       "|---|---|---|---|\n",
       "| 1 | Site.StatusEpidemic | 7 | 7 |\n",
       "\n"
      ],
      "text/plain": [
       "  name                n total_count\n",
       "1 Site.StatusEpidemic 7 7          "
      ]
     },
     "metadata": {},
     "output_type": "display_data"
    },
    {
     "data": {
      "text/html": [
       "<table class=\"dataframe\">\n",
       "<caption>A data.frame: 0 × 3</caption>\n",
       "<thead>\n",
       "\t<tr><th scope=col>name</th><th scope=col>n</th><th scope=col>total_count</th></tr>\n",
       "\t<tr><th scope=col>&lt;chr&gt;</th><th scope=col>&lt;int&gt;</th><th scope=col>&lt;int&gt;</th></tr>\n",
       "</thead>\n",
       "<tbody>\n",
       "</tbody>\n",
       "</table>\n"
      ],
      "text/latex": [
       "A data.frame: 0 × 3\n",
       "\\begin{tabular}{lll}\n",
       " name & n & total\\_count\\\\\n",
       " <chr> & <int> & <int>\\\\\n",
       "\\hline\n",
       "\\end{tabular}\n"
      ],
      "text/markdown": [
       "\n",
       "A data.frame: 0 × 3\n",
       "\n",
       "| name &lt;chr&gt; | n &lt;int&gt; | total_count &lt;int&gt; |\n",
       "|---|---|---|\n",
       "\n"
      ],
      "text/plain": [
       "     name n total_count"
      ]
     },
     "metadata": {},
     "output_type": "display_data"
    }
   ],
   "source": [
    "# count significant values over 2-fold change\n",
    "\n",
    "sediment_df %>%\n",
    "  filter(value != \"wet\", qval <= 0.05) %>%\n",
    "filter(coef > 2 | coef < -2)  %>% \n",
    "  count(name) %>%\n",
    "\n",
    "  filter(str_detect(name, \"Epidemic\")) %>%\n",
    "  mutate(total_count = sum(n))  %>% # Adds a column with the total sum of counts\n",
    "\n",
    "head()\n",
    "\n",
    "coral_df %>%\n",
    "filter(coef > 2 | coef < -2)  %>% \n",
    "  filter(value != \"wet\", qval <= 0.05) %>%\n",
    "  count(name) %>%\n",
    "\n",
    "  filter(str_detect(name, \"Epidemic\")) %>%\n",
    "  mutate(total_count = sum(n))  %>% # Adds a column with the total sum of counts\n",
    "\n",
    "head()\n",
    "\n",
    "wat_df %>%\n",
    "filter(coef > 2 | coef < -2)  %>% \n",
    "filter(value != \"wet\", qval <= 0.05) %>%\n",
    "  count(name) %>%\n",
    "  filter(str_detect(name, \"Epidemic\")) %>%\n",
    "  mutate(total_count = sum(n))  %>% # Adds a column with the total sum of counts\n",
    "head()"
   ]
  },
  {
   "cell_type": "code",
   "execution_count": 35,
   "id": "2065fc18-c9b5-4680-89a1-8b546aec4806",
   "metadata": {},
   "outputs": [
    {
     "data": {
      "text/html": [
       "<table class=\"dataframe\">\n",
       "<caption>A data.frame: 0 × 3</caption>\n",
       "<thead>\n",
       "\t<tr><th scope=col>name</th><th scope=col>n</th><th scope=col>total_count</th></tr>\n",
       "\t<tr><th scope=col>&lt;chr&gt;</th><th scope=col>&lt;int&gt;</th><th scope=col>&lt;int&gt;</th></tr>\n",
       "</thead>\n",
       "<tbody>\n",
       "</tbody>\n",
       "</table>\n"
      ],
      "text/latex": [
       "A data.frame: 0 × 3\n",
       "\\begin{tabular}{lll}\n",
       " name & n & total\\_count\\\\\n",
       " <chr> & <int> & <int>\\\\\n",
       "\\hline\n",
       "\\end{tabular}\n"
      ],
      "text/markdown": [
       "\n",
       "A data.frame: 0 × 3\n",
       "\n",
       "| name &lt;chr&gt; | n &lt;int&gt; | total_count &lt;int&gt; |\n",
       "|---|---|---|\n",
       "\n"
      ],
      "text/plain": [
       "     name n total_count"
      ]
     },
     "metadata": {},
     "output_type": "display_data"
    },
    {
     "data": {
      "text/html": [
       "<table class=\"dataframe\">\n",
       "<caption>A data.frame: 1 × 3</caption>\n",
       "<thead>\n",
       "\t<tr><th></th><th scope=col>name</th><th scope=col>n</th><th scope=col>total_count</th></tr>\n",
       "\t<tr><th></th><th scope=col>&lt;chr&gt;</th><th scope=col>&lt;int&gt;</th><th scope=col>&lt;int&gt;</th></tr>\n",
       "</thead>\n",
       "<tbody>\n",
       "\t<tr><th scope=row>1</th><td>Site.StatusEndemic</td><td>4</td><td>4</td></tr>\n",
       "</tbody>\n",
       "</table>\n"
      ],
      "text/latex": [
       "A data.frame: 1 × 3\n",
       "\\begin{tabular}{r|lll}\n",
       "  & name & n & total\\_count\\\\\n",
       "  & <chr> & <int> & <int>\\\\\n",
       "\\hline\n",
       "\t1 & Site.StatusEndemic & 4 & 4\\\\\n",
       "\\end{tabular}\n"
      ],
      "text/markdown": [
       "\n",
       "A data.frame: 1 × 3\n",
       "\n",
       "| <!--/--> | name &lt;chr&gt; | n &lt;int&gt; | total_count &lt;int&gt; |\n",
       "|---|---|---|---|\n",
       "| 1 | Site.StatusEndemic | 4 | 4 |\n",
       "\n"
      ],
      "text/plain": [
       "  name               n total_count\n",
       "1 Site.StatusEndemic 4 4          "
      ]
     },
     "metadata": {},
     "output_type": "display_data"
    },
    {
     "data": {
      "text/html": [
       "<table class=\"dataframe\">\n",
       "<caption>A data.frame: 0 × 3</caption>\n",
       "<thead>\n",
       "\t<tr><th scope=col>name</th><th scope=col>n</th><th scope=col>total_count</th></tr>\n",
       "\t<tr><th scope=col>&lt;chr&gt;</th><th scope=col>&lt;int&gt;</th><th scope=col>&lt;int&gt;</th></tr>\n",
       "</thead>\n",
       "<tbody>\n",
       "</tbody>\n",
       "</table>\n"
      ],
      "text/latex": [
       "A data.frame: 0 × 3\n",
       "\\begin{tabular}{lll}\n",
       " name & n & total\\_count\\\\\n",
       " <chr> & <int> & <int>\\\\\n",
       "\\hline\n",
       "\\end{tabular}\n"
      ],
      "text/markdown": [
       "\n",
       "A data.frame: 0 × 3\n",
       "\n",
       "| name &lt;chr&gt; | n &lt;int&gt; | total_count &lt;int&gt; |\n",
       "|---|---|---|\n",
       "\n"
      ],
      "text/plain": [
       "     name n total_count"
      ]
     },
     "metadata": {},
     "output_type": "display_data"
    }
   ],
   "source": [
    "sediment_df %>%\n",
    "  filter(value != \"wet\", qval <= 0.05) %>%\n",
    "filter(coef > 2 | coef < -2)  %>% \n",
    "  count(name) %>%\n",
    "  filter(str_detect(name, \"Endemic\")) %>%\n",
    "  mutate(total_count = sum(n))  %>% # Adds a column with the total sum of counts\n",
    "\n",
    "head()\n",
    "\n",
    "coral_df %>%\n",
    "  filter(value != \"wet\", qval <= 0.05) %>%\n",
    "filter(coef > 2 | coef < -2)  %>% \n",
    "  count(name) %>%\n",
    "  filter(str_detect(name, \"Endemic\")) %>%\n",
    "  mutate(total_count = sum(n))  %>% # Adds a column with the total sum of counts\n",
    "\n",
    "head()\n",
    "\n",
    "wat_df %>%\n",
    "filter(value != \"wet\", qval <= 0.05) %>%\n",
    "filter(coef > 2 | coef < -2)  %>% \n",
    "  count(name) %>%\n",
    "  filter(str_detect(name, \"Endemic\")) %>%\n",
    "  mutate(total_count = sum(n))  %>% # Adds a column with the total sum of counts\n",
    "head()"
   ]
  }
 ],
 "metadata": {
  "kernelspec": {
   "display_name": "R",
   "language": "R",
   "name": "ir"
  },
  "language_info": {
   "codemirror_mode": "r",
   "file_extension": ".r",
   "mimetype": "text/x-r-source",
   "name": "R",
   "pygments_lexer": "r",
   "version": "4.4.1"
  }
 },
 "nbformat": 4,
 "nbformat_minor": 5
}
